{
 "cells": [
  {
   "cell_type": "code",
   "execution_count": 69,
   "metadata": {},
   "outputs": [],
   "source": [
    "import pandas as pd\n",
    "from sklearn.preprocessing import StandardScaler\n",
    "from sklearn.decomposition import PCA\n",
    "from sklearn.cluster import AgglomerativeClustering\n",
    "import hvplot.pandas\n",
    "from sklearn.cluster import KMeans\n",
    "import plotly.express as px\n",
    "import hvplot.pandas"
   ]
  },
  {
   "cell_type": "markdown",
   "metadata": {},
   "source": [
    "## Data Preprocessing"
   ]
  },
  {
   "cell_type": "code",
   "execution_count": 70,
   "metadata": {},
   "outputs": [
    {
     "data": {
      "text/html": [
       "<div>\n",
       "<style scoped>\n",
       "    .dataframe tbody tr th:only-of-type {\n",
       "        vertical-align: middle;\n",
       "    }\n",
       "\n",
       "    .dataframe tbody tr th {\n",
       "        vertical-align: top;\n",
       "    }\n",
       "\n",
       "    .dataframe thead th {\n",
       "        text-align: right;\n",
       "    }\n",
       "</style>\n",
       "<table border=\"1\" class=\"dataframe\">\n",
       "  <thead>\n",
       "    <tr style=\"text-align: right;\">\n",
       "      <th></th>\n",
       "      <th>Unnamed: 0</th>\n",
       "      <th>CoinName</th>\n",
       "      <th>Algorithm</th>\n",
       "      <th>IsTrading</th>\n",
       "      <th>ProofType</th>\n",
       "      <th>TotalCoinsMined</th>\n",
       "      <th>TotalCoinSupply</th>\n",
       "    </tr>\n",
       "  </thead>\n",
       "  <tbody>\n",
       "    <tr>\n",
       "      <th>0</th>\n",
       "      <td>42</td>\n",
       "      <td>42 Coin</td>\n",
       "      <td>Scrypt</td>\n",
       "      <td>True</td>\n",
       "      <td>PoW/PoS</td>\n",
       "      <td>4.199995e+01</td>\n",
       "      <td>42</td>\n",
       "    </tr>\n",
       "    <tr>\n",
       "      <th>1</th>\n",
       "      <td>365</td>\n",
       "      <td>365Coin</td>\n",
       "      <td>X11</td>\n",
       "      <td>True</td>\n",
       "      <td>PoW/PoS</td>\n",
       "      <td>NaN</td>\n",
       "      <td>2300000000</td>\n",
       "    </tr>\n",
       "    <tr>\n",
       "      <th>2</th>\n",
       "      <td>404</td>\n",
       "      <td>404Coin</td>\n",
       "      <td>Scrypt</td>\n",
       "      <td>True</td>\n",
       "      <td>PoW/PoS</td>\n",
       "      <td>1.055185e+09</td>\n",
       "      <td>532000000</td>\n",
       "    </tr>\n",
       "    <tr>\n",
       "      <th>3</th>\n",
       "      <td>611</td>\n",
       "      <td>SixEleven</td>\n",
       "      <td>SHA-256</td>\n",
       "      <td>True</td>\n",
       "      <td>PoW</td>\n",
       "      <td>NaN</td>\n",
       "      <td>611000</td>\n",
       "    </tr>\n",
       "    <tr>\n",
       "      <th>4</th>\n",
       "      <td>808</td>\n",
       "      <td>808</td>\n",
       "      <td>SHA-256</td>\n",
       "      <td>True</td>\n",
       "      <td>PoW/PoS</td>\n",
       "      <td>0.000000e+00</td>\n",
       "      <td>0</td>\n",
       "    </tr>\n",
       "  </tbody>\n",
       "</table>\n",
       "</div>"
      ],
      "text/plain": [
       "  Unnamed: 0   CoinName Algorithm  IsTrading ProofType  TotalCoinsMined  \\\n",
       "0         42    42 Coin    Scrypt       True   PoW/PoS     4.199995e+01   \n",
       "1        365    365Coin       X11       True   PoW/PoS              NaN   \n",
       "2        404    404Coin    Scrypt       True   PoW/PoS     1.055185e+09   \n",
       "3        611  SixEleven   SHA-256       True       PoW              NaN   \n",
       "4        808        808   SHA-256       True   PoW/PoS     0.000000e+00   \n",
       "\n",
       "  TotalCoinSupply  \n",
       "0              42  \n",
       "1      2300000000  \n",
       "2       532000000  \n",
       "3          611000  \n",
       "4               0  "
      ]
     },
     "execution_count": 70,
     "metadata": {},
     "output_type": "execute_result"
    }
   ],
   "source": [
    "#Load the data \n",
    "file_path = \"Resources/crypto_data.csv\"\n",
    "crypto_df = pd.read_csv(file_path)\n",
    "crypto_df.head()"
   ]
  },
  {
   "cell_type": "code",
   "execution_count": 71,
   "metadata": {},
   "outputs": [
    {
     "data": {
      "text/plain": [
       "Unnamed: 0          object\n",
       "CoinName            object\n",
       "Algorithm           object\n",
       "IsTrading             bool\n",
       "ProofType           object\n",
       "TotalCoinsMined    float64\n",
       "TotalCoinSupply     object\n",
       "dtype: object"
      ]
     },
     "execution_count": 71,
     "metadata": {},
     "output_type": "execute_result"
    }
   ],
   "source": [
    "crypto_df.dtypes"
   ]
  },
  {
   "cell_type": "code",
   "execution_count": 72,
   "metadata": {},
   "outputs": [
    {
     "data": {
      "text/plain": [
       "(1252, 7)"
      ]
     },
     "execution_count": 72,
     "metadata": {},
     "output_type": "execute_result"
    }
   ],
   "source": [
    "#Find the number of rows in the DataFrame\n",
    "crypto_df.shape"
   ]
  },
  {
   "cell_type": "code",
   "execution_count": 73,
   "metadata": {},
   "outputs": [],
   "source": [
    "#filter the DataFrame for only trading cryptos\n",
    "crypto_df = crypto_df[crypto_df[\"IsTrading\"]==1]"
   ]
  },
  {
   "cell_type": "code",
   "execution_count": 74,
   "metadata": {},
   "outputs": [
    {
     "data": {
      "text/plain": [
       "(1144, 7)"
      ]
     },
     "execution_count": 74,
     "metadata": {},
     "output_type": "execute_result"
    }
   ],
   "source": [
    "#find the new number of rows in the filtered DataFrame\n",
    "crypto_df.shape"
   ]
  },
  {
   "cell_type": "code",
   "execution_count": 75,
   "metadata": {},
   "outputs": [],
   "source": [
    "#Remove all cryptos that don't have a defined algorithm\n",
    "crypto_df = crypto_df[crypto_df[\"Algorithm\"]!=\"Multiple\"]"
   ]
  },
  {
   "cell_type": "code",
   "execution_count": 76,
   "metadata": {},
   "outputs": [
    {
     "data": {
      "text/plain": [
       "(1126, 7)"
      ]
     },
     "execution_count": 76,
     "metadata": {},
     "output_type": "execute_result"
    }
   ],
   "source": [
    "#Find the new number of rows in the filtered DataFrame\n",
    "crypto_df.shape"
   ]
  },
  {
   "cell_type": "code",
   "execution_count": 77,
   "metadata": {},
   "outputs": [],
   "source": [
    "#Drop null values\n",
    "crypto_df = crypto_df.dropna()"
   ]
  },
  {
   "cell_type": "code",
   "execution_count": 78,
   "metadata": {},
   "outputs": [
    {
     "data": {
      "text/plain": [
       "(674, 7)"
      ]
     },
     "execution_count": 78,
     "metadata": {},
     "output_type": "execute_result"
    }
   ],
   "source": [
    "#Find the new number of rows in the filtered DataFrame\n",
    "crypto_df.shape"
   ]
  },
  {
   "cell_type": "code",
   "execution_count": 79,
   "metadata": {},
   "outputs": [],
   "source": [
    "#Remove cryptos that have not mined any coins\n",
    "crypto_df = crypto_df[crypto_df[\"TotalCoinsMined\"]!=0]"
   ]
  },
  {
   "cell_type": "code",
   "execution_count": 80,
   "metadata": {},
   "outputs": [
    {
     "data": {
      "text/plain": [
       "(524, 7)"
      ]
     },
     "execution_count": 80,
     "metadata": {},
     "output_type": "execute_result"
    }
   ],
   "source": [
    "#Find the new number of rows in the filtered DataFrame\n",
    "crypto_df.shape"
   ]
  },
  {
   "cell_type": "code",
   "execution_count": 81,
   "metadata": {},
   "outputs": [
    {
     "data": {
      "text/plain": [
       "Index(['Unnamed: 0', 'CoinName', 'Algorithm', 'IsTrading', 'ProofType',\n",
       "       'TotalCoinsMined', 'TotalCoinSupply'],\n",
       "      dtype='object')"
      ]
     },
     "execution_count": 81,
     "metadata": {},
     "output_type": "execute_result"
    }
   ],
   "source": [
    "#Print the name of columns in the DataFrame\n",
    "crypto_df.columns"
   ]
  },
  {
   "cell_type": "code",
   "execution_count": 82,
   "metadata": {},
   "outputs": [],
   "source": [
    "#Put the names of the coins into a new DataFrame\n",
    "coins_name = crypto_df[\"CoinName\"]"
   ]
  },
  {
   "cell_type": "code",
   "execution_count": 83,
   "metadata": {},
   "outputs": [
    {
     "data": {
      "text/plain": [
       "0      42 Coin\n",
       "2      404Coin\n",
       "5    EliteCoin\n",
       "7      Bitcoin\n",
       "8     Ethereum\n",
       "Name: CoinName, dtype: object"
      ]
     },
     "execution_count": 83,
     "metadata": {},
     "output_type": "execute_result"
    }
   ],
   "source": [
    "#Examine the new coins name DataFrame\n",
    "coins_name.head()"
   ]
  },
  {
   "cell_type": "code",
   "execution_count": 84,
   "metadata": {},
   "outputs": [],
   "source": [
    "#create a copy dataframe for potential later use\n",
    "crypto_df_copy = crypto_df.copy()"
   ]
  },
  {
   "cell_type": "code",
   "execution_count": 85,
   "metadata": {},
   "outputs": [],
   "source": [
    "#Drop the CoinName column\n",
    "crypto_df.drop(columns=\"CoinName\",inplace=True)"
   ]
  },
  {
   "cell_type": "code",
   "execution_count": 86,
   "metadata": {},
   "outputs": [],
   "source": [
    "#Drop the IsTrading column\n",
    "crypto_df.drop(columns=\"IsTrading\",inplace=True)"
   ]
  },
  {
   "cell_type": "code",
   "execution_count": 87,
   "metadata": {},
   "outputs": [
    {
     "data": {
      "text/html": [
       "<div>\n",
       "<style scoped>\n",
       "    .dataframe tbody tr th:only-of-type {\n",
       "        vertical-align: middle;\n",
       "    }\n",
       "\n",
       "    .dataframe tbody tr th {\n",
       "        vertical-align: top;\n",
       "    }\n",
       "\n",
       "    .dataframe thead th {\n",
       "        text-align: right;\n",
       "    }\n",
       "</style>\n",
       "<table border=\"1\" class=\"dataframe\">\n",
       "  <thead>\n",
       "    <tr style=\"text-align: right;\">\n",
       "      <th></th>\n",
       "      <th>Unnamed: 0</th>\n",
       "      <th>Algorithm</th>\n",
       "      <th>ProofType</th>\n",
       "      <th>TotalCoinsMined</th>\n",
       "      <th>TotalCoinSupply</th>\n",
       "    </tr>\n",
       "  </thead>\n",
       "  <tbody>\n",
       "    <tr>\n",
       "      <th>0</th>\n",
       "      <td>42</td>\n",
       "      <td>Scrypt</td>\n",
       "      <td>PoW/PoS</td>\n",
       "      <td>4.199995e+01</td>\n",
       "      <td>42</td>\n",
       "    </tr>\n",
       "    <tr>\n",
       "      <th>2</th>\n",
       "      <td>404</td>\n",
       "      <td>Scrypt</td>\n",
       "      <td>PoW/PoS</td>\n",
       "      <td>1.055185e+09</td>\n",
       "      <td>532000000</td>\n",
       "    </tr>\n",
       "    <tr>\n",
       "      <th>5</th>\n",
       "      <td>1337</td>\n",
       "      <td>X13</td>\n",
       "      <td>PoW/PoS</td>\n",
       "      <td>2.927942e+10</td>\n",
       "      <td>314159265359</td>\n",
       "    </tr>\n",
       "    <tr>\n",
       "      <th>7</th>\n",
       "      <td>BTC</td>\n",
       "      <td>SHA-256</td>\n",
       "      <td>PoW</td>\n",
       "      <td>1.792718e+07</td>\n",
       "      <td>21000000</td>\n",
       "    </tr>\n",
       "    <tr>\n",
       "      <th>8</th>\n",
       "      <td>ETH</td>\n",
       "      <td>Ethash</td>\n",
       "      <td>PoW</td>\n",
       "      <td>1.076842e+08</td>\n",
       "      <td>0</td>\n",
       "    </tr>\n",
       "  </tbody>\n",
       "</table>\n",
       "</div>"
      ],
      "text/plain": [
       "  Unnamed: 0 Algorithm ProofType  TotalCoinsMined TotalCoinSupply\n",
       "0         42    Scrypt   PoW/PoS     4.199995e+01              42\n",
       "2        404    Scrypt   PoW/PoS     1.055185e+09       532000000\n",
       "5       1337       X13   PoW/PoS     2.927942e+10    314159265359\n",
       "7        BTC   SHA-256       PoW     1.792718e+07        21000000\n",
       "8        ETH    Ethash       PoW     1.076842e+08               0"
      ]
     },
     "execution_count": 87,
     "metadata": {},
     "output_type": "execute_result"
    }
   ],
   "source": [
    "crypto_df.head()"
   ]
  },
  {
   "cell_type": "code",
   "execution_count": 88,
   "metadata": {},
   "outputs": [
    {
     "data": {
      "text/plain": [
       "(524, 5)"
      ]
     },
     "execution_count": 88,
     "metadata": {},
     "output_type": "execute_result"
    }
   ],
   "source": [
    "crypto_df.shape"
   ]
  },
  {
   "cell_type": "code",
   "execution_count": 89,
   "metadata": {},
   "outputs": [],
   "source": [
    "X_test = pd.get_dummies(crypto_df[\"Algorithm\"])"
   ]
  },
  {
   "cell_type": "code",
   "execution_count": 90,
   "metadata": {},
   "outputs": [
    {
     "data": {
      "text/html": [
       "<div>\n",
       "<style scoped>\n",
       "    .dataframe tbody tr th:only-of-type {\n",
       "        vertical-align: middle;\n",
       "    }\n",
       "\n",
       "    .dataframe tbody tr th {\n",
       "        vertical-align: top;\n",
       "    }\n",
       "\n",
       "    .dataframe thead th {\n",
       "        text-align: right;\n",
       "    }\n",
       "</style>\n",
       "<table border=\"1\" class=\"dataframe\">\n",
       "  <thead>\n",
       "    <tr style=\"text-align: right;\">\n",
       "      <th></th>\n",
       "      <th>1GB AES Pattern Search</th>\n",
       "      <th>536</th>\n",
       "      <th>Argon2d</th>\n",
       "      <th>BLAKE256</th>\n",
       "      <th>Blake</th>\n",
       "      <th>Blake2S</th>\n",
       "      <th>Blake2b</th>\n",
       "      <th>C11</th>\n",
       "      <th>Cloverhash</th>\n",
       "      <th>Counterparty</th>\n",
       "      <th>...</th>\n",
       "      <th>Tribus</th>\n",
       "      <th>VBFT</th>\n",
       "      <th>VeChainThor Authority</th>\n",
       "      <th>X11</th>\n",
       "      <th>X11GOST</th>\n",
       "      <th>X13</th>\n",
       "      <th>X14</th>\n",
       "      <th>X15</th>\n",
       "      <th>X16R</th>\n",
       "      <th>XEVAN</th>\n",
       "    </tr>\n",
       "  </thead>\n",
       "  <tbody>\n",
       "    <tr>\n",
       "      <th>0</th>\n",
       "      <td>0</td>\n",
       "      <td>0</td>\n",
       "      <td>0</td>\n",
       "      <td>0</td>\n",
       "      <td>0</td>\n",
       "      <td>0</td>\n",
       "      <td>0</td>\n",
       "      <td>0</td>\n",
       "      <td>0</td>\n",
       "      <td>0</td>\n",
       "      <td>...</td>\n",
       "      <td>0</td>\n",
       "      <td>0</td>\n",
       "      <td>0</td>\n",
       "      <td>0</td>\n",
       "      <td>0</td>\n",
       "      <td>0</td>\n",
       "      <td>0</td>\n",
       "      <td>0</td>\n",
       "      <td>0</td>\n",
       "      <td>0</td>\n",
       "    </tr>\n",
       "    <tr>\n",
       "      <th>2</th>\n",
       "      <td>0</td>\n",
       "      <td>0</td>\n",
       "      <td>0</td>\n",
       "      <td>0</td>\n",
       "      <td>0</td>\n",
       "      <td>0</td>\n",
       "      <td>0</td>\n",
       "      <td>0</td>\n",
       "      <td>0</td>\n",
       "      <td>0</td>\n",
       "      <td>...</td>\n",
       "      <td>0</td>\n",
       "      <td>0</td>\n",
       "      <td>0</td>\n",
       "      <td>0</td>\n",
       "      <td>0</td>\n",
       "      <td>0</td>\n",
       "      <td>0</td>\n",
       "      <td>0</td>\n",
       "      <td>0</td>\n",
       "      <td>0</td>\n",
       "    </tr>\n",
       "    <tr>\n",
       "      <th>5</th>\n",
       "      <td>0</td>\n",
       "      <td>0</td>\n",
       "      <td>0</td>\n",
       "      <td>0</td>\n",
       "      <td>0</td>\n",
       "      <td>0</td>\n",
       "      <td>0</td>\n",
       "      <td>0</td>\n",
       "      <td>0</td>\n",
       "      <td>0</td>\n",
       "      <td>...</td>\n",
       "      <td>0</td>\n",
       "      <td>0</td>\n",
       "      <td>0</td>\n",
       "      <td>0</td>\n",
       "      <td>0</td>\n",
       "      <td>1</td>\n",
       "      <td>0</td>\n",
       "      <td>0</td>\n",
       "      <td>0</td>\n",
       "      <td>0</td>\n",
       "    </tr>\n",
       "    <tr>\n",
       "      <th>7</th>\n",
       "      <td>0</td>\n",
       "      <td>0</td>\n",
       "      <td>0</td>\n",
       "      <td>0</td>\n",
       "      <td>0</td>\n",
       "      <td>0</td>\n",
       "      <td>0</td>\n",
       "      <td>0</td>\n",
       "      <td>0</td>\n",
       "      <td>0</td>\n",
       "      <td>...</td>\n",
       "      <td>0</td>\n",
       "      <td>0</td>\n",
       "      <td>0</td>\n",
       "      <td>0</td>\n",
       "      <td>0</td>\n",
       "      <td>0</td>\n",
       "      <td>0</td>\n",
       "      <td>0</td>\n",
       "      <td>0</td>\n",
       "      <td>0</td>\n",
       "    </tr>\n",
       "    <tr>\n",
       "      <th>8</th>\n",
       "      <td>0</td>\n",
       "      <td>0</td>\n",
       "      <td>0</td>\n",
       "      <td>0</td>\n",
       "      <td>0</td>\n",
       "      <td>0</td>\n",
       "      <td>0</td>\n",
       "      <td>0</td>\n",
       "      <td>0</td>\n",
       "      <td>0</td>\n",
       "      <td>...</td>\n",
       "      <td>0</td>\n",
       "      <td>0</td>\n",
       "      <td>0</td>\n",
       "      <td>0</td>\n",
       "      <td>0</td>\n",
       "      <td>0</td>\n",
       "      <td>0</td>\n",
       "      <td>0</td>\n",
       "      <td>0</td>\n",
       "      <td>0</td>\n",
       "    </tr>\n",
       "  </tbody>\n",
       "</table>\n",
       "<p>5 rows × 71 columns</p>\n",
       "</div>"
      ],
      "text/plain": [
       "   1GB AES Pattern Search  536  Argon2d  BLAKE256  Blake  Blake2S  Blake2b  \\\n",
       "0                       0    0        0         0      0        0        0   \n",
       "2                       0    0        0         0      0        0        0   \n",
       "5                       0    0        0         0      0        0        0   \n",
       "7                       0    0        0         0      0        0        0   \n",
       "8                       0    0        0         0      0        0        0   \n",
       "\n",
       "   C11  Cloverhash  Counterparty  ...  Tribus  VBFT  VeChainThor Authority  \\\n",
       "0    0           0             0  ...       0     0                      0   \n",
       "2    0           0             0  ...       0     0                      0   \n",
       "5    0           0             0  ...       0     0                      0   \n",
       "7    0           0             0  ...       0     0                      0   \n",
       "8    0           0             0  ...       0     0                      0   \n",
       "\n",
       "   X11  X11GOST  X13  X14  X15  X16R  XEVAN  \n",
       "0    0        0    0    0    0     0      0  \n",
       "2    0        0    0    0    0     0      0  \n",
       "5    0        0    1    0    0     0      0  \n",
       "7    0        0    0    0    0     0      0  \n",
       "8    0        0    0    0    0     0      0  \n",
       "\n",
       "[5 rows x 71 columns]"
      ]
     },
     "execution_count": 90,
     "metadata": {},
     "output_type": "execute_result"
    }
   ],
   "source": [
    "X_test.head()"
   ]
  },
  {
   "cell_type": "code",
   "execution_count": 91,
   "metadata": {},
   "outputs": [],
   "source": [
    "X_test_df=pd.concat([crypto_df,X_test],axis=1)"
   ]
  },
  {
   "cell_type": "code",
   "execution_count": 92,
   "metadata": {},
   "outputs": [
    {
     "data": {
      "text/html": [
       "<div>\n",
       "<style scoped>\n",
       "    .dataframe tbody tr th:only-of-type {\n",
       "        vertical-align: middle;\n",
       "    }\n",
       "\n",
       "    .dataframe tbody tr th {\n",
       "        vertical-align: top;\n",
       "    }\n",
       "\n",
       "    .dataframe thead th {\n",
       "        text-align: right;\n",
       "    }\n",
       "</style>\n",
       "<table border=\"1\" class=\"dataframe\">\n",
       "  <thead>\n",
       "    <tr style=\"text-align: right;\">\n",
       "      <th></th>\n",
       "      <th>Unnamed: 0</th>\n",
       "      <th>Algorithm</th>\n",
       "      <th>ProofType</th>\n",
       "      <th>TotalCoinsMined</th>\n",
       "      <th>TotalCoinSupply</th>\n",
       "      <th>1GB AES Pattern Search</th>\n",
       "      <th>536</th>\n",
       "      <th>Argon2d</th>\n",
       "      <th>BLAKE256</th>\n",
       "      <th>Blake</th>\n",
       "      <th>...</th>\n",
       "      <th>Tribus</th>\n",
       "      <th>VBFT</th>\n",
       "      <th>VeChainThor Authority</th>\n",
       "      <th>X11</th>\n",
       "      <th>X11GOST</th>\n",
       "      <th>X13</th>\n",
       "      <th>X14</th>\n",
       "      <th>X15</th>\n",
       "      <th>X16R</th>\n",
       "      <th>XEVAN</th>\n",
       "    </tr>\n",
       "  </thead>\n",
       "  <tbody>\n",
       "    <tr>\n",
       "      <th>0</th>\n",
       "      <td>42</td>\n",
       "      <td>Scrypt</td>\n",
       "      <td>PoW/PoS</td>\n",
       "      <td>4.199995e+01</td>\n",
       "      <td>42</td>\n",
       "      <td>0</td>\n",
       "      <td>0</td>\n",
       "      <td>0</td>\n",
       "      <td>0</td>\n",
       "      <td>0</td>\n",
       "      <td>...</td>\n",
       "      <td>0</td>\n",
       "      <td>0</td>\n",
       "      <td>0</td>\n",
       "      <td>0</td>\n",
       "      <td>0</td>\n",
       "      <td>0</td>\n",
       "      <td>0</td>\n",
       "      <td>0</td>\n",
       "      <td>0</td>\n",
       "      <td>0</td>\n",
       "    </tr>\n",
       "    <tr>\n",
       "      <th>2</th>\n",
       "      <td>404</td>\n",
       "      <td>Scrypt</td>\n",
       "      <td>PoW/PoS</td>\n",
       "      <td>1.055185e+09</td>\n",
       "      <td>532000000</td>\n",
       "      <td>0</td>\n",
       "      <td>0</td>\n",
       "      <td>0</td>\n",
       "      <td>0</td>\n",
       "      <td>0</td>\n",
       "      <td>...</td>\n",
       "      <td>0</td>\n",
       "      <td>0</td>\n",
       "      <td>0</td>\n",
       "      <td>0</td>\n",
       "      <td>0</td>\n",
       "      <td>0</td>\n",
       "      <td>0</td>\n",
       "      <td>0</td>\n",
       "      <td>0</td>\n",
       "      <td>0</td>\n",
       "    </tr>\n",
       "    <tr>\n",
       "      <th>5</th>\n",
       "      <td>1337</td>\n",
       "      <td>X13</td>\n",
       "      <td>PoW/PoS</td>\n",
       "      <td>2.927942e+10</td>\n",
       "      <td>314159265359</td>\n",
       "      <td>0</td>\n",
       "      <td>0</td>\n",
       "      <td>0</td>\n",
       "      <td>0</td>\n",
       "      <td>0</td>\n",
       "      <td>...</td>\n",
       "      <td>0</td>\n",
       "      <td>0</td>\n",
       "      <td>0</td>\n",
       "      <td>0</td>\n",
       "      <td>0</td>\n",
       "      <td>1</td>\n",
       "      <td>0</td>\n",
       "      <td>0</td>\n",
       "      <td>0</td>\n",
       "      <td>0</td>\n",
       "    </tr>\n",
       "    <tr>\n",
       "      <th>7</th>\n",
       "      <td>BTC</td>\n",
       "      <td>SHA-256</td>\n",
       "      <td>PoW</td>\n",
       "      <td>1.792718e+07</td>\n",
       "      <td>21000000</td>\n",
       "      <td>0</td>\n",
       "      <td>0</td>\n",
       "      <td>0</td>\n",
       "      <td>0</td>\n",
       "      <td>0</td>\n",
       "      <td>...</td>\n",
       "      <td>0</td>\n",
       "      <td>0</td>\n",
       "      <td>0</td>\n",
       "      <td>0</td>\n",
       "      <td>0</td>\n",
       "      <td>0</td>\n",
       "      <td>0</td>\n",
       "      <td>0</td>\n",
       "      <td>0</td>\n",
       "      <td>0</td>\n",
       "    </tr>\n",
       "    <tr>\n",
       "      <th>8</th>\n",
       "      <td>ETH</td>\n",
       "      <td>Ethash</td>\n",
       "      <td>PoW</td>\n",
       "      <td>1.076842e+08</td>\n",
       "      <td>0</td>\n",
       "      <td>0</td>\n",
       "      <td>0</td>\n",
       "      <td>0</td>\n",
       "      <td>0</td>\n",
       "      <td>0</td>\n",
       "      <td>...</td>\n",
       "      <td>0</td>\n",
       "      <td>0</td>\n",
       "      <td>0</td>\n",
       "      <td>0</td>\n",
       "      <td>0</td>\n",
       "      <td>0</td>\n",
       "      <td>0</td>\n",
       "      <td>0</td>\n",
       "      <td>0</td>\n",
       "      <td>0</td>\n",
       "    </tr>\n",
       "  </tbody>\n",
       "</table>\n",
       "<p>5 rows × 76 columns</p>\n",
       "</div>"
      ],
      "text/plain": [
       "  Unnamed: 0 Algorithm ProofType  TotalCoinsMined TotalCoinSupply  \\\n",
       "0         42    Scrypt   PoW/PoS     4.199995e+01              42   \n",
       "2        404    Scrypt   PoW/PoS     1.055185e+09       532000000   \n",
       "5       1337       X13   PoW/PoS     2.927942e+10    314159265359   \n",
       "7        BTC   SHA-256       PoW     1.792718e+07        21000000   \n",
       "8        ETH    Ethash       PoW     1.076842e+08               0   \n",
       "\n",
       "   1GB AES Pattern Search  536  Argon2d  BLAKE256  Blake  ...  Tribus  VBFT  \\\n",
       "0                       0    0        0         0      0  ...       0     0   \n",
       "2                       0    0        0         0      0  ...       0     0   \n",
       "5                       0    0        0         0      0  ...       0     0   \n",
       "7                       0    0        0         0      0  ...       0     0   \n",
       "8                       0    0        0         0      0  ...       0     0   \n",
       "\n",
       "   VeChainThor Authority  X11  X11GOST  X13  X14  X15  X16R  XEVAN  \n",
       "0                      0    0        0    0    0    0     0      0  \n",
       "2                      0    0        0    0    0    0     0      0  \n",
       "5                      0    0        0    1    0    0     0      0  \n",
       "7                      0    0        0    0    0    0     0      0  \n",
       "8                      0    0        0    0    0    0     0      0  \n",
       "\n",
       "[5 rows x 76 columns]"
      ]
     },
     "execution_count": 92,
     "metadata": {},
     "output_type": "execute_result"
    }
   ],
   "source": [
    "X_test_df.head()"
   ]
  },
  {
   "cell_type": "code",
   "execution_count": 93,
   "metadata": {},
   "outputs": [],
   "source": [
    "X_II  = pd.get_dummies(crypto_df[\"ProofType\"]) "
   ]
  },
  {
   "cell_type": "code",
   "execution_count": 94,
   "metadata": {},
   "outputs": [
    {
     "data": {
      "text/html": [
       "<div>\n",
       "<style scoped>\n",
       "    .dataframe tbody tr th:only-of-type {\n",
       "        vertical-align: middle;\n",
       "    }\n",
       "\n",
       "    .dataframe tbody tr th {\n",
       "        vertical-align: top;\n",
       "    }\n",
       "\n",
       "    .dataframe thead th {\n",
       "        text-align: right;\n",
       "    }\n",
       "</style>\n",
       "<table border=\"1\" class=\"dataframe\">\n",
       "  <thead>\n",
       "    <tr style=\"text-align: right;\">\n",
       "      <th></th>\n",
       "      <th>DPOS</th>\n",
       "      <th>DPoC</th>\n",
       "      <th>DPoS</th>\n",
       "      <th>HPoW</th>\n",
       "      <th>LPoS</th>\n",
       "      <th>POBh</th>\n",
       "      <th>PoA</th>\n",
       "      <th>PoC</th>\n",
       "      <th>PoS</th>\n",
       "      <th>PoS/LPoS</th>\n",
       "      <th>...</th>\n",
       "      <th>PoW/PoS</th>\n",
       "      <th>PoW/PoS</th>\n",
       "      <th>PoW/PoW</th>\n",
       "      <th>PoW/nPoS</th>\n",
       "      <th>Pos</th>\n",
       "      <th>Proof of Authority</th>\n",
       "      <th>Proof of Trust</th>\n",
       "      <th>TPoS</th>\n",
       "      <th>Zero-Knowledge Proof</th>\n",
       "      <th>dPoW/PoW</th>\n",
       "    </tr>\n",
       "  </thead>\n",
       "  <tbody>\n",
       "    <tr>\n",
       "      <th>0</th>\n",
       "      <td>0</td>\n",
       "      <td>0</td>\n",
       "      <td>0</td>\n",
       "      <td>0</td>\n",
       "      <td>0</td>\n",
       "      <td>0</td>\n",
       "      <td>0</td>\n",
       "      <td>0</td>\n",
       "      <td>0</td>\n",
       "      <td>0</td>\n",
       "      <td>...</td>\n",
       "      <td>1</td>\n",
       "      <td>0</td>\n",
       "      <td>0</td>\n",
       "      <td>0</td>\n",
       "      <td>0</td>\n",
       "      <td>0</td>\n",
       "      <td>0</td>\n",
       "      <td>0</td>\n",
       "      <td>0</td>\n",
       "      <td>0</td>\n",
       "    </tr>\n",
       "    <tr>\n",
       "      <th>2</th>\n",
       "      <td>0</td>\n",
       "      <td>0</td>\n",
       "      <td>0</td>\n",
       "      <td>0</td>\n",
       "      <td>0</td>\n",
       "      <td>0</td>\n",
       "      <td>0</td>\n",
       "      <td>0</td>\n",
       "      <td>0</td>\n",
       "      <td>0</td>\n",
       "      <td>...</td>\n",
       "      <td>1</td>\n",
       "      <td>0</td>\n",
       "      <td>0</td>\n",
       "      <td>0</td>\n",
       "      <td>0</td>\n",
       "      <td>0</td>\n",
       "      <td>0</td>\n",
       "      <td>0</td>\n",
       "      <td>0</td>\n",
       "      <td>0</td>\n",
       "    </tr>\n",
       "    <tr>\n",
       "      <th>5</th>\n",
       "      <td>0</td>\n",
       "      <td>0</td>\n",
       "      <td>0</td>\n",
       "      <td>0</td>\n",
       "      <td>0</td>\n",
       "      <td>0</td>\n",
       "      <td>0</td>\n",
       "      <td>0</td>\n",
       "      <td>0</td>\n",
       "      <td>0</td>\n",
       "      <td>...</td>\n",
       "      <td>1</td>\n",
       "      <td>0</td>\n",
       "      <td>0</td>\n",
       "      <td>0</td>\n",
       "      <td>0</td>\n",
       "      <td>0</td>\n",
       "      <td>0</td>\n",
       "      <td>0</td>\n",
       "      <td>0</td>\n",
       "      <td>0</td>\n",
       "    </tr>\n",
       "    <tr>\n",
       "      <th>7</th>\n",
       "      <td>0</td>\n",
       "      <td>0</td>\n",
       "      <td>0</td>\n",
       "      <td>0</td>\n",
       "      <td>0</td>\n",
       "      <td>0</td>\n",
       "      <td>0</td>\n",
       "      <td>0</td>\n",
       "      <td>0</td>\n",
       "      <td>0</td>\n",
       "      <td>...</td>\n",
       "      <td>0</td>\n",
       "      <td>0</td>\n",
       "      <td>0</td>\n",
       "      <td>0</td>\n",
       "      <td>0</td>\n",
       "      <td>0</td>\n",
       "      <td>0</td>\n",
       "      <td>0</td>\n",
       "      <td>0</td>\n",
       "      <td>0</td>\n",
       "    </tr>\n",
       "    <tr>\n",
       "      <th>8</th>\n",
       "      <td>0</td>\n",
       "      <td>0</td>\n",
       "      <td>0</td>\n",
       "      <td>0</td>\n",
       "      <td>0</td>\n",
       "      <td>0</td>\n",
       "      <td>0</td>\n",
       "      <td>0</td>\n",
       "      <td>0</td>\n",
       "      <td>0</td>\n",
       "      <td>...</td>\n",
       "      <td>0</td>\n",
       "      <td>0</td>\n",
       "      <td>0</td>\n",
       "      <td>0</td>\n",
       "      <td>0</td>\n",
       "      <td>0</td>\n",
       "      <td>0</td>\n",
       "      <td>0</td>\n",
       "      <td>0</td>\n",
       "      <td>0</td>\n",
       "    </tr>\n",
       "  </tbody>\n",
       "</table>\n",
       "<p>5 rows × 26 columns</p>\n",
       "</div>"
      ],
      "text/plain": [
       "   DPOS  DPoC  DPoS  HPoW  LPoS  POBh  PoA  PoC  PoS  PoS/LPoS  ...  PoW/PoS  \\\n",
       "0     0     0     0     0     0     0    0    0    0         0  ...        1   \n",
       "2     0     0     0     0     0     0    0    0    0         0  ...        1   \n",
       "5     0     0     0     0     0     0    0    0    0         0  ...        1   \n",
       "7     0     0     0     0     0     0    0    0    0         0  ...        0   \n",
       "8     0     0     0     0     0     0    0    0    0         0  ...        0   \n",
       "\n",
       "   PoW/PoS   PoW/PoW  PoW/nPoS  Pos  Proof of Authority  Proof of Trust  TPoS  \\\n",
       "0         0        0         0    0                   0               0     0   \n",
       "2         0        0         0    0                   0               0     0   \n",
       "5         0        0         0    0                   0               0     0   \n",
       "7         0        0         0    0                   0               0     0   \n",
       "8         0        0         0    0                   0               0     0   \n",
       "\n",
       "   Zero-Knowledge Proof  dPoW/PoW  \n",
       "0                     0         0  \n",
       "2                     0         0  \n",
       "5                     0         0  \n",
       "7                     0         0  \n",
       "8                     0         0  \n",
       "\n",
       "[5 rows x 26 columns]"
      ]
     },
     "execution_count": 94,
     "metadata": {},
     "output_type": "execute_result"
    }
   ],
   "source": [
    "X_II.head()"
   ]
  },
  {
   "cell_type": "code",
   "execution_count": 95,
   "metadata": {},
   "outputs": [],
   "source": [
    "X=pd.concat([X_test_df,X_II],axis=1)"
   ]
  },
  {
   "cell_type": "code",
   "execution_count": 96,
   "metadata": {},
   "outputs": [],
   "source": [
    "#Remove redundant columns from X\n",
    "X.drop(columns=[\"Algorithm\",\"ProofType\"],inplace=True)"
   ]
  },
  {
   "cell_type": "code",
   "execution_count": 97,
   "metadata": {},
   "outputs": [
    {
     "data": {
      "text/html": [
       "<div>\n",
       "<style scoped>\n",
       "    .dataframe tbody tr th:only-of-type {\n",
       "        vertical-align: middle;\n",
       "    }\n",
       "\n",
       "    .dataframe tbody tr th {\n",
       "        vertical-align: top;\n",
       "    }\n",
       "\n",
       "    .dataframe thead th {\n",
       "        text-align: right;\n",
       "    }\n",
       "</style>\n",
       "<table border=\"1\" class=\"dataframe\">\n",
       "  <thead>\n",
       "    <tr style=\"text-align: right;\">\n",
       "      <th></th>\n",
       "      <th>Unnamed: 0</th>\n",
       "      <th>TotalCoinsMined</th>\n",
       "      <th>TotalCoinSupply</th>\n",
       "      <th>1GB AES Pattern Search</th>\n",
       "      <th>536</th>\n",
       "      <th>Argon2d</th>\n",
       "      <th>BLAKE256</th>\n",
       "      <th>Blake</th>\n",
       "      <th>Blake2S</th>\n",
       "      <th>Blake2b</th>\n",
       "      <th>...</th>\n",
       "      <th>PoW/PoS</th>\n",
       "      <th>PoW/PoS</th>\n",
       "      <th>PoW/PoW</th>\n",
       "      <th>PoW/nPoS</th>\n",
       "      <th>Pos</th>\n",
       "      <th>Proof of Authority</th>\n",
       "      <th>Proof of Trust</th>\n",
       "      <th>TPoS</th>\n",
       "      <th>Zero-Knowledge Proof</th>\n",
       "      <th>dPoW/PoW</th>\n",
       "    </tr>\n",
       "  </thead>\n",
       "  <tbody>\n",
       "    <tr>\n",
       "      <th>0</th>\n",
       "      <td>42</td>\n",
       "      <td>4.199995e+01</td>\n",
       "      <td>42</td>\n",
       "      <td>0</td>\n",
       "      <td>0</td>\n",
       "      <td>0</td>\n",
       "      <td>0</td>\n",
       "      <td>0</td>\n",
       "      <td>0</td>\n",
       "      <td>0</td>\n",
       "      <td>...</td>\n",
       "      <td>1</td>\n",
       "      <td>0</td>\n",
       "      <td>0</td>\n",
       "      <td>0</td>\n",
       "      <td>0</td>\n",
       "      <td>0</td>\n",
       "      <td>0</td>\n",
       "      <td>0</td>\n",
       "      <td>0</td>\n",
       "      <td>0</td>\n",
       "    </tr>\n",
       "    <tr>\n",
       "      <th>2</th>\n",
       "      <td>404</td>\n",
       "      <td>1.055185e+09</td>\n",
       "      <td>532000000</td>\n",
       "      <td>0</td>\n",
       "      <td>0</td>\n",
       "      <td>0</td>\n",
       "      <td>0</td>\n",
       "      <td>0</td>\n",
       "      <td>0</td>\n",
       "      <td>0</td>\n",
       "      <td>...</td>\n",
       "      <td>1</td>\n",
       "      <td>0</td>\n",
       "      <td>0</td>\n",
       "      <td>0</td>\n",
       "      <td>0</td>\n",
       "      <td>0</td>\n",
       "      <td>0</td>\n",
       "      <td>0</td>\n",
       "      <td>0</td>\n",
       "      <td>0</td>\n",
       "    </tr>\n",
       "    <tr>\n",
       "      <th>5</th>\n",
       "      <td>1337</td>\n",
       "      <td>2.927942e+10</td>\n",
       "      <td>314159265359</td>\n",
       "      <td>0</td>\n",
       "      <td>0</td>\n",
       "      <td>0</td>\n",
       "      <td>0</td>\n",
       "      <td>0</td>\n",
       "      <td>0</td>\n",
       "      <td>0</td>\n",
       "      <td>...</td>\n",
       "      <td>1</td>\n",
       "      <td>0</td>\n",
       "      <td>0</td>\n",
       "      <td>0</td>\n",
       "      <td>0</td>\n",
       "      <td>0</td>\n",
       "      <td>0</td>\n",
       "      <td>0</td>\n",
       "      <td>0</td>\n",
       "      <td>0</td>\n",
       "    </tr>\n",
       "    <tr>\n",
       "      <th>7</th>\n",
       "      <td>BTC</td>\n",
       "      <td>1.792718e+07</td>\n",
       "      <td>21000000</td>\n",
       "      <td>0</td>\n",
       "      <td>0</td>\n",
       "      <td>0</td>\n",
       "      <td>0</td>\n",
       "      <td>0</td>\n",
       "      <td>0</td>\n",
       "      <td>0</td>\n",
       "      <td>...</td>\n",
       "      <td>0</td>\n",
       "      <td>0</td>\n",
       "      <td>0</td>\n",
       "      <td>0</td>\n",
       "      <td>0</td>\n",
       "      <td>0</td>\n",
       "      <td>0</td>\n",
       "      <td>0</td>\n",
       "      <td>0</td>\n",
       "      <td>0</td>\n",
       "    </tr>\n",
       "    <tr>\n",
       "      <th>8</th>\n",
       "      <td>ETH</td>\n",
       "      <td>1.076842e+08</td>\n",
       "      <td>0</td>\n",
       "      <td>0</td>\n",
       "      <td>0</td>\n",
       "      <td>0</td>\n",
       "      <td>0</td>\n",
       "      <td>0</td>\n",
       "      <td>0</td>\n",
       "      <td>0</td>\n",
       "      <td>...</td>\n",
       "      <td>0</td>\n",
       "      <td>0</td>\n",
       "      <td>0</td>\n",
       "      <td>0</td>\n",
       "      <td>0</td>\n",
       "      <td>0</td>\n",
       "      <td>0</td>\n",
       "      <td>0</td>\n",
       "      <td>0</td>\n",
       "      <td>0</td>\n",
       "    </tr>\n",
       "  </tbody>\n",
       "</table>\n",
       "<p>5 rows × 100 columns</p>\n",
       "</div>"
      ],
      "text/plain": [
       "  Unnamed: 0  TotalCoinsMined TotalCoinSupply  1GB AES Pattern Search  536  \\\n",
       "0         42     4.199995e+01              42                       0    0   \n",
       "2        404     1.055185e+09       532000000                       0    0   \n",
       "5       1337     2.927942e+10    314159265359                       0    0   \n",
       "7        BTC     1.792718e+07        21000000                       0    0   \n",
       "8        ETH     1.076842e+08               0                       0    0   \n",
       "\n",
       "   Argon2d  BLAKE256  Blake  Blake2S  Blake2b  ...  PoW/PoS  PoW/PoS   \\\n",
       "0        0         0      0        0        0  ...        1         0   \n",
       "2        0         0      0        0        0  ...        1         0   \n",
       "5        0         0      0        0        0  ...        1         0   \n",
       "7        0         0      0        0        0  ...        0         0   \n",
       "8        0         0      0        0        0  ...        0         0   \n",
       "\n",
       "   PoW/PoW  PoW/nPoS  Pos  Proof of Authority  Proof of Trust  TPoS  \\\n",
       "0        0         0    0                   0               0     0   \n",
       "2        0         0    0                   0               0     0   \n",
       "5        0         0    0                   0               0     0   \n",
       "7        0         0    0                   0               0     0   \n",
       "8        0         0    0                   0               0     0   \n",
       "\n",
       "   Zero-Knowledge Proof  dPoW/PoW  \n",
       "0                     0         0  \n",
       "2                     0         0  \n",
       "5                     0         0  \n",
       "7                     0         0  \n",
       "8                     0         0  \n",
       "\n",
       "[5 rows x 100 columns]"
      ]
     },
     "execution_count": 97,
     "metadata": {},
     "output_type": "execute_result"
    }
   ],
   "source": [
    "X.head()"
   ]
  },
  {
   "cell_type": "code",
   "execution_count": 98,
   "metadata": {},
   "outputs": [],
   "source": [
    "X.drop(columns=[\"Unnamed: 0\"],inplace=True)"
   ]
  },
  {
   "cell_type": "code",
   "execution_count": 99,
   "metadata": {},
   "outputs": [],
   "source": [
    "scaler = StandardScaler()"
   ]
  },
  {
   "cell_type": "code",
   "execution_count": 100,
   "metadata": {},
   "outputs": [],
   "source": [
    "X = scaler.fit_transform(X)"
   ]
  },
  {
   "cell_type": "markdown",
   "metadata": {},
   "source": [
    "## PCA"
   ]
  },
  {
   "cell_type": "code",
   "execution_count": 101,
   "metadata": {},
   "outputs": [],
   "source": [
    "# Initialize PCA model\n",
    "pcs = PCA(n_components=3)"
   ]
  },
  {
   "cell_type": "code",
   "execution_count": 102,
   "metadata": {},
   "outputs": [],
   "source": [
    "X_pcs = pcs.fit_transform(X)"
   ]
  },
  {
   "cell_type": "code",
   "execution_count": 103,
   "metadata": {},
   "outputs": [],
   "source": [
    "pcs_df_pre_merge = pd.DataFrame(\n",
    "    data = X_pcs, columns=[\"PC 1\",\"PC 2\",\"PC 3\"])"
   ]
  },
  {
   "cell_type": "code",
   "execution_count": 104,
   "metadata": {},
   "outputs": [
    {
     "data": {
      "text/html": [
       "<div>\n",
       "<style scoped>\n",
       "    .dataframe tbody tr th:only-of-type {\n",
       "        vertical-align: middle;\n",
       "    }\n",
       "\n",
       "    .dataframe tbody tr th {\n",
       "        vertical-align: top;\n",
       "    }\n",
       "\n",
       "    .dataframe thead th {\n",
       "        text-align: right;\n",
       "    }\n",
       "</style>\n",
       "<table border=\"1\" class=\"dataframe\">\n",
       "  <thead>\n",
       "    <tr style=\"text-align: right;\">\n",
       "      <th></th>\n",
       "      <th>PC 1</th>\n",
       "      <th>PC 2</th>\n",
       "      <th>PC 3</th>\n",
       "    </tr>\n",
       "  </thead>\n",
       "  <tbody>\n",
       "    <tr>\n",
       "      <th>0</th>\n",
       "      <td>-0.335966</td>\n",
       "      <td>1.031222</td>\n",
       "      <td>-0.540236</td>\n",
       "    </tr>\n",
       "    <tr>\n",
       "      <th>1</th>\n",
       "      <td>-0.319440</td>\n",
       "      <td>1.031218</td>\n",
       "      <td>-0.540735</td>\n",
       "    </tr>\n",
       "    <tr>\n",
       "      <th>2</th>\n",
       "      <td>2.288745</td>\n",
       "      <td>1.605273</td>\n",
       "      <td>-0.679396</td>\n",
       "    </tr>\n",
       "    <tr>\n",
       "      <th>3</th>\n",
       "      <td>-0.137501</td>\n",
       "      <td>-1.325989</td>\n",
       "      <td>0.223103</td>\n",
       "    </tr>\n",
       "    <tr>\n",
       "      <th>4</th>\n",
       "      <td>-0.144662</td>\n",
       "      <td>-2.080350</td>\n",
       "      <td>0.385651</td>\n",
       "    </tr>\n",
       "  </tbody>\n",
       "</table>\n",
       "</div>"
      ],
      "text/plain": [
       "       PC 1      PC 2      PC 3\n",
       "0 -0.335966  1.031222 -0.540236\n",
       "1 -0.319440  1.031218 -0.540735\n",
       "2  2.288745  1.605273 -0.679396\n",
       "3 -0.137501 -1.325989  0.223103\n",
       "4 -0.144662 -2.080350  0.385651"
      ]
     },
     "execution_count": 104,
     "metadata": {},
     "output_type": "execute_result"
    }
   ],
   "source": [
    "pcs_df_pre_merge.head()"
   ]
  },
  {
   "cell_type": "code",
   "execution_count": 105,
   "metadata": {},
   "outputs": [
    {
     "data": {
      "text/plain": [
       "(524, 5)"
      ]
     },
     "execution_count": 105,
     "metadata": {},
     "output_type": "execute_result"
    }
   ],
   "source": [
    "crypto_df.shape"
   ]
  },
  {
   "cell_type": "code",
   "execution_count": 106,
   "metadata": {},
   "outputs": [
    {
     "data": {
      "text/html": [
       "<div>\n",
       "<style scoped>\n",
       "    .dataframe tbody tr th:only-of-type {\n",
       "        vertical-align: middle;\n",
       "    }\n",
       "\n",
       "    .dataframe tbody tr th {\n",
       "        vertical-align: top;\n",
       "    }\n",
       "\n",
       "    .dataframe thead th {\n",
       "        text-align: right;\n",
       "    }\n",
       "</style>\n",
       "<table border=\"1\" class=\"dataframe\">\n",
       "  <thead>\n",
       "    <tr style=\"text-align: right;\">\n",
       "      <th></th>\n",
       "      <th>Unnamed: 0</th>\n",
       "      <th>Algorithm</th>\n",
       "      <th>ProofType</th>\n",
       "      <th>TotalCoinsMined</th>\n",
       "      <th>TotalCoinSupply</th>\n",
       "    </tr>\n",
       "  </thead>\n",
       "  <tbody>\n",
       "    <tr>\n",
       "      <th>0</th>\n",
       "      <td>42</td>\n",
       "      <td>Scrypt</td>\n",
       "      <td>PoW/PoS</td>\n",
       "      <td>4.199995e+01</td>\n",
       "      <td>42</td>\n",
       "    </tr>\n",
       "    <tr>\n",
       "      <th>2</th>\n",
       "      <td>404</td>\n",
       "      <td>Scrypt</td>\n",
       "      <td>PoW/PoS</td>\n",
       "      <td>1.055185e+09</td>\n",
       "      <td>532000000</td>\n",
       "    </tr>\n",
       "    <tr>\n",
       "      <th>5</th>\n",
       "      <td>1337</td>\n",
       "      <td>X13</td>\n",
       "      <td>PoW/PoS</td>\n",
       "      <td>2.927942e+10</td>\n",
       "      <td>314159265359</td>\n",
       "    </tr>\n",
       "    <tr>\n",
       "      <th>7</th>\n",
       "      <td>BTC</td>\n",
       "      <td>SHA-256</td>\n",
       "      <td>PoW</td>\n",
       "      <td>1.792718e+07</td>\n",
       "      <td>21000000</td>\n",
       "    </tr>\n",
       "    <tr>\n",
       "      <th>8</th>\n",
       "      <td>ETH</td>\n",
       "      <td>Ethash</td>\n",
       "      <td>PoW</td>\n",
       "      <td>1.076842e+08</td>\n",
       "      <td>0</td>\n",
       "    </tr>\n",
       "  </tbody>\n",
       "</table>\n",
       "</div>"
      ],
      "text/plain": [
       "  Unnamed: 0 Algorithm ProofType  TotalCoinsMined TotalCoinSupply\n",
       "0         42    Scrypt   PoW/PoS     4.199995e+01              42\n",
       "2        404    Scrypt   PoW/PoS     1.055185e+09       532000000\n",
       "5       1337       X13   PoW/PoS     2.927942e+10    314159265359\n",
       "7        BTC   SHA-256       PoW     1.792718e+07        21000000\n",
       "8        ETH    Ethash       PoW     1.076842e+08               0"
      ]
     },
     "execution_count": 106,
     "metadata": {},
     "output_type": "execute_result"
    }
   ],
   "source": [
    "crypto_df.head()"
   ]
  },
  {
   "cell_type": "code",
   "execution_count": 107,
   "metadata": {},
   "outputs": [],
   "source": [
    "crypto_df_merge = crypto_df.reset_index()"
   ]
  },
  {
   "cell_type": "code",
   "execution_count": 108,
   "metadata": {},
   "outputs": [
    {
     "data": {
      "text/html": [
       "<div>\n",
       "<style scoped>\n",
       "    .dataframe tbody tr th:only-of-type {\n",
       "        vertical-align: middle;\n",
       "    }\n",
       "\n",
       "    .dataframe tbody tr th {\n",
       "        vertical-align: top;\n",
       "    }\n",
       "\n",
       "    .dataframe thead th {\n",
       "        text-align: right;\n",
       "    }\n",
       "</style>\n",
       "<table border=\"1\" class=\"dataframe\">\n",
       "  <thead>\n",
       "    <tr style=\"text-align: right;\">\n",
       "      <th></th>\n",
       "      <th>index</th>\n",
       "      <th>Unnamed: 0</th>\n",
       "      <th>Algorithm</th>\n",
       "      <th>ProofType</th>\n",
       "      <th>TotalCoinsMined</th>\n",
       "      <th>TotalCoinSupply</th>\n",
       "    </tr>\n",
       "  </thead>\n",
       "  <tbody>\n",
       "    <tr>\n",
       "      <th>0</th>\n",
       "      <td>0</td>\n",
       "      <td>42</td>\n",
       "      <td>Scrypt</td>\n",
       "      <td>PoW/PoS</td>\n",
       "      <td>4.199995e+01</td>\n",
       "      <td>42</td>\n",
       "    </tr>\n",
       "    <tr>\n",
       "      <th>1</th>\n",
       "      <td>2</td>\n",
       "      <td>404</td>\n",
       "      <td>Scrypt</td>\n",
       "      <td>PoW/PoS</td>\n",
       "      <td>1.055185e+09</td>\n",
       "      <td>532000000</td>\n",
       "    </tr>\n",
       "    <tr>\n",
       "      <th>2</th>\n",
       "      <td>5</td>\n",
       "      <td>1337</td>\n",
       "      <td>X13</td>\n",
       "      <td>PoW/PoS</td>\n",
       "      <td>2.927942e+10</td>\n",
       "      <td>314159265359</td>\n",
       "    </tr>\n",
       "    <tr>\n",
       "      <th>3</th>\n",
       "      <td>7</td>\n",
       "      <td>BTC</td>\n",
       "      <td>SHA-256</td>\n",
       "      <td>PoW</td>\n",
       "      <td>1.792718e+07</td>\n",
       "      <td>21000000</td>\n",
       "    </tr>\n",
       "    <tr>\n",
       "      <th>4</th>\n",
       "      <td>8</td>\n",
       "      <td>ETH</td>\n",
       "      <td>Ethash</td>\n",
       "      <td>PoW</td>\n",
       "      <td>1.076842e+08</td>\n",
       "      <td>0</td>\n",
       "    </tr>\n",
       "    <tr>\n",
       "      <th>...</th>\n",
       "      <td>...</td>\n",
       "      <td>...</td>\n",
       "      <td>...</td>\n",
       "      <td>...</td>\n",
       "      <td>...</td>\n",
       "      <td>...</td>\n",
       "    </tr>\n",
       "    <tr>\n",
       "      <th>519</th>\n",
       "      <td>1238</td>\n",
       "      <td>ZEPH</td>\n",
       "      <td>SHA-256</td>\n",
       "      <td>DPoS</td>\n",
       "      <td>2.000000e+09</td>\n",
       "      <td>2000000000</td>\n",
       "    </tr>\n",
       "    <tr>\n",
       "      <th>520</th>\n",
       "      <td>1242</td>\n",
       "      <td>GAP</td>\n",
       "      <td>Scrypt</td>\n",
       "      <td>PoW/PoS</td>\n",
       "      <td>1.493105e+07</td>\n",
       "      <td>250000000</td>\n",
       "    </tr>\n",
       "    <tr>\n",
       "      <th>521</th>\n",
       "      <td>1245</td>\n",
       "      <td>BDX</td>\n",
       "      <td>CryptoNight</td>\n",
       "      <td>PoW</td>\n",
       "      <td>9.802226e+08</td>\n",
       "      <td>1400222610</td>\n",
       "    </tr>\n",
       "    <tr>\n",
       "      <th>522</th>\n",
       "      <td>1246</td>\n",
       "      <td>ZEN</td>\n",
       "      <td>Equihash</td>\n",
       "      <td>PoW</td>\n",
       "      <td>7.296538e+06</td>\n",
       "      <td>21000000</td>\n",
       "    </tr>\n",
       "    <tr>\n",
       "      <th>523</th>\n",
       "      <td>1247</td>\n",
       "      <td>XBC</td>\n",
       "      <td>Scrypt</td>\n",
       "      <td>PoS</td>\n",
       "      <td>1.283270e+05</td>\n",
       "      <td>1000000</td>\n",
       "    </tr>\n",
       "  </tbody>\n",
       "</table>\n",
       "<p>524 rows × 6 columns</p>\n",
       "</div>"
      ],
      "text/plain": [
       "     index Unnamed: 0    Algorithm ProofType  TotalCoinsMined TotalCoinSupply\n",
       "0        0         42       Scrypt   PoW/PoS     4.199995e+01              42\n",
       "1        2        404       Scrypt   PoW/PoS     1.055185e+09       532000000\n",
       "2        5       1337          X13   PoW/PoS     2.927942e+10    314159265359\n",
       "3        7        BTC      SHA-256       PoW     1.792718e+07        21000000\n",
       "4        8        ETH       Ethash       PoW     1.076842e+08               0\n",
       "..     ...        ...          ...       ...              ...             ...\n",
       "519   1238       ZEPH      SHA-256      DPoS     2.000000e+09      2000000000\n",
       "520   1242        GAP       Scrypt   PoW/PoS     1.493105e+07       250000000\n",
       "521   1245        BDX  CryptoNight       PoW     9.802226e+08      1400222610\n",
       "522   1246        ZEN     Equihash       PoW     7.296538e+06        21000000\n",
       "523   1247        XBC       Scrypt       PoS     1.283270e+05         1000000\n",
       "\n",
       "[524 rows x 6 columns]"
      ]
     },
     "execution_count": 108,
     "metadata": {},
     "output_type": "execute_result"
    }
   ],
   "source": [
    "crypto_df_merge"
   ]
  },
  {
   "cell_type": "code",
   "execution_count": 109,
   "metadata": {},
   "outputs": [
    {
     "data": {
      "text/html": [
       "<div>\n",
       "<style scoped>\n",
       "    .dataframe tbody tr th:only-of-type {\n",
       "        vertical-align: middle;\n",
       "    }\n",
       "\n",
       "    .dataframe tbody tr th {\n",
       "        vertical-align: top;\n",
       "    }\n",
       "\n",
       "    .dataframe thead th {\n",
       "        text-align: right;\n",
       "    }\n",
       "</style>\n",
       "<table border=\"1\" class=\"dataframe\">\n",
       "  <thead>\n",
       "    <tr style=\"text-align: right;\">\n",
       "      <th></th>\n",
       "      <th>PC 1</th>\n",
       "      <th>PC 2</th>\n",
       "      <th>PC 3</th>\n",
       "    </tr>\n",
       "  </thead>\n",
       "  <tbody>\n",
       "    <tr>\n",
       "      <th>0</th>\n",
       "      <td>-0.335966</td>\n",
       "      <td>1.031222</td>\n",
       "      <td>-0.540236</td>\n",
       "    </tr>\n",
       "    <tr>\n",
       "      <th>1</th>\n",
       "      <td>-0.319440</td>\n",
       "      <td>1.031218</td>\n",
       "      <td>-0.540735</td>\n",
       "    </tr>\n",
       "    <tr>\n",
       "      <th>2</th>\n",
       "      <td>2.288745</td>\n",
       "      <td>1.605273</td>\n",
       "      <td>-0.679396</td>\n",
       "    </tr>\n",
       "    <tr>\n",
       "      <th>3</th>\n",
       "      <td>-0.137501</td>\n",
       "      <td>-1.325989</td>\n",
       "      <td>0.223103</td>\n",
       "    </tr>\n",
       "    <tr>\n",
       "      <th>4</th>\n",
       "      <td>-0.144662</td>\n",
       "      <td>-2.080350</td>\n",
       "      <td>0.385651</td>\n",
       "    </tr>\n",
       "    <tr>\n",
       "      <th>...</th>\n",
       "      <td>...</td>\n",
       "      <td>...</td>\n",
       "      <td>...</td>\n",
       "    </tr>\n",
       "    <tr>\n",
       "      <th>519</th>\n",
       "      <td>2.462909</td>\n",
       "      <td>0.902454</td>\n",
       "      <td>-0.042397</td>\n",
       "    </tr>\n",
       "    <tr>\n",
       "      <th>520</th>\n",
       "      <td>-0.334028</td>\n",
       "      <td>1.031082</td>\n",
       "      <td>-0.540271</td>\n",
       "    </tr>\n",
       "    <tr>\n",
       "      <th>521</th>\n",
       "      <td>0.328778</td>\n",
       "      <td>-2.369170</td>\n",
       "      <td>0.398621</td>\n",
       "    </tr>\n",
       "    <tr>\n",
       "      <th>522</th>\n",
       "      <td>-0.147790</td>\n",
       "      <td>-2.025569</td>\n",
       "      <td>0.458245</td>\n",
       "    </tr>\n",
       "    <tr>\n",
       "      <th>523</th>\n",
       "      <td>-0.301801</td>\n",
       "      <td>0.740574</td>\n",
       "      <td>-0.267039</td>\n",
       "    </tr>\n",
       "  </tbody>\n",
       "</table>\n",
       "<p>524 rows × 3 columns</p>\n",
       "</div>"
      ],
      "text/plain": [
       "         PC 1      PC 2      PC 3\n",
       "0   -0.335966  1.031222 -0.540236\n",
       "1   -0.319440  1.031218 -0.540735\n",
       "2    2.288745  1.605273 -0.679396\n",
       "3   -0.137501 -1.325989  0.223103\n",
       "4   -0.144662 -2.080350  0.385651\n",
       "..        ...       ...       ...\n",
       "519  2.462909  0.902454 -0.042397\n",
       "520 -0.334028  1.031082 -0.540271\n",
       "521  0.328778 -2.369170  0.398621\n",
       "522 -0.147790 -2.025569  0.458245\n",
       "523 -0.301801  0.740574 -0.267039\n",
       "\n",
       "[524 rows x 3 columns]"
      ]
     },
     "execution_count": 109,
     "metadata": {},
     "output_type": "execute_result"
    }
   ],
   "source": [
    "pcs_df_pre_merge"
   ]
  },
  {
   "cell_type": "code",
   "execution_count": 110,
   "metadata": {},
   "outputs": [],
   "source": [
    "pcs_new_df = pd.concat([pcs_df_pre_merge,crypto_df_merge],axis=1)"
   ]
  },
  {
   "cell_type": "code",
   "execution_count": 111,
   "metadata": {},
   "outputs": [
    {
     "data": {
      "text/html": [
       "<div>\n",
       "<style scoped>\n",
       "    .dataframe tbody tr th:only-of-type {\n",
       "        vertical-align: middle;\n",
       "    }\n",
       "\n",
       "    .dataframe tbody tr th {\n",
       "        vertical-align: top;\n",
       "    }\n",
       "\n",
       "    .dataframe thead th {\n",
       "        text-align: right;\n",
       "    }\n",
       "</style>\n",
       "<table border=\"1\" class=\"dataframe\">\n",
       "  <thead>\n",
       "    <tr style=\"text-align: right;\">\n",
       "      <th></th>\n",
       "      <th>PC 1</th>\n",
       "      <th>PC 2</th>\n",
       "      <th>PC 3</th>\n",
       "      <th>index</th>\n",
       "      <th>Unnamed: 0</th>\n",
       "      <th>Algorithm</th>\n",
       "      <th>ProofType</th>\n",
       "      <th>TotalCoinsMined</th>\n",
       "      <th>TotalCoinSupply</th>\n",
       "    </tr>\n",
       "  </thead>\n",
       "  <tbody>\n",
       "    <tr>\n",
       "      <th>0</th>\n",
       "      <td>-0.335966</td>\n",
       "      <td>1.031222</td>\n",
       "      <td>-0.540236</td>\n",
       "      <td>0</td>\n",
       "      <td>42</td>\n",
       "      <td>Scrypt</td>\n",
       "      <td>PoW/PoS</td>\n",
       "      <td>4.199995e+01</td>\n",
       "      <td>42</td>\n",
       "    </tr>\n",
       "    <tr>\n",
       "      <th>1</th>\n",
       "      <td>-0.319440</td>\n",
       "      <td>1.031218</td>\n",
       "      <td>-0.540735</td>\n",
       "      <td>2</td>\n",
       "      <td>404</td>\n",
       "      <td>Scrypt</td>\n",
       "      <td>PoW/PoS</td>\n",
       "      <td>1.055185e+09</td>\n",
       "      <td>532000000</td>\n",
       "    </tr>\n",
       "    <tr>\n",
       "      <th>2</th>\n",
       "      <td>2.288745</td>\n",
       "      <td>1.605273</td>\n",
       "      <td>-0.679396</td>\n",
       "      <td>5</td>\n",
       "      <td>1337</td>\n",
       "      <td>X13</td>\n",
       "      <td>PoW/PoS</td>\n",
       "      <td>2.927942e+10</td>\n",
       "      <td>314159265359</td>\n",
       "    </tr>\n",
       "    <tr>\n",
       "      <th>3</th>\n",
       "      <td>-0.137501</td>\n",
       "      <td>-1.325989</td>\n",
       "      <td>0.223103</td>\n",
       "      <td>7</td>\n",
       "      <td>BTC</td>\n",
       "      <td>SHA-256</td>\n",
       "      <td>PoW</td>\n",
       "      <td>1.792718e+07</td>\n",
       "      <td>21000000</td>\n",
       "    </tr>\n",
       "    <tr>\n",
       "      <th>4</th>\n",
       "      <td>-0.144662</td>\n",
       "      <td>-2.080350</td>\n",
       "      <td>0.385651</td>\n",
       "      <td>8</td>\n",
       "      <td>ETH</td>\n",
       "      <td>Ethash</td>\n",
       "      <td>PoW</td>\n",
       "      <td>1.076842e+08</td>\n",
       "      <td>0</td>\n",
       "    </tr>\n",
       "    <tr>\n",
       "      <th>...</th>\n",
       "      <td>...</td>\n",
       "      <td>...</td>\n",
       "      <td>...</td>\n",
       "      <td>...</td>\n",
       "      <td>...</td>\n",
       "      <td>...</td>\n",
       "      <td>...</td>\n",
       "      <td>...</td>\n",
       "      <td>...</td>\n",
       "    </tr>\n",
       "    <tr>\n",
       "      <th>519</th>\n",
       "      <td>2.462909</td>\n",
       "      <td>0.902454</td>\n",
       "      <td>-0.042397</td>\n",
       "      <td>1238</td>\n",
       "      <td>ZEPH</td>\n",
       "      <td>SHA-256</td>\n",
       "      <td>DPoS</td>\n",
       "      <td>2.000000e+09</td>\n",
       "      <td>2000000000</td>\n",
       "    </tr>\n",
       "    <tr>\n",
       "      <th>520</th>\n",
       "      <td>-0.334028</td>\n",
       "      <td>1.031082</td>\n",
       "      <td>-0.540271</td>\n",
       "      <td>1242</td>\n",
       "      <td>GAP</td>\n",
       "      <td>Scrypt</td>\n",
       "      <td>PoW/PoS</td>\n",
       "      <td>1.493105e+07</td>\n",
       "      <td>250000000</td>\n",
       "    </tr>\n",
       "    <tr>\n",
       "      <th>521</th>\n",
       "      <td>0.328778</td>\n",
       "      <td>-2.369170</td>\n",
       "      <td>0.398621</td>\n",
       "      <td>1245</td>\n",
       "      <td>BDX</td>\n",
       "      <td>CryptoNight</td>\n",
       "      <td>PoW</td>\n",
       "      <td>9.802226e+08</td>\n",
       "      <td>1400222610</td>\n",
       "    </tr>\n",
       "    <tr>\n",
       "      <th>522</th>\n",
       "      <td>-0.147790</td>\n",
       "      <td>-2.025569</td>\n",
       "      <td>0.458245</td>\n",
       "      <td>1246</td>\n",
       "      <td>ZEN</td>\n",
       "      <td>Equihash</td>\n",
       "      <td>PoW</td>\n",
       "      <td>7.296538e+06</td>\n",
       "      <td>21000000</td>\n",
       "    </tr>\n",
       "    <tr>\n",
       "      <th>523</th>\n",
       "      <td>-0.301801</td>\n",
       "      <td>0.740574</td>\n",
       "      <td>-0.267039</td>\n",
       "      <td>1247</td>\n",
       "      <td>XBC</td>\n",
       "      <td>Scrypt</td>\n",
       "      <td>PoS</td>\n",
       "      <td>1.283270e+05</td>\n",
       "      <td>1000000</td>\n",
       "    </tr>\n",
       "  </tbody>\n",
       "</table>\n",
       "<p>524 rows × 9 columns</p>\n",
       "</div>"
      ],
      "text/plain": [
       "         PC 1      PC 2      PC 3  index Unnamed: 0    Algorithm ProofType  \\\n",
       "0   -0.335966  1.031222 -0.540236      0         42       Scrypt   PoW/PoS   \n",
       "1   -0.319440  1.031218 -0.540735      2        404       Scrypt   PoW/PoS   \n",
       "2    2.288745  1.605273 -0.679396      5       1337          X13   PoW/PoS   \n",
       "3   -0.137501 -1.325989  0.223103      7        BTC      SHA-256       PoW   \n",
       "4   -0.144662 -2.080350  0.385651      8        ETH       Ethash       PoW   \n",
       "..        ...       ...       ...    ...        ...          ...       ...   \n",
       "519  2.462909  0.902454 -0.042397   1238       ZEPH      SHA-256      DPoS   \n",
       "520 -0.334028  1.031082 -0.540271   1242        GAP       Scrypt   PoW/PoS   \n",
       "521  0.328778 -2.369170  0.398621   1245        BDX  CryptoNight       PoW   \n",
       "522 -0.147790 -2.025569  0.458245   1246        ZEN     Equihash       PoW   \n",
       "523 -0.301801  0.740574 -0.267039   1247        XBC       Scrypt       PoS   \n",
       "\n",
       "     TotalCoinsMined TotalCoinSupply  \n",
       "0       4.199995e+01              42  \n",
       "1       1.055185e+09       532000000  \n",
       "2       2.927942e+10    314159265359  \n",
       "3       1.792718e+07        21000000  \n",
       "4       1.076842e+08               0  \n",
       "..               ...             ...  \n",
       "519     2.000000e+09      2000000000  \n",
       "520     1.493105e+07       250000000  \n",
       "521     9.802226e+08      1400222610  \n",
       "522     7.296538e+06        21000000  \n",
       "523     1.283270e+05         1000000  \n",
       "\n",
       "[524 rows x 9 columns]"
      ]
     },
     "execution_count": 111,
     "metadata": {},
     "output_type": "execute_result"
    }
   ],
   "source": [
    "pcs_new_df"
   ]
  },
  {
   "cell_type": "code",
   "execution_count": 112,
   "metadata": {},
   "outputs": [],
   "source": [
    "pcs_df = pcs_new_df.set_index([\"Unnamed: 0\"])"
   ]
  },
  {
   "cell_type": "code",
   "execution_count": 113,
   "metadata": {},
   "outputs": [],
   "source": [
    "pcs_copy_df = pcs_df"
   ]
  },
  {
   "cell_type": "code",
   "execution_count": 114,
   "metadata": {},
   "outputs": [
    {
     "data": {
      "text/html": [
       "<div>\n",
       "<style scoped>\n",
       "    .dataframe tbody tr th:only-of-type {\n",
       "        vertical-align: middle;\n",
       "    }\n",
       "\n",
       "    .dataframe tbody tr th {\n",
       "        vertical-align: top;\n",
       "    }\n",
       "\n",
       "    .dataframe thead th {\n",
       "        text-align: right;\n",
       "    }\n",
       "</style>\n",
       "<table border=\"1\" class=\"dataframe\">\n",
       "  <thead>\n",
       "    <tr style=\"text-align: right;\">\n",
       "      <th></th>\n",
       "      <th>PC 1</th>\n",
       "      <th>PC 2</th>\n",
       "      <th>PC 3</th>\n",
       "      <th>index</th>\n",
       "      <th>Algorithm</th>\n",
       "      <th>ProofType</th>\n",
       "      <th>TotalCoinsMined</th>\n",
       "      <th>TotalCoinSupply</th>\n",
       "    </tr>\n",
       "    <tr>\n",
       "      <th>Unnamed: 0</th>\n",
       "      <th></th>\n",
       "      <th></th>\n",
       "      <th></th>\n",
       "      <th></th>\n",
       "      <th></th>\n",
       "      <th></th>\n",
       "      <th></th>\n",
       "      <th></th>\n",
       "    </tr>\n",
       "  </thead>\n",
       "  <tbody>\n",
       "    <tr>\n",
       "      <th>42</th>\n",
       "      <td>-0.335966</td>\n",
       "      <td>1.031222</td>\n",
       "      <td>-0.540236</td>\n",
       "      <td>0</td>\n",
       "      <td>Scrypt</td>\n",
       "      <td>PoW/PoS</td>\n",
       "      <td>4.199995e+01</td>\n",
       "      <td>42</td>\n",
       "    </tr>\n",
       "    <tr>\n",
       "      <th>404</th>\n",
       "      <td>-0.319440</td>\n",
       "      <td>1.031218</td>\n",
       "      <td>-0.540735</td>\n",
       "      <td>2</td>\n",
       "      <td>Scrypt</td>\n",
       "      <td>PoW/PoS</td>\n",
       "      <td>1.055185e+09</td>\n",
       "      <td>532000000</td>\n",
       "    </tr>\n",
       "    <tr>\n",
       "      <th>1337</th>\n",
       "      <td>2.288745</td>\n",
       "      <td>1.605273</td>\n",
       "      <td>-0.679396</td>\n",
       "      <td>5</td>\n",
       "      <td>X13</td>\n",
       "      <td>PoW/PoS</td>\n",
       "      <td>2.927942e+10</td>\n",
       "      <td>314159265359</td>\n",
       "    </tr>\n",
       "    <tr>\n",
       "      <th>BTC</th>\n",
       "      <td>-0.137501</td>\n",
       "      <td>-1.325989</td>\n",
       "      <td>0.223103</td>\n",
       "      <td>7</td>\n",
       "      <td>SHA-256</td>\n",
       "      <td>PoW</td>\n",
       "      <td>1.792718e+07</td>\n",
       "      <td>21000000</td>\n",
       "    </tr>\n",
       "    <tr>\n",
       "      <th>ETH</th>\n",
       "      <td>-0.144662</td>\n",
       "      <td>-2.080350</td>\n",
       "      <td>0.385651</td>\n",
       "      <td>8</td>\n",
       "      <td>Ethash</td>\n",
       "      <td>PoW</td>\n",
       "      <td>1.076842e+08</td>\n",
       "      <td>0</td>\n",
       "    </tr>\n",
       "  </tbody>\n",
       "</table>\n",
       "</div>"
      ],
      "text/plain": [
       "                PC 1      PC 2      PC 3  index Algorithm ProofType  \\\n",
       "Unnamed: 0                                                            \n",
       "42         -0.335966  1.031222 -0.540236      0    Scrypt   PoW/PoS   \n",
       "404        -0.319440  1.031218 -0.540735      2    Scrypt   PoW/PoS   \n",
       "1337        2.288745  1.605273 -0.679396      5       X13   PoW/PoS   \n",
       "BTC        -0.137501 -1.325989  0.223103      7   SHA-256       PoW   \n",
       "ETH        -0.144662 -2.080350  0.385651      8    Ethash       PoW   \n",
       "\n",
       "            TotalCoinsMined TotalCoinSupply  \n",
       "Unnamed: 0                                   \n",
       "42             4.199995e+01              42  \n",
       "404            1.055185e+09       532000000  \n",
       "1337           2.927942e+10    314159265359  \n",
       "BTC            1.792718e+07        21000000  \n",
       "ETH            1.076842e+08               0  "
      ]
     },
     "execution_count": 114,
     "metadata": {},
     "output_type": "execute_result"
    }
   ],
   "source": [
    "pcs_df.head()"
   ]
  },
  {
   "cell_type": "code",
   "execution_count": 115,
   "metadata": {},
   "outputs": [],
   "source": [
    "#Drop columns\n",
    "pcs_df.drop(columns=[\"index\",\"Algorithm\",\"ProofType\",\"TotalCoinsMined\",\"TotalCoinSupply\"],inplace=True)"
   ]
  },
  {
   "cell_type": "code",
   "execution_count": 116,
   "metadata": {},
   "outputs": [
    {
     "data": {
      "text/html": [
       "<div>\n",
       "<style scoped>\n",
       "    .dataframe tbody tr th:only-of-type {\n",
       "        vertical-align: middle;\n",
       "    }\n",
       "\n",
       "    .dataframe tbody tr th {\n",
       "        vertical-align: top;\n",
       "    }\n",
       "\n",
       "    .dataframe thead th {\n",
       "        text-align: right;\n",
       "    }\n",
       "</style>\n",
       "<table border=\"1\" class=\"dataframe\">\n",
       "  <thead>\n",
       "    <tr style=\"text-align: right;\">\n",
       "      <th></th>\n",
       "      <th>PC 1</th>\n",
       "      <th>PC 2</th>\n",
       "      <th>PC 3</th>\n",
       "    </tr>\n",
       "    <tr>\n",
       "      <th>Unnamed: 0</th>\n",
       "      <th></th>\n",
       "      <th></th>\n",
       "      <th></th>\n",
       "    </tr>\n",
       "  </thead>\n",
       "  <tbody>\n",
       "    <tr>\n",
       "      <th>42</th>\n",
       "      <td>-0.335966</td>\n",
       "      <td>1.031222</td>\n",
       "      <td>-0.540236</td>\n",
       "    </tr>\n",
       "    <tr>\n",
       "      <th>404</th>\n",
       "      <td>-0.319440</td>\n",
       "      <td>1.031218</td>\n",
       "      <td>-0.540735</td>\n",
       "    </tr>\n",
       "    <tr>\n",
       "      <th>1337</th>\n",
       "      <td>2.288745</td>\n",
       "      <td>1.605273</td>\n",
       "      <td>-0.679396</td>\n",
       "    </tr>\n",
       "    <tr>\n",
       "      <th>BTC</th>\n",
       "      <td>-0.137501</td>\n",
       "      <td>-1.325989</td>\n",
       "      <td>0.223103</td>\n",
       "    </tr>\n",
       "    <tr>\n",
       "      <th>ETH</th>\n",
       "      <td>-0.144662</td>\n",
       "      <td>-2.080350</td>\n",
       "      <td>0.385651</td>\n",
       "    </tr>\n",
       "  </tbody>\n",
       "</table>\n",
       "</div>"
      ],
      "text/plain": [
       "                PC 1      PC 2      PC 3\n",
       "Unnamed: 0                              \n",
       "42         -0.335966  1.031222 -0.540236\n",
       "404        -0.319440  1.031218 -0.540735\n",
       "1337        2.288745  1.605273 -0.679396\n",
       "BTC        -0.137501 -1.325989  0.223103\n",
       "ETH        -0.144662 -2.080350  0.385651"
      ]
     },
     "execution_count": 116,
     "metadata": {},
     "output_type": "execute_result"
    }
   ],
   "source": [
    "pcs_df.head()"
   ]
  },
  {
   "cell_type": "markdown",
   "metadata": {},
   "source": [
    "## K-means"
   ]
  },
  {
   "cell_type": "code",
   "execution_count": 117,
   "metadata": {},
   "outputs": [],
   "source": [
    "inertia = []\n",
    "k = list(range(1, 11))"
   ]
  },
  {
   "cell_type": "code",
   "execution_count": 118,
   "metadata": {},
   "outputs": [],
   "source": [
    "inertia = []\n",
    "k = list(range(1, 11))\n",
    "# Calculate the inertia for the range of K values\n",
    "for i in k:\n",
    "   km = KMeans(n_clusters=i, random_state=0)\n",
    "   km.fit(pcs_df)\n",
    "   inertia.append(km.inertia_)"
   ]
  },
  {
   "cell_type": "code",
   "execution_count": 119,
   "metadata": {},
   "outputs": [
    {
     "data": {},
     "metadata": {},
     "output_type": "display_data"
    },
    {
     "data": {
      "application/vnd.holoviews_exec.v0+json": "",
      "text/html": [
       "<div id='1474'>\n",
       "\n",
       "\n",
       "\n",
       "\n",
       "\n",
       "  <div class=\"bk-root\" id=\"f92bcb4a-2954-4b88-9afc-aaae2275e511\" data-root-id=\"1474\"></div>\n",
       "</div>\n",
       "<script type=\"application/javascript\">(function(root) {\n",
       "  function embed_document(root) {\n",
       "  var docs_json = {\"106a3d80-3616-4114-9845-cfebc96bd575\":{\"roots\":{\"references\":[{\"attributes\":{},\"id\":\"1510\",\"type\":\"Selection\"},{\"attributes\":{\"children\":[{\"id\":\"1475\"},{\"id\":\"1479\"},{\"id\":\"1538\"}],\"margin\":[0,0,0,0],\"name\":\"Row02622\",\"tags\":[\"embedded\"]},\"id\":\"1474\",\"type\":\"Row\"},{\"attributes\":{\"source\":{\"id\":\"1509\"}},\"id\":\"1516\",\"type\":\"CDSView\"},{\"attributes\":{\"line_alpha\":0.1,\"line_color\":\"#1f77b3\",\"line_width\":2,\"x\":{\"field\":\"k\"},\"y\":{\"field\":\"inertia\"}},\"id\":\"1513\",\"type\":\"Line\"},{\"attributes\":{\"line_alpha\":0.2,\"line_color\":\"#1f77b3\",\"line_width\":2,\"x\":{\"field\":\"k\"},\"y\":{\"field\":\"inertia\"}},\"id\":\"1514\",\"type\":\"Line\"},{\"attributes\":{\"margin\":[5,5,5,5],\"name\":\"HSpacer02626\",\"sizing_mode\":\"stretch_width\"},\"id\":\"1475\",\"type\":\"Spacer\"},{\"attributes\":{},\"id\":\"1523\",\"type\":\"BasicTickFormatter\"},{\"attributes\":{\"ticks\":[1,2,3,4,5,6,7,8,9,10]},\"id\":\"1517\",\"type\":\"FixedTicker\"},{\"attributes\":{\"data_source\":{\"id\":\"1509\"},\"glyph\":{\"id\":\"1512\"},\"hover_glyph\":null,\"muted_glyph\":{\"id\":\"1514\"},\"nonselection_glyph\":{\"id\":\"1513\"},\"selection_glyph\":null,\"view\":{\"id\":\"1516\"}},\"id\":\"1515\",\"type\":\"GlyphRenderer\"},{\"attributes\":{\"align\":null,\"below\":[{\"id\":\"1488\"}],\"center\":[{\"id\":\"1491\"},{\"id\":\"1495\"}],\"left\":[{\"id\":\"1492\"}],\"margin\":null,\"min_border_bottom\":10,\"min_border_left\":10,\"min_border_right\":10,\"min_border_top\":10,\"plot_height\":300,\"plot_width\":700,\"renderers\":[{\"id\":\"1515\"}],\"sizing_mode\":\"fixed\",\"title\":{\"id\":\"1480\"},\"toolbar\":{\"id\":\"1502\"},\"x_range\":{\"id\":\"1476\"},\"x_scale\":{\"id\":\"1484\"},\"y_range\":{\"id\":\"1477\"},\"y_scale\":{\"id\":\"1486\"}},\"id\":\"1479\",\"subtype\":\"Figure\",\"type\":\"Plot\"},{\"attributes\":{},\"id\":\"1496\",\"type\":\"SaveTool\"},{\"attributes\":{\"end\":10.0,\"reset_end\":10.0,\"reset_start\":1.0,\"start\":1.0,\"tags\":[[[\"k\",\"k\",null]]]},\"id\":\"1476\",\"type\":\"Range1d\"},{\"attributes\":{\"axis_label\":\"inertia\",\"bounds\":\"auto\",\"formatter\":{\"id\":\"1523\"},\"major_label_orientation\":\"horizontal\",\"ticker\":{\"id\":\"1493\"}},\"id\":\"1492\",\"type\":\"LinearAxis\"},{\"attributes\":{\"text\":\"Elbow Curve\",\"text_color\":{\"value\":\"black\"},\"text_font_size\":{\"value\":\"12pt\"}},\"id\":\"1480\",\"type\":\"Title\"},{\"attributes\":{},\"id\":\"1498\",\"type\":\"WheelZoomTool\"},{\"attributes\":{\"bottom_units\":\"screen\",\"fill_alpha\":0.5,\"fill_color\":\"lightgrey\",\"left_units\":\"screen\",\"level\":\"overlay\",\"line_alpha\":1.0,\"line_color\":\"black\",\"line_dash\":[4,4],\"line_width\":2,\"right_units\":\"screen\",\"top_units\":\"screen\"},\"id\":\"1501\",\"type\":\"BoxAnnotation\"},{\"attributes\":{\"data\":{\"inertia\":{\"__ndarray__\":\"lPinyfn8q0AbBLrYLgajQLxcDSnj7JZAe7hYOh+ygUAmLAr7Ngt5QEXeeWTlenJAo1BXlwXzbEAAxyZaEH9mQMqXCRSwGWJAyFWmhUKlXUA=\",\"dtype\":\"float64\",\"order\":\"little\",\"shape\":[10]},\"k\":[1,2,3,4,5,6,7,8,9,10]},\"selected\":{\"id\":\"1510\"},\"selection_policy\":{\"id\":\"1528\"}},\"id\":\"1509\",\"type\":\"ColumnDataSource\"},{\"attributes\":{},\"id\":\"1486\",\"type\":\"LinearScale\"},{\"attributes\":{\"axis_label\":\"k\",\"bounds\":\"auto\",\"formatter\":{\"id\":\"1519\"},\"major_label_orientation\":\"horizontal\",\"ticker\":{\"id\":\"1517\"}},\"id\":\"1488\",\"type\":\"LinearAxis\"},{\"attributes\":{\"margin\":[5,5,5,5],\"name\":\"HSpacer02627\",\"sizing_mode\":\"stretch_width\"},\"id\":\"1538\",\"type\":\"Spacer\"},{\"attributes\":{},\"id\":\"1484\",\"type\":\"LinearScale\"},{\"attributes\":{},\"id\":\"1493\",\"type\":\"BasicTicker\"},{\"attributes\":{},\"id\":\"1500\",\"type\":\"ResetTool\"},{\"attributes\":{\"axis\":{\"id\":\"1492\"},\"dimension\":1,\"grid_line_color\":null,\"ticker\":null},\"id\":\"1495\",\"type\":\"Grid\"},{\"attributes\":{\"overlay\":{\"id\":\"1501\"}},\"id\":\"1499\",\"type\":\"BoxZoomTool\"},{\"attributes\":{\"active_drag\":\"auto\",\"active_inspect\":\"auto\",\"active_multi\":null,\"active_scroll\":\"auto\",\"active_tap\":\"auto\",\"tools\":[{\"id\":\"1478\"},{\"id\":\"1496\"},{\"id\":\"1497\"},{\"id\":\"1498\"},{\"id\":\"1499\"},{\"id\":\"1500\"}]},\"id\":\"1502\",\"type\":\"Toolbar\"},{\"attributes\":{\"end\":3928.8784347846604,\"reset_end\":3928.8784347846604,\"reset_start\":-227.8083829605381,\"start\":-227.8083829605381,\"tags\":[[[\"inertia\",\"inertia\",null]]]},\"id\":\"1477\",\"type\":\"Range1d\"},{\"attributes\":{},\"id\":\"1519\",\"type\":\"BasicTickFormatter\"},{\"attributes\":{},\"id\":\"1528\",\"type\":\"UnionRenderers\"},{\"attributes\":{\"axis\":{\"id\":\"1488\"},\"grid_line_color\":null,\"ticker\":null},\"id\":\"1491\",\"type\":\"Grid\"},{\"attributes\":{\"line_color\":\"#1f77b3\",\"line_width\":2,\"x\":{\"field\":\"k\"},\"y\":{\"field\":\"inertia\"}},\"id\":\"1512\",\"type\":\"Line\"},{\"attributes\":{\"callback\":null,\"renderers\":[{\"id\":\"1515\"}],\"tags\":[\"hv_created\"],\"tooltips\":[[\"k\",\"@{k}\"],[\"inertia\",\"@{inertia}\"]]},\"id\":\"1478\",\"type\":\"HoverTool\"},{\"attributes\":{},\"id\":\"1497\",\"type\":\"PanTool\"}],\"root_ids\":[\"1474\"]},\"title\":\"Bokeh Application\",\"version\":\"2.2.1\"}};\n",
       "  var render_items = [{\"docid\":\"106a3d80-3616-4114-9845-cfebc96bd575\",\"root_ids\":[\"1474\"],\"roots\":{\"1474\":\"f92bcb4a-2954-4b88-9afc-aaae2275e511\"}}];\n",
       "  root.Bokeh.embed.embed_items_notebook(docs_json, render_items);\n",
       "  }\n",
       "if (root.Bokeh !== undefined) {\n",
       "    embed_document(root);\n",
       "  } else {\n",
       "    var attempts = 0;\n",
       "    var timer = setInterval(function(root) {\n",
       "      if (root.Bokeh !== undefined) {\n",
       "        clearInterval(timer);\n",
       "        embed_document(root);\n",
       "      } else if (document.readyState == \"complete\") {\n",
       "        attempts++;\n",
       "        if (attempts > 100) {\n",
       "          clearInterval(timer);\n",
       "          console.log(\"Bokeh: ERROR: Unable to run BokehJS code because BokehJS library is missing\");\n",
       "        }\n",
       "      }\n",
       "    }, 10, root)\n",
       "  }\n",
       "})(window);</script>"
      ],
      "text/plain": [
       ":Curve   [k]   (inertia)"
      ]
     },
     "execution_count": 119,
     "metadata": {
      "application/vnd.holoviews_exec.v0+json": {
       "id": "1474"
      }
     },
     "output_type": "execute_result"
    }
   ],
   "source": [
    "# Define a DataFrame to plot the Elbow Curve using hvPlot\n",
    "elbow_data = {\"k\": k, \"inertia\": inertia}\n",
    "df_elbow = pd.DataFrame(elbow_data)\n",
    "df_elbow.hvplot.line(x=\"k\", y=\"inertia\", title=\"Elbow Curve\", xticks=k)"
   ]
  },
  {
   "cell_type": "code",
   "execution_count": 120,
   "metadata": {},
   "outputs": [
    {
     "data": {
      "text/plain": [
       "KMeans(n_clusters=4, random_state=0)"
      ]
     },
     "execution_count": 120,
     "metadata": {},
     "output_type": "execute_result"
    }
   ],
   "source": [
    "# Initializing model with K = 4 \n",
    "model = KMeans(n_clusters=4, random_state=0)\n",
    "model"
   ]
  },
  {
   "cell_type": "code",
   "execution_count": 121,
   "metadata": {},
   "outputs": [
    {
     "data": {
      "text/plain": [
       "KMeans(n_clusters=4, random_state=0)"
      ]
     },
     "execution_count": 121,
     "metadata": {},
     "output_type": "execute_result"
    }
   ],
   "source": [
    "# Fitting model\n",
    "model.fit(pcs_df)"
   ]
  },
  {
   "cell_type": "code",
   "execution_count": 122,
   "metadata": {},
   "outputs": [],
   "source": [
    "# Get the predictions\n",
    "predictions = model.predict(pcs_df)"
   ]
  },
  {
   "cell_type": "code",
   "execution_count": 123,
   "metadata": {},
   "outputs": [],
   "source": [
    "pcs_df[\"class\"]=model.labels_"
   ]
  },
  {
   "cell_type": "code",
   "execution_count": 124,
   "metadata": {},
   "outputs": [
    {
     "data": {
      "text/html": [
       "<div>\n",
       "<style scoped>\n",
       "    .dataframe tbody tr th:only-of-type {\n",
       "        vertical-align: middle;\n",
       "    }\n",
       "\n",
       "    .dataframe tbody tr th {\n",
       "        vertical-align: top;\n",
       "    }\n",
       "\n",
       "    .dataframe thead th {\n",
       "        text-align: right;\n",
       "    }\n",
       "</style>\n",
       "<table border=\"1\" class=\"dataframe\">\n",
       "  <thead>\n",
       "    <tr style=\"text-align: right;\">\n",
       "      <th></th>\n",
       "      <th>PC 1</th>\n",
       "      <th>PC 2</th>\n",
       "      <th>PC 3</th>\n",
       "      <th>class</th>\n",
       "    </tr>\n",
       "    <tr>\n",
       "      <th>Unnamed: 0</th>\n",
       "      <th></th>\n",
       "      <th></th>\n",
       "      <th></th>\n",
       "      <th></th>\n",
       "    </tr>\n",
       "  </thead>\n",
       "  <tbody>\n",
       "    <tr>\n",
       "      <th>42</th>\n",
       "      <td>-0.335966</td>\n",
       "      <td>1.031222</td>\n",
       "      <td>-0.540236</td>\n",
       "      <td>3</td>\n",
       "    </tr>\n",
       "    <tr>\n",
       "      <th>404</th>\n",
       "      <td>-0.319440</td>\n",
       "      <td>1.031218</td>\n",
       "      <td>-0.540735</td>\n",
       "      <td>3</td>\n",
       "    </tr>\n",
       "    <tr>\n",
       "      <th>1337</th>\n",
       "      <td>2.288745</td>\n",
       "      <td>1.605273</td>\n",
       "      <td>-0.679396</td>\n",
       "      <td>3</td>\n",
       "    </tr>\n",
       "    <tr>\n",
       "      <th>BTC</th>\n",
       "      <td>-0.137501</td>\n",
       "      <td>-1.325989</td>\n",
       "      <td>0.223103</td>\n",
       "      <td>0</td>\n",
       "    </tr>\n",
       "    <tr>\n",
       "      <th>ETH</th>\n",
       "      <td>-0.144662</td>\n",
       "      <td>-2.080350</td>\n",
       "      <td>0.385651</td>\n",
       "      <td>0</td>\n",
       "    </tr>\n",
       "  </tbody>\n",
       "</table>\n",
       "</div>"
      ],
      "text/plain": [
       "                PC 1      PC 2      PC 3  class\n",
       "Unnamed: 0                                     \n",
       "42         -0.335966  1.031222 -0.540236      3\n",
       "404        -0.319440  1.031218 -0.540735      3\n",
       "1337        2.288745  1.605273 -0.679396      3\n",
       "BTC        -0.137501 -1.325989  0.223103      0\n",
       "ETH        -0.144662 -2.080350  0.385651      0"
      ]
     },
     "execution_count": 124,
     "metadata": {},
     "output_type": "execute_result"
    }
   ],
   "source": [
    "pcs_df.head()"
   ]
  },
  {
   "cell_type": "code",
   "execution_count": 125,
   "metadata": {},
   "outputs": [
    {
     "data": {
      "text/html": [
       "<div>\n",
       "<style scoped>\n",
       "    .dataframe tbody tr th:only-of-type {\n",
       "        vertical-align: middle;\n",
       "    }\n",
       "\n",
       "    .dataframe tbody tr th {\n",
       "        vertical-align: top;\n",
       "    }\n",
       "\n",
       "    .dataframe thead th {\n",
       "        text-align: right;\n",
       "    }\n",
       "</style>\n",
       "<table border=\"1\" class=\"dataframe\">\n",
       "  <thead>\n",
       "    <tr style=\"text-align: right;\">\n",
       "      <th></th>\n",
       "      <th>Unnamed: 0</th>\n",
       "      <th>CoinName</th>\n",
       "      <th>Algorithm</th>\n",
       "      <th>IsTrading</th>\n",
       "      <th>ProofType</th>\n",
       "      <th>TotalCoinsMined</th>\n",
       "      <th>TotalCoinSupply</th>\n",
       "    </tr>\n",
       "  </thead>\n",
       "  <tbody>\n",
       "    <tr>\n",
       "      <th>0</th>\n",
       "      <td>42</td>\n",
       "      <td>42 Coin</td>\n",
       "      <td>Scrypt</td>\n",
       "      <td>True</td>\n",
       "      <td>PoW/PoS</td>\n",
       "      <td>4.199995e+01</td>\n",
       "      <td>42</td>\n",
       "    </tr>\n",
       "    <tr>\n",
       "      <th>2</th>\n",
       "      <td>404</td>\n",
       "      <td>404Coin</td>\n",
       "      <td>Scrypt</td>\n",
       "      <td>True</td>\n",
       "      <td>PoW/PoS</td>\n",
       "      <td>1.055185e+09</td>\n",
       "      <td>532000000</td>\n",
       "    </tr>\n",
       "    <tr>\n",
       "      <th>5</th>\n",
       "      <td>1337</td>\n",
       "      <td>EliteCoin</td>\n",
       "      <td>X13</td>\n",
       "      <td>True</td>\n",
       "      <td>PoW/PoS</td>\n",
       "      <td>2.927942e+10</td>\n",
       "      <td>314159265359</td>\n",
       "    </tr>\n",
       "    <tr>\n",
       "      <th>7</th>\n",
       "      <td>BTC</td>\n",
       "      <td>Bitcoin</td>\n",
       "      <td>SHA-256</td>\n",
       "      <td>True</td>\n",
       "      <td>PoW</td>\n",
       "      <td>1.792718e+07</td>\n",
       "      <td>21000000</td>\n",
       "    </tr>\n",
       "    <tr>\n",
       "      <th>8</th>\n",
       "      <td>ETH</td>\n",
       "      <td>Ethereum</td>\n",
       "      <td>Ethash</td>\n",
       "      <td>True</td>\n",
       "      <td>PoW</td>\n",
       "      <td>1.076842e+08</td>\n",
       "      <td>0</td>\n",
       "    </tr>\n",
       "    <tr>\n",
       "      <th>...</th>\n",
       "      <td>...</td>\n",
       "      <td>...</td>\n",
       "      <td>...</td>\n",
       "      <td>...</td>\n",
       "      <td>...</td>\n",
       "      <td>...</td>\n",
       "      <td>...</td>\n",
       "    </tr>\n",
       "    <tr>\n",
       "      <th>1238</th>\n",
       "      <td>ZEPH</td>\n",
       "      <td>ZEPHYR</td>\n",
       "      <td>SHA-256</td>\n",
       "      <td>True</td>\n",
       "      <td>DPoS</td>\n",
       "      <td>2.000000e+09</td>\n",
       "      <td>2000000000</td>\n",
       "    </tr>\n",
       "    <tr>\n",
       "      <th>1242</th>\n",
       "      <td>GAP</td>\n",
       "      <td>Gapcoin</td>\n",
       "      <td>Scrypt</td>\n",
       "      <td>True</td>\n",
       "      <td>PoW/PoS</td>\n",
       "      <td>1.493105e+07</td>\n",
       "      <td>250000000</td>\n",
       "    </tr>\n",
       "    <tr>\n",
       "      <th>1245</th>\n",
       "      <td>BDX</td>\n",
       "      <td>Beldex</td>\n",
       "      <td>CryptoNight</td>\n",
       "      <td>True</td>\n",
       "      <td>PoW</td>\n",
       "      <td>9.802226e+08</td>\n",
       "      <td>1400222610</td>\n",
       "    </tr>\n",
       "    <tr>\n",
       "      <th>1246</th>\n",
       "      <td>ZEN</td>\n",
       "      <td>Horizen</td>\n",
       "      <td>Equihash</td>\n",
       "      <td>True</td>\n",
       "      <td>PoW</td>\n",
       "      <td>7.296538e+06</td>\n",
       "      <td>21000000</td>\n",
       "    </tr>\n",
       "    <tr>\n",
       "      <th>1247</th>\n",
       "      <td>XBC</td>\n",
       "      <td>BitcoinPlus</td>\n",
       "      <td>Scrypt</td>\n",
       "      <td>True</td>\n",
       "      <td>PoS</td>\n",
       "      <td>1.283270e+05</td>\n",
       "      <td>1000000</td>\n",
       "    </tr>\n",
       "  </tbody>\n",
       "</table>\n",
       "<p>524 rows × 7 columns</p>\n",
       "</div>"
      ],
      "text/plain": [
       "     Unnamed: 0     CoinName    Algorithm  IsTrading ProofType  \\\n",
       "0            42      42 Coin       Scrypt       True   PoW/PoS   \n",
       "2           404      404Coin       Scrypt       True   PoW/PoS   \n",
       "5          1337    EliteCoin          X13       True   PoW/PoS   \n",
       "7           BTC      Bitcoin      SHA-256       True       PoW   \n",
       "8           ETH     Ethereum       Ethash       True       PoW   \n",
       "...         ...          ...          ...        ...       ...   \n",
       "1238       ZEPH       ZEPHYR      SHA-256       True      DPoS   \n",
       "1242        GAP      Gapcoin       Scrypt       True   PoW/PoS   \n",
       "1245        BDX       Beldex  CryptoNight       True       PoW   \n",
       "1246        ZEN      Horizen     Equihash       True       PoW   \n",
       "1247        XBC  BitcoinPlus       Scrypt       True       PoS   \n",
       "\n",
       "      TotalCoinsMined TotalCoinSupply  \n",
       "0        4.199995e+01              42  \n",
       "2        1.055185e+09       532000000  \n",
       "5        2.927942e+10    314159265359  \n",
       "7        1.792718e+07        21000000  \n",
       "8        1.076842e+08               0  \n",
       "...               ...             ...  \n",
       "1238     2.000000e+09      2000000000  \n",
       "1242     1.493105e+07       250000000  \n",
       "1245     9.802226e+08      1400222610  \n",
       "1246     7.296538e+06        21000000  \n",
       "1247     1.283270e+05         1000000  \n",
       "\n",
       "[524 rows x 7 columns]"
      ]
     },
     "execution_count": 125,
     "metadata": {},
     "output_type": "execute_result"
    }
   ],
   "source": [
    "crypto_df_copy"
   ]
  },
  {
   "cell_type": "code",
   "execution_count": 126,
   "metadata": {},
   "outputs": [],
   "source": [
    "crypto_copy_new = crypto_df_copy.set_index(\"Unnamed: 0\")"
   ]
  },
  {
   "cell_type": "code",
   "execution_count": 127,
   "metadata": {},
   "outputs": [
    {
     "data": {
      "text/html": [
       "<div>\n",
       "<style scoped>\n",
       "    .dataframe tbody tr th:only-of-type {\n",
       "        vertical-align: middle;\n",
       "    }\n",
       "\n",
       "    .dataframe tbody tr th {\n",
       "        vertical-align: top;\n",
       "    }\n",
       "\n",
       "    .dataframe thead th {\n",
       "        text-align: right;\n",
       "    }\n",
       "</style>\n",
       "<table border=\"1\" class=\"dataframe\">\n",
       "  <thead>\n",
       "    <tr style=\"text-align: right;\">\n",
       "      <th></th>\n",
       "      <th>CoinName</th>\n",
       "      <th>Algorithm</th>\n",
       "      <th>IsTrading</th>\n",
       "      <th>ProofType</th>\n",
       "      <th>TotalCoinsMined</th>\n",
       "      <th>TotalCoinSupply</th>\n",
       "    </tr>\n",
       "    <tr>\n",
       "      <th>Unnamed: 0</th>\n",
       "      <th></th>\n",
       "      <th></th>\n",
       "      <th></th>\n",
       "      <th></th>\n",
       "      <th></th>\n",
       "      <th></th>\n",
       "    </tr>\n",
       "  </thead>\n",
       "  <tbody>\n",
       "    <tr>\n",
       "      <th>42</th>\n",
       "      <td>42 Coin</td>\n",
       "      <td>Scrypt</td>\n",
       "      <td>True</td>\n",
       "      <td>PoW/PoS</td>\n",
       "      <td>4.199995e+01</td>\n",
       "      <td>42</td>\n",
       "    </tr>\n",
       "    <tr>\n",
       "      <th>404</th>\n",
       "      <td>404Coin</td>\n",
       "      <td>Scrypt</td>\n",
       "      <td>True</td>\n",
       "      <td>PoW/PoS</td>\n",
       "      <td>1.055185e+09</td>\n",
       "      <td>532000000</td>\n",
       "    </tr>\n",
       "    <tr>\n",
       "      <th>1337</th>\n",
       "      <td>EliteCoin</td>\n",
       "      <td>X13</td>\n",
       "      <td>True</td>\n",
       "      <td>PoW/PoS</td>\n",
       "      <td>2.927942e+10</td>\n",
       "      <td>314159265359</td>\n",
       "    </tr>\n",
       "    <tr>\n",
       "      <th>BTC</th>\n",
       "      <td>Bitcoin</td>\n",
       "      <td>SHA-256</td>\n",
       "      <td>True</td>\n",
       "      <td>PoW</td>\n",
       "      <td>1.792718e+07</td>\n",
       "      <td>21000000</td>\n",
       "    </tr>\n",
       "    <tr>\n",
       "      <th>ETH</th>\n",
       "      <td>Ethereum</td>\n",
       "      <td>Ethash</td>\n",
       "      <td>True</td>\n",
       "      <td>PoW</td>\n",
       "      <td>1.076842e+08</td>\n",
       "      <td>0</td>\n",
       "    </tr>\n",
       "  </tbody>\n",
       "</table>\n",
       "</div>"
      ],
      "text/plain": [
       "             CoinName Algorithm  IsTrading ProofType  TotalCoinsMined  \\\n",
       "Unnamed: 0                                                              \n",
       "42            42 Coin    Scrypt       True   PoW/PoS     4.199995e+01   \n",
       "404           404Coin    Scrypt       True   PoW/PoS     1.055185e+09   \n",
       "1337        EliteCoin       X13       True   PoW/PoS     2.927942e+10   \n",
       "BTC           Bitcoin   SHA-256       True       PoW     1.792718e+07   \n",
       "ETH          Ethereum    Ethash       True       PoW     1.076842e+08   \n",
       "\n",
       "           TotalCoinSupply  \n",
       "Unnamed: 0                  \n",
       "42                      42  \n",
       "404              532000000  \n",
       "1337          314159265359  \n",
       "BTC               21000000  \n",
       "ETH                      0  "
      ]
     },
     "execution_count": 127,
     "metadata": {},
     "output_type": "execute_result"
    }
   ],
   "source": [
    "crypto_copy_new.head()"
   ]
  },
  {
   "cell_type": "code",
   "execution_count": 128,
   "metadata": {},
   "outputs": [],
   "source": [
    "clustered_df = pd.concat([pcs_df,crypto_copy_new],axis=1)"
   ]
  },
  {
   "cell_type": "code",
   "execution_count": 129,
   "metadata": {},
   "outputs": [
    {
     "data": {
      "text/html": [
       "<div>\n",
       "<style scoped>\n",
       "    .dataframe tbody tr th:only-of-type {\n",
       "        vertical-align: middle;\n",
       "    }\n",
       "\n",
       "    .dataframe tbody tr th {\n",
       "        vertical-align: top;\n",
       "    }\n",
       "\n",
       "    .dataframe thead th {\n",
       "        text-align: right;\n",
       "    }\n",
       "</style>\n",
       "<table border=\"1\" class=\"dataframe\">\n",
       "  <thead>\n",
       "    <tr style=\"text-align: right;\">\n",
       "      <th></th>\n",
       "      <th>PC 1</th>\n",
       "      <th>PC 2</th>\n",
       "      <th>PC 3</th>\n",
       "      <th>class</th>\n",
       "      <th>CoinName</th>\n",
       "      <th>Algorithm</th>\n",
       "      <th>IsTrading</th>\n",
       "      <th>ProofType</th>\n",
       "      <th>TotalCoinsMined</th>\n",
       "      <th>TotalCoinSupply</th>\n",
       "    </tr>\n",
       "    <tr>\n",
       "      <th>Unnamed: 0</th>\n",
       "      <th></th>\n",
       "      <th></th>\n",
       "      <th></th>\n",
       "      <th></th>\n",
       "      <th></th>\n",
       "      <th></th>\n",
       "      <th></th>\n",
       "      <th></th>\n",
       "      <th></th>\n",
       "      <th></th>\n",
       "    </tr>\n",
       "  </thead>\n",
       "  <tbody>\n",
       "    <tr>\n",
       "      <th>42</th>\n",
       "      <td>-0.335966</td>\n",
       "      <td>1.031222</td>\n",
       "      <td>-0.540236</td>\n",
       "      <td>3</td>\n",
       "      <td>42 Coin</td>\n",
       "      <td>Scrypt</td>\n",
       "      <td>True</td>\n",
       "      <td>PoW/PoS</td>\n",
       "      <td>4.199995e+01</td>\n",
       "      <td>42</td>\n",
       "    </tr>\n",
       "    <tr>\n",
       "      <th>404</th>\n",
       "      <td>-0.319440</td>\n",
       "      <td>1.031218</td>\n",
       "      <td>-0.540735</td>\n",
       "      <td>3</td>\n",
       "      <td>404Coin</td>\n",
       "      <td>Scrypt</td>\n",
       "      <td>True</td>\n",
       "      <td>PoW/PoS</td>\n",
       "      <td>1.055185e+09</td>\n",
       "      <td>532000000</td>\n",
       "    </tr>\n",
       "    <tr>\n",
       "      <th>1337</th>\n",
       "      <td>2.288745</td>\n",
       "      <td>1.605273</td>\n",
       "      <td>-0.679396</td>\n",
       "      <td>3</td>\n",
       "      <td>EliteCoin</td>\n",
       "      <td>X13</td>\n",
       "      <td>True</td>\n",
       "      <td>PoW/PoS</td>\n",
       "      <td>2.927942e+10</td>\n",
       "      <td>314159265359</td>\n",
       "    </tr>\n",
       "    <tr>\n",
       "      <th>BTC</th>\n",
       "      <td>-0.137501</td>\n",
       "      <td>-1.325989</td>\n",
       "      <td>0.223103</td>\n",
       "      <td>0</td>\n",
       "      <td>Bitcoin</td>\n",
       "      <td>SHA-256</td>\n",
       "      <td>True</td>\n",
       "      <td>PoW</td>\n",
       "      <td>1.792718e+07</td>\n",
       "      <td>21000000</td>\n",
       "    </tr>\n",
       "    <tr>\n",
       "      <th>ETH</th>\n",
       "      <td>-0.144662</td>\n",
       "      <td>-2.080350</td>\n",
       "      <td>0.385651</td>\n",
       "      <td>0</td>\n",
       "      <td>Ethereum</td>\n",
       "      <td>Ethash</td>\n",
       "      <td>True</td>\n",
       "      <td>PoW</td>\n",
       "      <td>1.076842e+08</td>\n",
       "      <td>0</td>\n",
       "    </tr>\n",
       "  </tbody>\n",
       "</table>\n",
       "</div>"
      ],
      "text/plain": [
       "                PC 1      PC 2      PC 3  class   CoinName Algorithm  \\\n",
       "Unnamed: 0                                                             \n",
       "42         -0.335966  1.031222 -0.540236      3    42 Coin    Scrypt   \n",
       "404        -0.319440  1.031218 -0.540735      3    404Coin    Scrypt   \n",
       "1337        2.288745  1.605273 -0.679396      3  EliteCoin       X13   \n",
       "BTC        -0.137501 -1.325989  0.223103      0    Bitcoin   SHA-256   \n",
       "ETH        -0.144662 -2.080350  0.385651      0   Ethereum    Ethash   \n",
       "\n",
       "            IsTrading ProofType  TotalCoinsMined TotalCoinSupply  \n",
       "Unnamed: 0                                                        \n",
       "42               True   PoW/PoS     4.199995e+01              42  \n",
       "404              True   PoW/PoS     1.055185e+09       532000000  \n",
       "1337             True   PoW/PoS     2.927942e+10    314159265359  \n",
       "BTC              True       PoW     1.792718e+07        21000000  \n",
       "ETH              True       PoW     1.076842e+08               0  "
      ]
     },
     "execution_count": 129,
     "metadata": {},
     "output_type": "execute_result"
    }
   ],
   "source": [
    "clustered_df.head()"
   ]
  },
  {
   "cell_type": "code",
   "execution_count": 130,
   "metadata": {},
   "outputs": [],
   "source": [
    "clustered_df.drop(columns=\"IsTrading\",inplace=True)"
   ]
  },
  {
   "cell_type": "code",
   "execution_count": 131,
   "metadata": {},
   "outputs": [],
   "source": [
    "cols = [\"Algorithm\",\"ProofType\",\"TotalCoinsMined\",\"TotalCoinSupply\",\"PC 1\",\"PC 2\",\"PC 3\",\"CoinName\",\"class\"]"
   ]
  },
  {
   "cell_type": "code",
   "execution_count": 132,
   "metadata": {},
   "outputs": [],
   "source": [
    "clustered_df = clustered_df[cols]"
   ]
  },
  {
   "cell_type": "code",
   "execution_count": 133,
   "metadata": {},
   "outputs": [
    {
     "data": {
      "text/html": [
       "<div>\n",
       "<style scoped>\n",
       "    .dataframe tbody tr th:only-of-type {\n",
       "        vertical-align: middle;\n",
       "    }\n",
       "\n",
       "    .dataframe tbody tr th {\n",
       "        vertical-align: top;\n",
       "    }\n",
       "\n",
       "    .dataframe thead th {\n",
       "        text-align: right;\n",
       "    }\n",
       "</style>\n",
       "<table border=\"1\" class=\"dataframe\">\n",
       "  <thead>\n",
       "    <tr style=\"text-align: right;\">\n",
       "      <th></th>\n",
       "      <th>Algorithm</th>\n",
       "      <th>ProofType</th>\n",
       "      <th>TotalCoinsMined</th>\n",
       "      <th>TotalCoinSupply</th>\n",
       "      <th>PC 1</th>\n",
       "      <th>PC 2</th>\n",
       "      <th>PC 3</th>\n",
       "      <th>CoinName</th>\n",
       "      <th>class</th>\n",
       "    </tr>\n",
       "    <tr>\n",
       "      <th>Unnamed: 0</th>\n",
       "      <th></th>\n",
       "      <th></th>\n",
       "      <th></th>\n",
       "      <th></th>\n",
       "      <th></th>\n",
       "      <th></th>\n",
       "      <th></th>\n",
       "      <th></th>\n",
       "      <th></th>\n",
       "    </tr>\n",
       "  </thead>\n",
       "  <tbody>\n",
       "    <tr>\n",
       "      <th>42</th>\n",
       "      <td>Scrypt</td>\n",
       "      <td>PoW/PoS</td>\n",
       "      <td>4.199995e+01</td>\n",
       "      <td>42</td>\n",
       "      <td>-0.335966</td>\n",
       "      <td>1.031222</td>\n",
       "      <td>-0.540236</td>\n",
       "      <td>42 Coin</td>\n",
       "      <td>3</td>\n",
       "    </tr>\n",
       "    <tr>\n",
       "      <th>404</th>\n",
       "      <td>Scrypt</td>\n",
       "      <td>PoW/PoS</td>\n",
       "      <td>1.055185e+09</td>\n",
       "      <td>532000000</td>\n",
       "      <td>-0.319440</td>\n",
       "      <td>1.031218</td>\n",
       "      <td>-0.540735</td>\n",
       "      <td>404Coin</td>\n",
       "      <td>3</td>\n",
       "    </tr>\n",
       "    <tr>\n",
       "      <th>1337</th>\n",
       "      <td>X13</td>\n",
       "      <td>PoW/PoS</td>\n",
       "      <td>2.927942e+10</td>\n",
       "      <td>314159265359</td>\n",
       "      <td>2.288745</td>\n",
       "      <td>1.605273</td>\n",
       "      <td>-0.679396</td>\n",
       "      <td>EliteCoin</td>\n",
       "      <td>3</td>\n",
       "    </tr>\n",
       "    <tr>\n",
       "      <th>BTC</th>\n",
       "      <td>SHA-256</td>\n",
       "      <td>PoW</td>\n",
       "      <td>1.792718e+07</td>\n",
       "      <td>21000000</td>\n",
       "      <td>-0.137501</td>\n",
       "      <td>-1.325989</td>\n",
       "      <td>0.223103</td>\n",
       "      <td>Bitcoin</td>\n",
       "      <td>0</td>\n",
       "    </tr>\n",
       "    <tr>\n",
       "      <th>ETH</th>\n",
       "      <td>Ethash</td>\n",
       "      <td>PoW</td>\n",
       "      <td>1.076842e+08</td>\n",
       "      <td>0</td>\n",
       "      <td>-0.144662</td>\n",
       "      <td>-2.080350</td>\n",
       "      <td>0.385651</td>\n",
       "      <td>Ethereum</td>\n",
       "      <td>0</td>\n",
       "    </tr>\n",
       "  </tbody>\n",
       "</table>\n",
       "</div>"
      ],
      "text/plain": [
       "           Algorithm ProofType  TotalCoinsMined TotalCoinSupply      PC 1  \\\n",
       "Unnamed: 0                                                                  \n",
       "42            Scrypt   PoW/PoS     4.199995e+01              42 -0.335966   \n",
       "404           Scrypt   PoW/PoS     1.055185e+09       532000000 -0.319440   \n",
       "1337             X13   PoW/PoS     2.927942e+10    314159265359  2.288745   \n",
       "BTC          SHA-256       PoW     1.792718e+07        21000000 -0.137501   \n",
       "ETH           Ethash       PoW     1.076842e+08               0 -0.144662   \n",
       "\n",
       "                PC 2      PC 3   CoinName  class  \n",
       "Unnamed: 0                                        \n",
       "42          1.031222 -0.540236    42 Coin      3  \n",
       "404         1.031218 -0.540735    404Coin      3  \n",
       "1337        1.605273 -0.679396  EliteCoin      3  \n",
       "BTC        -1.325989  0.223103    Bitcoin      0  \n",
       "ETH        -2.080350  0.385651   Ethereum      0  "
      ]
     },
     "execution_count": 133,
     "metadata": {},
     "output_type": "execute_result"
    }
   ],
   "source": [
    "clustered_df.head()"
   ]
  },
  {
   "cell_type": "markdown",
   "metadata": {},
   "source": [
    "## Visualizing Results"
   ]
  },
  {
   "cell_type": "code",
   "execution_count": 134,
   "metadata": {},
   "outputs": [
    {
     "data": {
      "application/vnd.plotly.v1+json": {
       "config": {
        "plotlyServerURL": "https://plot.ly"
       },
       "data": [
        {
         "customdata": [
          [
           "Scrypt"
          ],
          [
           "Scrypt"
          ],
          [
           "X13"
          ],
          [
           "SHA-256"
          ],
          [
           "Ethash"
          ],
          [
           "Scrypt"
          ],
          [
           "X11"
          ],
          [
           "CryptoNight-V7"
          ],
          [
           "Ethash"
          ],
          [
           "Equihash"
          ],
          [
           "SHA-512"
          ],
          [
           "SHA-256"
          ],
          [
           "SHA-256"
          ],
          [
           "Scrypt"
          ],
          [
           "X15"
          ],
          [
           "X11"
          ],
          [
           "Scrypt"
          ],
          [
           "Scrypt"
          ],
          [
           "Scrypt"
          ],
          [
           "Scrypt"
          ],
          [
           "SHA-256"
          ],
          [
           "Scrypt"
          ],
          [
           "Scrypt"
          ],
          [
           "Scrypt"
          ],
          [
           "Quark"
          ],
          [
           "Groestl"
          ],
          [
           "Scrypt"
          ],
          [
           "Scrypt"
          ],
          [
           "Scrypt"
          ],
          [
           "Scrypt"
          ],
          [
           "Scrypt"
          ],
          [
           "X11"
          ],
          [
           "Scrypt"
          ],
          [
           "Groestl"
          ],
          [
           "SHA-256"
          ],
          [
           "Scrypt"
          ],
          [
           "Scrypt"
          ],
          [
           "Scrypt"
          ],
          [
           "Scrypt"
          ],
          [
           "PoS"
          ],
          [
           "Scrypt"
          ],
          [
           "Scrypt"
          ],
          [
           "NeoScrypt"
          ],
          [
           "Scrypt"
          ],
          [
           "Scrypt"
          ],
          [
           "Scrypt"
          ],
          [
           "Scrypt"
          ],
          [
           "X11"
          ],
          [
           "Scrypt"
          ],
          [
           "X11"
          ],
          [
           "SHA-256"
          ],
          [
           "Scrypt"
          ],
          [
           "Scrypt"
          ],
          [
           "Scrypt"
          ],
          [
           "SHA3"
          ],
          [
           "Scrypt"
          ],
          [
           "HybridScryptHash256"
          ],
          [
           "Scrypt"
          ],
          [
           "Scrypt"
          ],
          [
           "SHA-256"
          ],
          [
           "Scrypt"
          ],
          [
           "X13"
          ],
          [
           "Scrypt"
          ],
          [
           "SHA-256"
          ],
          [
           "Scrypt"
          ],
          [
           "X13"
          ],
          [
           "NeoScrypt"
          ],
          [
           "Scrypt"
          ],
          [
           "Scrypt"
          ],
          [
           "Scrypt"
          ],
          [
           "Scrypt"
          ],
          [
           "Scrypt"
          ],
          [
           "Scrypt"
          ],
          [
           "X11"
          ],
          [
           "X11"
          ],
          [
           "SHA-256"
          ],
          [
           "SHA-256"
          ],
          [
           "PHI1612"
          ],
          [
           "X11"
          ],
          [
           "SHA-256"
          ],
          [
           "SHA-256"
          ],
          [
           "SHA-256"
          ],
          [
           "X11"
          ],
          [
           "Scrypt"
          ],
          [
           "Scrypt"
          ],
          [
           "Scrypt"
          ],
          [
           "Scrypt"
          ],
          [
           "Lyra2REv2"
          ],
          [
           "Scrypt"
          ],
          [
           "X11"
          ],
          [
           "SHA-256"
          ],
          [
           "X13"
          ],
          [
           "Scrypt"
          ],
          [
           "CryptoNight"
          ],
          [
           "CryptoNight"
          ],
          [
           "Shabal256"
          ],
          [
           "Counterparty"
          ],
          [
           "Scrypt"
          ],
          [
           "SHA-256"
          ],
          [
           "Groestl"
          ],
          [
           "Scrypt"
          ],
          [
           "Scrypt"
          ],
          [
           "Scrypt"
          ],
          [
           "X13"
          ],
          [
           "Scrypt"
          ],
          [
           "Scrypt"
          ],
          [
           "Scrypt"
          ],
          [
           "Scrypt"
          ],
          [
           "X13"
          ],
          [
           "Scrypt"
          ],
          [
           "Stanford Folding"
          ],
          [
           "X11"
          ],
          [
           "QuBit"
          ],
          [
           "Scrypt"
          ],
          [
           "Scrypt"
          ],
          [
           "Scrypt"
          ],
          [
           "M7 POW"
          ],
          [
           "Scrypt"
          ],
          [
           "SHA-256"
          ],
          [
           "Scrypt"
          ],
          [
           "X11"
          ],
          [
           "SHA3"
          ],
          [
           "X11"
          ],
          [
           "Lyra2RE"
          ],
          [
           "SHA-256"
          ],
          [
           "QUAIT"
          ],
          [
           "X11"
          ],
          [
           "X11"
          ],
          [
           "Scrypt"
          ],
          [
           "Scrypt"
          ],
          [
           "Scrypt"
          ],
          [
           "Ethash"
          ],
          [
           "X13"
          ],
          [
           "Blake2b"
          ],
          [
           "SHA-256"
          ],
          [
           "X15"
          ],
          [
           "X11"
          ],
          [
           "SHA-256"
          ],
          [
           "BLAKE256"
          ],
          [
           "Scrypt"
          ],
          [
           "1GB AES Pattern Search"
          ],
          [
           "SHA-256"
          ],
          [
           "X11"
          ],
          [
           "Scrypt"
          ],
          [
           "SHA-256"
          ],
          [
           "SHA-256"
          ],
          [
           "NIST5"
          ],
          [
           "Scrypt"
          ],
          [
           "Scrypt"
          ],
          [
           "X11"
          ],
          [
           "Dagger"
          ],
          [
           "Scrypt"
          ],
          [
           "X11GOST"
          ],
          [
           "X11"
          ],
          [
           "Scrypt"
          ],
          [
           "SHA-256"
          ],
          [
           "Scrypt"
          ],
          [
           "PoS"
          ],
          [
           "Scrypt"
          ],
          [
           "X11"
          ],
          [
           "X11"
          ],
          [
           "SHA-256"
          ],
          [
           "SHA-256"
          ],
          [
           "NIST5"
          ],
          [
           "X11"
          ],
          [
           "Scrypt"
          ],
          [
           "POS 3.0"
          ],
          [
           "Scrypt"
          ],
          [
           "Scrypt"
          ],
          [
           "Scrypt"
          ],
          [
           "X13"
          ],
          [
           "X11"
          ],
          [
           "X11"
          ],
          [
           "Equihash"
          ],
          [
           "X11"
          ],
          [
           "Scrypt"
          ],
          [
           "CryptoNight"
          ],
          [
           "SHA-256"
          ],
          [
           "SHA-256"
          ],
          [
           "X11"
          ],
          [
           "Scrypt"
          ],
          [
           "Scrypt"
          ],
          [
           "Scrypt"
          ],
          [
           "Scrypt"
          ],
          [
           "SHA-256"
          ],
          [
           "Scrypt"
          ],
          [
           "Scrypt"
          ],
          [
           "SHA-256D"
          ],
          [
           "PoS"
          ],
          [
           "Scrypt"
          ],
          [
           "X11"
          ],
          [
           "Lyra2Z"
          ],
          [
           "PoS"
          ],
          [
           "X13"
          ],
          [
           "X14"
          ],
          [
           "PoS"
          ],
          [
           "SHA-256D"
          ],
          [
           "Ethash"
          ],
          [
           "Equihash"
          ],
          [
           "DPoS"
          ],
          [
           "X11"
          ],
          [
           "Scrypt"
          ],
          [
           "X11"
          ],
          [
           "X13"
          ],
          [
           "X11"
          ],
          [
           "PoS"
          ],
          [
           "Scrypt"
          ],
          [
           "Scrypt"
          ],
          [
           "X11"
          ],
          [
           "PoS"
          ],
          [
           "X11"
          ],
          [
           "SHA-256"
          ],
          [
           "Scrypt"
          ],
          [
           "X11"
          ],
          [
           "Scrypt"
          ],
          [
           "Scrypt"
          ],
          [
           "X11"
          ],
          [
           "CryptoNight"
          ],
          [
           "Scrypt"
          ],
          [
           "Scrypt"
          ],
          [
           "Scrypt"
          ],
          [
           "Scrypt"
          ],
          [
           "Quark"
          ],
          [
           "QuBit"
          ],
          [
           "Scrypt"
          ],
          [
           "CryptoNight"
          ],
          [
           "Lyra2RE"
          ],
          [
           "Scrypt"
          ],
          [
           "SHA-256"
          ],
          [
           "X11"
          ],
          [
           "Scrypt"
          ],
          [
           "X11"
          ],
          [
           "Scrypt"
          ],
          [
           "CryptoNight-V7"
          ],
          [
           "Scrypt"
          ],
          [
           "Scrypt"
          ],
          [
           "Scrypt"
          ],
          [
           "X13"
          ],
          [
           "X11"
          ],
          [
           "Equihash"
          ],
          [
           "Scrypt"
          ],
          [
           "Scrypt"
          ],
          [
           "Lyra2RE"
          ],
          [
           "Scrypt"
          ],
          [
           "Dagger-Hashimoto"
          ],
          [
           "X11"
          ],
          [
           "Blake2S"
          ],
          [
           "X11"
          ],
          [
           "Scrypt"
          ],
          [
           "PoS"
          ],
          [
           "X11"
          ],
          [
           "NIST5"
          ],
          [
           "PoS"
          ],
          [
           "X11"
          ],
          [
           "Scrypt"
          ],
          [
           "Scrypt"
          ],
          [
           "Scrypt"
          ],
          [
           "SHA-256"
          ],
          [
           "X11"
          ],
          [
           "Scrypt"
          ],
          [
           "Scrypt"
          ],
          [
           "SHA-256"
          ],
          [
           "PoS"
          ],
          [
           "Scrypt"
          ],
          [
           "X15"
          ],
          [
           "SHA-256"
          ],
          [
           "Scrypt"
          ],
          [
           "POS 3.0"
          ],
          [
           "CryptoNight-V7"
          ],
          [
           "536"
          ],
          [
           "Argon2d"
          ],
          [
           "Blake2b"
          ],
          [
           "Cloverhash"
          ],
          [
           "CryptoNight"
          ],
          [
           "NIST5"
          ],
          [
           "X11"
          ],
          [
           "NIST5"
          ],
          [
           "Skein"
          ],
          [
           "Scrypt"
          ],
          [
           "X13"
          ],
          [
           "Scrypt"
          ],
          [
           "X11"
          ],
          [
           "X11"
          ],
          [
           "Scrypt"
          ],
          [
           "CryptoNight"
          ],
          [
           "X13"
          ],
          [
           "Time Travel"
          ],
          [
           "Scrypt"
          ],
          [
           "Keccak"
          ],
          [
           "SkunkHash v2 Raptor"
          ],
          [
           "X11"
          ],
          [
           "Skein"
          ],
          [
           "SHA-256"
          ],
          [
           "X11"
          ],
          [
           "Scrypt"
          ],
          [
           "VeChainThor Authority"
          ],
          [
           "Scrypt"
          ],
          [
           "PoS"
          ],
          [
           "Scrypt"
          ],
          [
           "Scrypt"
          ],
          [
           "Scrypt"
          ],
          [
           "Scrypt"
          ],
          [
           "Scrypt"
          ],
          [
           "Scrypt"
          ],
          [
           "Scrypt"
          ],
          [
           "CryptoNight"
          ],
          [
           "SHA-512"
          ],
          [
           "Ouroboros"
          ],
          [
           "X11"
          ],
          [
           "Equihash"
          ],
          [
           "NeoScrypt"
          ],
          [
           "X11"
          ],
          [
           "Scrypt"
          ],
          [
           "NeoScrypt"
          ],
          [
           "Lyra2REv2"
          ],
          [
           "Equihash"
          ],
          [
           "Scrypt"
          ],
          [
           "SHA-256"
          ],
          [
           "NIST5"
          ],
          [
           "PHI1612"
          ],
          [
           "Dagger"
          ],
          [
           "Scrypt"
          ],
          [
           "Quark"
          ],
          [
           "Scrypt"
          ],
          [
           "POS 2.0"
          ],
          [
           "Scrypt"
          ],
          [
           "SHA-256"
          ],
          [
           "X11"
          ],
          [
           "NeoScrypt"
          ],
          [
           "Ethash"
          ],
          [
           "NeoScrypt"
          ],
          [
           "X11"
          ],
          [
           "DPoS"
          ],
          [
           "NIST5"
          ],
          [
           "X13"
          ],
          [
           "Scrypt"
          ],
          [
           "CryptoNight"
          ],
          [
           "CryptoNight"
          ],
          [
           "Ethash"
          ],
          [
           "NIST5"
          ],
          [
           "Quark"
          ],
          [
           "X11"
          ],
          [
           "CryptoNight-V7"
          ],
          [
           "Scrypt"
          ],
          [
           "Scrypt"
          ],
          [
           "Scrypt"
          ],
          [
           "X11"
          ],
          [
           "BLAKE256"
          ],
          [
           "X11"
          ],
          [
           "NeoScrypt"
          ],
          [
           "Quark"
          ],
          [
           "NeoScrypt"
          ],
          [
           "Scrypt"
          ],
          [
           "Scrypt"
          ],
          [
           "Scrypt"
          ],
          [
           "X11"
          ],
          [
           "X11"
          ],
          [
           "SHA-256"
          ],
          [
           "C11"
          ],
          [
           "POS 3.0"
          ],
          [
           "Ethash"
          ],
          [
           "Scrypt"
          ],
          [
           "CryptoNight"
          ],
          [
           "SkunkHash"
          ],
          [
           "Scrypt"
          ],
          [
           "CryptoNight"
          ],
          [
           "Scrypt"
          ],
          [
           "Dagger"
          ],
          [
           "Lyra2REv2"
          ],
          [
           "X13"
          ],
          [
           "Proof-of-BibleHash"
          ],
          [
           "SHA-256 + Hive"
          ],
          [
           "Scrypt"
          ],
          [
           "Scrypt"
          ],
          [
           "X11"
          ],
          [
           "C11"
          ],
          [
           "Proof-of-Authority"
          ],
          [
           "X11"
          ],
          [
           "XEVAN"
          ],
          [
           "Scrypt"
          ],
          [
           "VBFT"
          ],
          [
           "Ethash"
          ],
          [
           "CryptoNight"
          ],
          [
           "Scrypt"
          ],
          [
           "IMesh"
          ],
          [
           "NIST5"
          ],
          [
           "Scrypt"
          ],
          [
           "Scrypt"
          ],
          [
           "Equihash"
          ],
          [
           "Scrypt"
          ],
          [
           "Lyra2Z"
          ],
          [
           "Green Protocol"
          ],
          [
           "PoS"
          ],
          [
           "Scrypt"
          ],
          [
           "Semux BFT consensus"
          ],
          [
           "X11"
          ],
          [
           "Quark"
          ],
          [
           "PoS"
          ],
          [
           "CryptoNight"
          ],
          [
           "X16R"
          ],
          [
           "Scrypt"
          ],
          [
           "NIST5"
          ],
          [
           "Lyra2RE"
          ],
          [
           "XEVAN"
          ],
          [
           "Tribus"
          ],
          [
           "Scrypt"
          ],
          [
           "Lyra2Z"
          ],
          [
           "CryptoNight"
          ],
          [
           "CryptoNight Heavy"
          ],
          [
           "CryptoNight"
          ],
          [
           "Scrypt"
          ],
          [
           "Scrypt"
          ],
          [
           "Jump Consistent Hash"
          ],
          [
           "SHA-256D"
          ],
          [
           "CryptoNight"
          ],
          [
           "Scrypt"
          ],
          [
           "X15"
          ],
          [
           "Scrypt"
          ],
          [
           "Quark"
          ],
          [
           "SHA-256"
          ],
          [
           "DPoS"
          ],
          [
           "X16R"
          ],
          [
           "HMQ1725"
          ],
          [
           "X11"
          ],
          [
           "X16R"
          ],
          [
           "Quark"
          ],
          [
           "Quark"
          ],
          [
           "Scrypt"
          ],
          [
           "Lyra2REv2"
          ],
          [
           "Quark"
          ],
          [
           "Scrypt"
          ],
          [
           "Scrypt"
          ],
          [
           "CryptoNight-V7"
          ],
          [
           "Cryptonight-GPU"
          ],
          [
           "XEVAN"
          ],
          [
           "CryptoNight Heavy"
          ],
          [
           "X11"
          ],
          [
           "X11"
          ],
          [
           "Scrypt"
          ],
          [
           "PoS"
          ],
          [
           "SHA-256"
          ],
          [
           "Keccak"
          ],
          [
           "X11"
          ],
          [
           "X11"
          ],
          [
           "Scrypt"
          ],
          [
           "SHA-512"
          ],
          [
           "X16R"
          ],
          [
           "ECC 256K1"
          ],
          [
           "Equihash"
          ],
          [
           "XEVAN"
          ],
          [
           "Lyra2Z"
          ],
          [
           "SHA-256"
          ],
          [
           "XEVAN"
          ],
          [
           "X11"
          ],
          [
           "CryptoNight"
          ],
          [
           "Quark"
          ],
          [
           "Blake"
          ],
          [
           "Blake"
          ],
          [
           "Equihash"
          ],
          [
           "Exosis"
          ],
          [
           "Scrypt"
          ],
          [
           "Scrypt"
          ],
          [
           "Equihash"
          ],
          [
           "Quark"
          ],
          [
           "Equihash"
          ],
          [
           "Quark"
          ],
          [
           "Scrypt"
          ],
          [
           "QuBit"
          ],
          [
           "X11"
          ],
          [
           "Scrypt"
          ],
          [
           "XEVAN"
          ],
          [
           "SHA-256D"
          ],
          [
           "X11"
          ],
          [
           "SHA-256"
          ],
          [
           "X13"
          ],
          [
           "SHA-256"
          ],
          [
           "X11"
          ],
          [
           "DPoS"
          ],
          [
           "Scrypt"
          ],
          [
           "Scrypt"
          ],
          [
           "X11"
          ],
          [
           "NeoScrypt"
          ],
          [
           "Scrypt"
          ],
          [
           "Blake"
          ],
          [
           "Scrypt"
          ],
          [
           "SHA-256"
          ],
          [
           "Scrypt"
          ],
          [
           "X11"
          ],
          [
           "Scrypt"
          ],
          [
           "Scrypt"
          ],
          [
           "SHA-256"
          ],
          [
           "X11"
          ],
          [
           "SHA-256"
          ],
          [
           "Scrypt"
          ],
          [
           "Scrypt"
          ],
          [
           "Scrypt"
          ],
          [
           "Groestl"
          ],
          [
           "X11"
          ],
          [
           "Scrypt"
          ],
          [
           "PoS"
          ],
          [
           "Scrypt"
          ],
          [
           "Scrypt"
          ],
          [
           "X11"
          ],
          [
           "SHA-256"
          ],
          [
           "DPoS"
          ],
          [
           "Scrypt"
          ],
          [
           "Scrypt"
          ],
          [
           "NeoScrypt"
          ],
          [
           "SHA3-256"
          ],
          [
           "X13"
          ],
          [
           "Equihash+Scrypt"
          ],
          [
           "DPoS"
          ],
          [
           "Ethash"
          ],
          [
           "DPoS"
          ],
          [
           "SHA-256"
          ],
          [
           "Leased POS"
          ],
          [
           "PoS"
          ],
          [
           "TRC10"
          ],
          [
           "PoS"
          ],
          [
           "SHA-256"
          ],
          [
           "Scrypt"
          ],
          [
           "CryptoNight"
          ],
          [
           "Equihash"
          ],
          [
           "Scrypt"
          ]
         ],
         "hovertemplate": "<b>%{hovertext}</b><br><br>PC 1=%{x}<br>PC 2=%{y}<br>PC 3=%{z}<br>Algorithm=%{customdata[0]}<br>class=%{marker.color}<extra></extra>",
         "hovertext": [
          "42 Coin",
          "404Coin",
          "EliteCoin",
          "Bitcoin",
          "Ethereum",
          "Litecoin",
          "Dash",
          "Monero",
          "Ethereum Classic",
          "ZCash",
          "Bitshares",
          "BitcoinDark",
          "PayCoin",
          "ProsperCoin",
          "KoboCoin",
          "Spreadcoin",
          "Argentum",
          "Aurora Coin",
          "BlueCoin",
          "MoonCoin",
          "ZetaCoin",
          "SexCoin",
          "Quatloo",
          "EnergyCoin",
          "QuarkCoin",
          "Riecoin",
          "Digitalcoin ",
          "BitBar",
          "Catcoin",
          "CryptoBullion",
          "CannaCoin",
          "CryptCoin",
          "CasinoCoin",
          "Diamond",
          "DevCoin",
          "EarthCoin",
          "E-Gulden",
          "Einsteinium",
          "Emerald",
          "Exclusive Coin",
          "FlutterCoin",
          "Franko",
          "FeatherCoin",
          "GrandCoin",
          "GlobalCoin",
          "GoldCoin",
          "HoboNickels",
          "HyperStake",
          "Infinite Coin",
          "IOCoin",
          "IXcoin",
          "KrugerCoin",
          "LuckyCoin",
          "Litebar ",
          "MaxCoin",
          "MegaCoin",
          "MediterraneanCoin",
          "MintCoin",
          "MinCoin",
          "MazaCoin",
          "Nautilus Coin",
          "NavCoin",
          "NobleCoin",
          "Namecoin",
          "NyanCoin",
          "OpalCoin",
          "Orbitcoin",
          "PotCoin",
          "PhoenixCoin",
          "Reddcoin",
          "RonPaulCoin",
          "StableCoin",
          "SmartCoin",
          "SuperCoin",
          "SyncCoin",
          "SysCoin",
          "TigerCoin",
          "TittieCoin",
          "TorCoin",
          "TerraCoin",
          "UnbreakableCoin",
          "Unobtanium",
          "UroCoin",
          "UnitaryStatus Dollar",
          "UltraCoin",
          "ViaCoin",
          "VeriCoin",
          "Vertcoin",
          "WorldCoin",
          "X11 Coin",
          "JouleCoin",
          "StealthCoin",
          "ZCC Coin",
          "ByteCoin",
          "DigitalNote ",
          "BurstCoin",
          "StorjCoin",
          "MonaCoin",
          "Neutron",
          "FairCoin",
          "Gulden",
          "RubyCoin",
          "PesetaCoin",
          "Kore",
          "Wild Beast Coin",
          "Dnotes",
          "Flo",
          "8BIT Coin",
          "Sativa Coin",
          "ArtByte",
          "Folding Coin",
          "Ucoin",
          "CypherPunkCoin",
          "OmniCron",
          "Vtorrent",
          "GreenCoin",
          "Cryptonite",
          "MasterCoin",
          "SoonCoin",
          "1Credit",
          "IslaCoin",
          "Nexus",
          "MarsCoin ",
          "Crypto",
          "Anarchists Prime",
          "Droidz",
          "BowsCoin",
          "Squall Coin",
          "Song Coin",
          "BitZeny",
          "Diggits",
          "Expanse",
          "Paycon",
          "Siacoin",
          "Emercoin",
          "EverGreenCoin",
          "MindCoin",
          "I0coin",
          "Decred",
          "Revolution VR",
          "HOdlcoin",
          "EDRCoin",
          "Hitcoin",
          "Gamecredits",
          "DubaiCoin",
          "CarpeDiemCoin",
          "PWR Coin",
          "BillaryCoin",
          "GPU Coin",
          "Adzcoin",
          "SoilCoin",
          "YoCoin",
          "SibCoin",
          "EuropeCoin",
          "ZeitCoin",
          "SwingCoin",
          "SafeExchangeCoin",
          "Nebuchadnezzar",
          "Francs",
          "BolivarCoin",
          "Ratecoin",
          "Revenu",
          "Clockcoin",
          "VIP Tokens",
          "BitSend",
          "Omni",
          "Let it Ride",
          "PutinCoin",
          "iBankCoin",
          "Frankywillcoin",
          "MudraCoin",
          "PizzaCoin",
          "Lutetium Coin",
          "Komodo",
          "GoldBlocks",
          "CarterCoin",
          "Karbo",
          "BitTokens",
          "ZayedCoin",
          "MustangCoin",
          "ZoneCoin",
          "RootCoin",
          "DopeCoin",
          "BitCurrency",
          "DollarCoin",
          "Swiscoin",
          "Shilling",
          "BuzzCoin",
          "Opair",
          "PesoBit",
          "Halloween Coin",
          "ZCoin",
          "CoffeeCoin",
          "RoyalCoin",
          "GanjaCoin V2",
          "TeamUP",
          "LanaCoin",
          "Elementrem",
          "ZClassic",
          "ARK",
          "InsaneCoin",
          "KiloCoin",
          "ArtexCoin",
          "EmberCoin",
          "XenixCoin",
          "FreeCoin",
          "PLNCoin",
          "AquariusCoin",
          "Kurrent",
          "Creatio",
          "Eternity",
          "Eurocoin",
          "BitcoinFast",
          "Stakenet",
          "BitConnect Coin",
          "MoneyCoin",
          "Enigma",
          "Cannabis Industry Coin",
          "Russiacoin",
          "PandaCoin",
          "GameUnits",
          "GAKHcoin",
          "Allsafe",
          "LiteCreed",
          "OsmiumCoin",
          "Bikercoins",
          "HexxCoin",
          "Klingon Empire Darsek",
          "Internet of People",
          "KushCoin",
          "Printerium",
          "PacCoin",
          "Impeach",
          "Citadel",
          "Zilbercoin",
          "FirstCoin",
          "BeaverCoin",
          "FindCoin",
          "VaultCoin",
          "Zero",
          "OpenChat",
          "Canada eCoin",
          "Zoin",
          "RenosCoin",
          "DubaiCoin",
          "VirtacoinPlus",
          "TajCoin",
          "Impact",
          "EB3coin",
          "Atmos",
          "HappyCoin",
          "Coinonat",
          "MacronCoin",
          "Condensate",
          "Independent Money System",
          "ArgusCoin",
          "LomoCoin",
          "ProCurrency",
          "GoldReserve",
          "BenjiRolls",
          "GrowthCoin",
          "ILCoin",
          "Phreak",
          "Degas Coin",
          "HTML5 Coin",
          "Ultimate Secure Cash",
          "EquiTrader",
          "QTUM",
          "Quantum Resistant Ledger",
          "Espers",
          "Dynamic",
          "Nano",
          "ChanCoin",
          "Dinastycoin",
          "Denarius",
          "DigitalPrice",
          "Virta Unique Coin",
          "Bitcoin Planet",
          "Unify",
          "BritCoin",
          "SocialCoin",
          "ArcticCoin",
          "DAS",
          "Linda",
          "LeviarCoin",
          "DeepOnion",
          "Bitcore",
          "gCn Coin",
          "SmartCash",
          "Signatum",
          "Onix",
          "Cream",
          "Bitcoin Cash",
          "Monoeci",
          "Draftcoin",
          "Vechain",
          "Sojourn Coin",
          "Stakecoin",
          "NewYorkCoin",
          "FrazCoin",
          "Kronecoin",
          "AdCoin",
          "Linx",
          "CoinonatX",
          "Ethereum Dark",
          "Sumokoin",
          "Obsidian",
          "Cardano",
          "Regalcoin",
          "BitcoinZ",
          "TrezarCoin",
          "Elements",
          "TerraNovaCoin",
          "VIVO Coin",
          "Rupee",
          "Bitcoin Gold",
          "WomenCoin",
          "Theresa May Coin",
          "NamoCoin",
          "LUXCoin",
          "Pirl",
          "Xios",
          "Bitcloud 2.0",
          "eBoost",
          "KekCoin",
          "BlackholeCoin",
          "Infinity Economics",
          "Pura",
          "Innova",
          "Ellaism",
          "GoByte",
          "Magnet",
          "Lamden Tau",
          "Electra",
          "Bitcoin Diamond",
          "Cash & Back Coin",
          "UltraNote",
          "BitCoal",
          "DaxxCoin",
          "Bulwark",
          "Kalkulus",
          "AC3",
          "Lethean",
          "GermanCoin",
          "LiteCoin Ultra",
          "PopularCoin",
          "PhantomX",
          "Photon",
          "Sucre",
          "SparksPay",
          "Digiwage",
          "GunCoin",
          "IrishCoin",
          "Trollcoin",
          "Litecoin Plus",
          "Monkey Project",
          "Pioneer Coin",
          "UnitedBitcoin",
          "Interzone",
          "TokenPay",
          "1717 Masonic Commemorative Token",
          "My Big Coin",
          "TurtleCoin",
          "MUNcoin",
          "Unified Society USDEX",
          "Niobio Cash",
          "ShareChain",
          "Travelflex",
          "KREDS",
          "Tokyo Coin",
          "BiblePay",
          "LitecoinCash",
          "BitFlip",
          "LottoCoin",
          "Crypto Improvement Fund",
          "Stipend",
          "Poa Network",
          "Pushi",
          "Ellerium",
          "Velox",
          "Ontology",
          "Callisto Network",
          "BitTube",
          "Poseidon",
          "Aidos Kuneen",
          "Bitspace",
          "Briacoin",
          "Ignition",
          "Bitrolium",
          "MedicCoin",
          "Alpenschillling",
          "Bitcoin Green",
          "Deviant Coin",
          "Abjcoin",
          "Semux",
          "FuturoCoin",
          "Carebit",
          "Zealium",
          "Monero Classic",
          "Proton",
          "iDealCash",
          "Jumpcoin",
          "Infinex",
          "Bitcoin Incognito",
          "KEYCO",
          "HollyWoodCoin",
          "GINcoin",
          "PlatinCoin",
          "Loki",
          "Newton Coin",
          "Swisscoin",
          "Xt3ch",
          "MassGrid",
          "TheVig",
          "PluraCoin",
          "EmaratCoin",
          "Dekado",
          "Lynx",
          "Poseidon Quark",
          "BitcoinWSpectrum",
          "Muse",
          "Motion",
          "PlusOneCoin",
          "Axe",
          "Trivechain",
          "Dystem",
          "Giant",
          "Peony Coin",
          "Absolute Coin",
          "Vitae",
          "HexCoin",
          "TPCash",
          "Webchain",
          "Ryo",
          "Urals Coin",
          "Qwertycoin",
          "ARENON",
          "EUNO",
          "MMOCoin",
          "Ketan",
          "Project Pai",
          "XDNA",
          "PAXEX",
          "Azart",
          "ThunderStake",
          "Kcash",
          "Xchange",
          "Acute Angle Cloud",
          "CrypticCoin",
          "Bettex coin",
          "Actinium",
          "Bitcoin SV",
          "BitMoney",
          "Junson Ming Chan Coin",
          "FREDEnergy",
          "HerbCoin",
          "Universal Molecule",
          "Lithium",
          "PirateCash",
          "Exosis",
          "Block-Logic",
          "Oduwa",
          "Beam",
          "Galilel",
          "Bithereum",
          "Crypto Sports",
          "Credit",
          "SLICE",
          "Dash Platinum",
          "Nasdacoin",
          "Beetle Coin",
          "Titan Coin",
          "Award",
          "BLAST",
          "Bitcoin Rhodium",
          "GlobalToken",
          "Insane Coin",
          "ALAX",
          "LiteDoge",
          "SolarCoin",
          "TruckCoin",
          "UFO Coin",
          "OrangeCoin",
          "BlakeCoin",
          "BitstarCoin",
          "NeosCoin",
          "HyperCoin",
          "PinkCoin",
          "Crypto Escudo",
          "AudioCoin",
          "IncaKoin",
          "Piggy Coin",
          "Crown Coin",
          "Genstake",
          "SmileyCoin",
          "XiaoMiCoin",
          "Groestlcoin",
          "CapriCoin",
          " ClubCoin",
          "Radium",
          "Bata",
          "Pakcoin",
          "Creditbit ",
          "OKCash",
          "Lisk",
          "HiCoin",
          "WhiteCoin",
          "FriendshipCoin",
          "Fiii",
          "Triangles Coin",
          "Vollar",
          "EOS",
          "Reality Clash",
          "Oxycoin",
          "TigerCash",
          "Waves",
          "Particl",
          "BitTorrent",
          "Nxt",
          "ZEPHYR",
          "Gapcoin",
          "Beldex",
          "Horizen",
          "BitcoinPlus"
         ],
         "legendgroup": "",
         "marker": {
          "color": [
           3,
           3,
           3,
           0,
           0,
           0,
           3,
           0,
           0,
           0,
           3,
           3,
           3,
           0,
           3,
           0,
           0,
           3,
           3,
           0,
           0,
           0,
           0,
           3,
           0,
           0,
           0,
           3,
           0,
           3,
           0,
           0,
           3,
           3,
           0,
           0,
           0,
           0,
           0,
           3,
           3,
           0,
           0,
           0,
           0,
           0,
           3,
           3,
           0,
           3,
           0,
           0,
           0,
           0,
           3,
           0,
           0,
           3,
           0,
           3,
           3,
           3,
           0,
           0,
           0,
           3,
           3,
           3,
           3,
           3,
           0,
           0,
           0,
           3,
           3,
           0,
           0,
           3,
           3,
           0,
           0,
           0,
           0,
           3,
           3,
           0,
           3,
           0,
           0,
           3,
           0,
           3,
           3,
           0,
           0,
           3,
           3,
           0,
           3,
           3,
           0,
           3,
           0,
           3,
           0,
           3,
           0,
           3,
           3,
           0,
           0,
           3,
           0,
           0,
           3,
           0,
           0,
           0,
           0,
           0,
           3,
           3,
           0,
           0,
           0,
           3,
           0,
           3,
           0,
           0,
           3,
           0,
           3,
           0,
           3,
           3,
           0,
           0,
           3,
           0,
           0,
           3,
           3,
           0,
           3,
           0,
           3,
           3,
           3,
           0,
           0,
           0,
           0,
           3,
           3,
           3,
           3,
           3,
           0,
           0,
           3,
           3,
           3,
           3,
           3,
           0,
           3,
           3,
           3,
           3,
           3,
           0,
           3,
           0,
           3,
           3,
           0,
           3,
           0,
           3,
           3,
           3,
           0,
           3,
           0,
           3,
           0,
           3,
           3,
           3,
           3,
           0,
           3,
           3,
           3,
           3,
           3,
           0,
           0,
           3,
           3,
           0,
           0,
           3,
           3,
           3,
           3,
           3,
           0,
           3,
           3,
           3,
           3,
           3,
           3,
           3,
           3,
           0,
           3,
           3,
           3,
           3,
           3,
           3,
           0,
           0,
           0,
           3,
           3,
           3,
           3,
           0,
           3,
           0,
           3,
           3,
           0,
           3,
           0,
           0,
           3,
           0,
           0,
           3,
           0,
           3,
           3,
           3,
           0,
           3,
           3,
           0,
           3,
           3,
           3,
           3,
           3,
           3,
           3,
           0,
           3,
           0,
           3,
           3,
           3,
           3,
           0,
           3,
           0,
           3,
           0,
           0,
           0,
           0,
           3,
           0,
           3,
           3,
           0,
           3,
           0,
           0,
           0,
           3,
           0,
           3,
           0,
           0,
           0,
           3,
           0,
           3,
           0,
           3,
           3,
           1,
           0,
           3,
           0,
           0,
           0,
           0,
           0,
           3,
           3,
           0,
           3,
           3,
           3,
           0,
           3,
           0,
           3,
           0,
           3,
           0,
           3,
           3,
           3,
           3,
           0,
           3,
           3,
           0,
           3,
           3,
           3,
           0,
           0,
           0,
           0,
           3,
           3,
           3,
           3,
           3,
           0,
           0,
           0,
           3,
           3,
           0,
           0,
           3,
           3,
           0,
           3,
           0,
           0,
           0,
           3,
           0,
           0,
           3,
           3,
           3,
           0,
           0,
           0,
           3,
           0,
           3,
           0,
           0,
           3,
           0,
           0,
           0,
           0,
           3,
           3,
           1,
           0,
           0,
           0,
           3,
           1,
           3,
           3,
           3,
           3,
           0,
           0,
           0,
           0,
           3,
           3,
           3,
           0,
           3,
           0,
           3,
           3,
           3,
           3,
           0,
           3,
           3,
           0,
           3,
           3,
           0,
           0,
           3,
           0,
           3,
           0,
           0,
           0,
           0,
           3,
           3,
           0,
           3,
           0,
           3,
           3,
           3,
           3,
           3,
           3,
           0,
           0,
           0,
           3,
           3,
           3,
           3,
           3,
           3,
           0,
           3,
           0,
           0,
           0,
           0,
           3,
           3,
           3,
           3,
           0,
           3,
           3,
           0,
           3,
           3,
           0,
           3,
           0,
           3,
           0,
           0,
           3,
           3,
           0,
           3,
           0,
           0,
           0,
           0,
           0,
           3,
           0,
           3,
           0,
           3,
           3,
           0,
           3,
           3,
           3,
           3,
           3,
           0,
           0,
           0,
           3,
           3,
           3,
           0,
           3,
           0,
           3,
           0,
           3,
           3,
           3,
           3,
           0,
           3,
           3,
           3,
           0,
           3,
           0,
           3,
           0,
           3,
           3,
           3,
           0,
           0,
           3,
           3,
           3,
           3,
           3,
           3,
           1,
           3,
           0,
           3,
           0,
           3,
           3,
           1,
           3,
           2,
           3,
           3,
           3,
           0,
           0,
           3
          ],
          "coloraxis": "coloraxis",
          "symbol": "circle"
         },
         "mode": "markers",
         "name": "",
         "scene": "scene",
         "showlegend": false,
         "type": "scatter3d",
         "x": [
          -0.33596617719550304,
          -0.3194399868199995,
          2.288745259762522,
          -0.1375005252605947,
          -0.14466202868601594,
          -0.1645852784251821,
          -0.38724742953588726,
          -0.14361453475725527,
          -0.14311691580059233,
          -0.1477889070982265,
          -0.2408313691800414,
          -0.30772159839855506,
          -0.27350171961882297,
          -0.1657221570927415,
          -0.23478428610666244,
          -0.2172093301270107,
          -0.16534185299491988,
          -0.3356285408203378,
          -0.3282664739742179,
          2.5336546541165137,
          -0.13460925512469962,
          -0.16261970701845482,
          -0.1651475113293681,
          -0.33447497323822195,
          -0.2294917430178921,
          -0.1901500461200436,
          -0.16519582890214224,
          -0.33596214694911375,
          -0.16570456686749854,
          -0.33594655638380605,
          -0.1657903125752572,
          -0.217297945999041,
          0.6589732129263295,
          -0.3612966394576929,
          0.2372595612099484,
          0.08090855220997574,
          -0.16553867293655541,
          -0.1611799245496812,
          -0.16547847112550704,
          -0.37205247610922676,
          -0.2915860674852815,
          -0.16584685132909727,
          -0.1610526322133583,
          -0.1452391959553046,
          -0.16465179016276665,
          -0.1649269912763946,
          -0.3340408690325337,
          -0.3330152510601182,
          1.568783461168508,
          -0.3871429819069545,
          -0.13746220784151597,
          -0.1622385724853717,
          -0.16556489907246802,
          -0.1659168156712463,
          -0.4261293021355535,
          -0.16518211596130486,
          -0.14717724034632412,
          -0.04378161650577846,
          -0.165799054268552,
          -0.2713288915598684,
          -0.30149943877191904,
          -0.27384574085586383,
          -0.03181614369880079,
          -0.13753918925027528,
          -0.15951469773498608,
          -0.27446289038589355,
          -0.33590427052675337,
          -0.3303152212014361,
          -0.3343810227642614,
          0.019263127258104664,
          -0.1657786746306916,
          -0.1638887140996617,
          -0.1652696120393905,
          -0.35274015267693587,
          -0.3875115085714511,
          -0.12479638811206238,
          -0.13700733327575598,
          -0.3280886584707408,
          -0.3874238775749832,
          -0.13729220443241716,
          -0.13727536978851798,
          -0.13786119851450188,
          -0.2174704106163382,
          -0.3114013881731905,
          -0.33465443703312175,
          -0.1654974644994058,
          -0.2980474457444153,
          -0.17630678688496149,
          -0.16262440001518552,
          -0.3873886375964111,
          -0.1370740802945927,
          -0.2742455356856261,
          -0.3271427231936532,
          3.834315405437112,
          0.4610488672532773,
          0.019409348093650386,
          -0.375247829117582,
          -0.16437433016012046,
          -0.3069397728355335,
          -0.36072290112838923,
          -0.14909983709911537,
          -0.3014798411727564,
          -0.16310360203299357,
          -0.27453767715739813,
          -0.1659190085031491,
          -0.29617788861318634,
          -0.1629697282919302,
          -0.33594839154052736,
          -0.2744902492368875,
          -0.14930598075126933,
          -0.12713894500189976,
          -0.3531814016925071,
          -0.17753865082642956,
          -0.16579311582454725,
          -0.3356849547322701,
          -0.03977227665782563,
          -0.12039384815684122,
          -0.16592782671446693,
          -0.13756674161810245,
          0.48083919160473026,
          -0.38749318766303475,
          -0.4483161054088948,
          -0.21686260107409935,
          -0.14112920630623907,
          -0.13730874923979727,
          -0.41199545695447576,
          -0.21714517711868506,
          -0.355490499482951,
          -0.16406705263131954,
          -0.16326588650720072,
          -0.2998944850415633,
          -0.145720853583846,
          -0.2740158197563658,
          0.3816071653482447,
          -0.3003399127459167,
          -0.23720552813979306,
          -0.2171802813436881,
          -0.13746332109558115,
          -0.08182076301559206,
          -0.1619186874893684,
          -0.15172719872102772,
          -0.3076927488618267,
          -0.06761278547465038,
          -0.1645029179963509,
          -0.3077559128555174,
          0.2776041120061612,
          -0.23482097221875758,
          -0.3355618682358514,
          -0.29976472682362537,
          -0.21634788269691485,
          -0.1478466772824028,
          -0.16474843372420978,
          -0.1435534262937489,
          -0.3846858261692913,
          0.8421762485295244,
          -0.30755763363179484,
          -0.065812453759609,
          -0.3717383470786341,
          -0.1657194630779192,
          -0.21714383289374342,
          -0.3853538053912293,
          -0.3063115937932477,
          -0.3039991181739055,
          -0.35519288468322535,
          -0.3862388164325041,
          -0.1659278847317636,
          -0.3724957596929231,
          -0.31205320208094806,
          -0.33559965867597574,
          -0.33405141573490205,
          -0.2390229899973216,
          -0.217292588458192,
          -0.34077461109077967,
          -0.2731080495336538,
          -0.386971426057168,
          -0.3348104056922659,
          0.30722193563903377,
          -0.3077370312173313,
          -0.13772128534421363,
          -0.38748247042130957,
          -0.33578725709587665,
          -0.3359426715323786,
          -0.16311778576580072,
          -0.299754148109856,
          -0.1376802513420147,
          -0.2604241386449512,
          -0.16559404632043329,
          0.038839260714150066,
          -0.3707039658042024,
          -0.3355599659466794,
          -0.37375901702856335,
          -0.14515592994618928,
          -0.37003802703823585,
          -0.2404417444310756,
          -0.4163168878388787,
          -0.3697892946419405,
          -0.27311539721488376,
          -0.14546511084226066,
          -0.14781034896466563,
          3.7092964441245164,
          -0.38707835632082394,
          -0.09325912553778463,
          -0.20398518177311653,
          0.8484691063487364,
          -0.38743774781679186,
          -0.37116391839919394,
          -0.33548815232296164,
          -0.33564122728808854,
          -0.21513857220171329,
          -0.3717383470786341,
          -0.387016171729585,
          -0.30760081976743925,
          -0.33548887609082667,
          -0.3588816591165514,
          -0.33563506271174787,
          -0.33125965872209373,
          -0.3874665071778309,
          0.30721633259769815,
          -0.3348523118400421,
          0.33650528452932416,
          -0.33583270185784275,
          -0.33590268852315025,
          -0.3700100241589016,
          -0.346721762135798,
          -0.16590977299276694,
          0.30734598461941043,
          -0.14166520706813904,
          -0.33216068250625264,
          -0.3077136367092926,
          -0.3873771957270793,
          -0.33568232517746144,
          0.49204116178608825,
          -0.33580824808531495,
          -0.14238946263450122,
          -0.3013871720911671,
          -0.298691157761772,
          -0.16587831787717303,
          -0.24021149948679169,
          -0.21008665188735884,
          -0.14782261888285714,
          -0.3168185553516965,
          -0.16402682346927175,
          -0.1413858821022587,
          -0.3011303851476713,
          -0.14321063907940682,
          -0.38664901182598455,
          -0.4184792261505734,
          -0.3853976526925254,
          -0.13704223449440198,
          -0.3699992586503487,
          -0.38654772741160986,
          -0.18634842863111709,
          -0.3644450267466214,
          -0.3825221605870584,
          -0.3357519950056432,
          -0.3357511997282277,
          -0.3289299256880532,
          0.2547479260575137,
          -0.387022249116883,
          -0.16544427876396575,
          -0.28417257703807675,
          -0.10432219476624276,
          -0.3717723734685636,
          -0.33496919436462014,
          0.8878458501411416,
          -0.27220298705852597,
          -0.1652678277741267,
          -0.3712841181822212,
          -0.14224825902526794,
          0.5824693824874247,
          -0.14335511595760872,
          -0.015452216856347305,
          -0.1349872319035842,
          0.3430433228489727,
          -0.35671595808318607,
          -0.21635622671341004,
          -0.35523048708480387,
          -0.4011848033239839,
          -0.16558444090563826,
          -0.2741779261515682,
          -0.16534980357875198,
          -0.21674766199116444,
          -0.21732038681560645,
          0.1251448108313687,
          0.3076080810268492,
          -0.27424811072650546,
          -0.1416632108050739,
          3.2159076065202976,
          -0.10489762907886567,
          -0.3795621062105025,
          -0.20826773729411993,
          -0.4006937149393847,
          -0.13749969625096536,
          -0.3872923847611474,
          -0.3014607293400361,
          4.363783132971874,
          -0.09211677592942795,
          -0.3716397701358645,
          1.566933486152396,
          -0.16568149633306528,
          -0.16513765741321315,
          -0.16484107443833768,
          -0.16482811127409003,
          -0.3353901875269809,
          -0.3358857579845811,
          0.3077901624537629,
          -0.29841943912293356,
          0.6275392151906513,
          -0.3872337129952457,
          0.06275868756444397,
          -0.3309446146530617,
          -0.17207902983268267,
          -0.3358417468483645,
          -0.16570301414798444,
          -0.3129274332320994,
          -0.14766992236851062,
          0.4269928812329275,
          -0.30607344195374375,
          -0.34160798908115353,
          -0.3975510043240685,
          -0.14661597584211208,
          -0.3357924952423418,
          -0.4026216723671302,
          -0.16402504713684252,
          -0.3522860423895494,
          -0.33566394157848595,
          -0.10140634594731184,
          -0.21290130661059026,
          -0.16554969973065628,
          -0.14384385603505567,
          -0.16564907747047583,
          -0.3860363132231259,
          3.7141125526592442,
          0.19819368921992314,
          -0.27094624537491824,
          -0.3331450816956728,
          1.138269404634839,
          0.30719925178021257,
          -0.06935307945574176,
          -0.3223245043046449,
          -0.3698968612776521,
          -0.21264520769122885,
          -0.1314496014380497,
          0.07505825790446373,
          -0.3348096274498584,
          -0.08275279289024332,
          -0.3866126248496213,
          1.0852593786289857,
          -0.21729459717812272,
          -0.16570058560331352,
          -0.3690685002606321,
          -0.15879543296798582,
          -0.16493861823184083,
          -0.32247732754594366,
          -0.3359077092911411,
          -0.3531535605415609,
          -0.2172206128290495,
          -0.13747925963896052,
          -0.19124052363165292,
          -0.3727753743305661,
          -0.2818054621899182,
          -0.2963888827755618,
          7.981168626031987,
          -0.1471473614937195,
          -0.33148944012169007,
          0.3110419081540154,
          0.025536538234613573,
          -0.14612315159622993,
          -0.16198305287656575,
          -0.23207483010011962,
          -0.2365748625552882,
          -0.3358809298070697,
          -0.16550766576782075,
          0.13905878268988894,
          -0.21140955916789492,
          -0.3613008007886138,
          -0.4283900752007894,
          -0.38730950653285184,
          -0.3160240221679837,
          -0.3006276604803293,
          -0.3340221326868718,
          -0.09727019990167127,
          0.3150570286093417,
          -0.16574273367296885,
          -0.1261277964168385,
          -0.3563182234145142,
          -0.335934840462704,
          -0.33591670237055365,
          -0.14666924634231593,
          -0.29505518987961943,
          -0.14295772953213196,
          -0.38177864222678815,
          -0.37123755450598017,
          -0.33563554590531175,
          3.898637739520077,
          -0.21639666880024794,
          -0.40130053275544403,
          -0.3714246804381317,
          0.307380284704844,
          -0.3329865889795514,
          -0.2829430900885804,
          -0.18640737631643364,
          -0.14151171868737336,
          -0.28415409881830195,
          -0.1441538745180926,
          -0.3011574352553419,
          -0.14523960996473867,
          0.3112759872287031,
          0.5784536689263198,
          2.100995884296578,
          -0.1406604269900383,
          -0.3014074628042453,
          -0.1458142982017838,
          -0.3378912786197791,
          0.32087384131730246,
          -0.3351139132715132,
          -0.20239774901047933,
          2.2101727899363217,
          -0.3656403854418163,
          -0.2723295662435811,
          1.0091051351676625,
          -0.19723309032690134,
          -0.13640916293403055,
          -0.21727690334884178,
          -0.36648550949866043,
          -0.37000947097669024,
          -0.4042919145966361,
          -0.18312695287494962,
          -0.3470132646531744,
          -0.36873950289242236,
          -0.16576711765285307,
          -0.3288705042092295,
          -0.13133133763421853,
          -0.13927066329670953,
          -0.1447693984499142,
          3.080354613598796,
          -0.3527344416031349,
          -0.38678715324817153,
          -0.29867557594737043,
          -0.3705319380208223,
          -0.09765538303646709,
          -0.3346006864752762,
          -0.3525969951673252,
          -0.2172485056830108,
          -0.19657877488461328,
          -0.20058344613598972,
          -0.19666554158743818,
          -0.357159656278432,
          -0.04327787031361565,
          -0.2818602280495762,
          -0.14464232861059356,
          -0.1374997335120596,
          0.5067681870515162,
          -0.14481456942142684,
          0.3864847151554041,
          -0.40359233276151185,
          -0.12301530340708304,
          -0.12340405721133556,
          -0.28299410005277453,
          -0.14373525006231155,
          -0.16466850495685903,
          -0.3356394780278345,
          -0.14574602895512775,
          -0.4040447043849346,
          -0.14750410738150793,
          -0.37012548812912077,
          0.5634206569336059,
          -0.17675613500771958,
          -0.3532074324041389,
          -0.33512667063976637,
          -0.31052519867508127,
          -0.29298449846970376,
          -0.38437199495509317,
          -0.13678179135192853,
          -0.10459111245819491,
          -0.13565902483693826,
          -0.38701252054364177,
          3.7262541614968536,
          0.09571612524231007,
          0.5243956095032364,
          -0.38457215535422756,
          -0.09147718652824587,
          -0.3345172781161106,
          -0.07427906265261376,
          -0.3353354123126809,
          -0.27353409271497986,
          -0.3358494726171115,
          -0.3787089489794399,
          -0.14945534684633652,
          -0.2502651883920959,
          -0.08917279813890906,
          -0.37449241006207257,
          -0.1372915799839108,
          -0.33513367935269295,
          0.5440518832733094,
          -0.3282548243543282,
          -0.18971462773436298,
          -0.3836092316446755,
          -0.3335857162915893,
          -0.3720117241150615,
          -0.16584331328958007,
          -0.16381579656604528,
          -0.37561851598710694,
          -0.3062488281050182,
          3.709685034752284,
          -0.11026793973702477,
          -0.3308034603760345,
          -0.3355332300523403,
          -0.5654141611625982,
          -0.27464399706766945,
          -0.12520262731205278,
          3.7194729147004417,
          -0.1454979987020214,
          3.720706926535549,
          -0.25458732701018805,
          -0.3837656432148696,
          -0.3719481120951467,
          33.790212278532714,
          -0.3707703181242776,
          2.462909293704949,
          -0.3340277037079872,
          0.32877845970587394,
          -0.14778995548304086,
          -0.3018006621194932
         ],
         "y": [
          1.0312223227694755,
          1.0312178693280856,
          1.60527292895326,
          -1.3259894097856517,
          -2.0803504631792338,
          -1.1325541630519267,
          1.202156313217946,
          -2.2674537965496544,
          -2.0804701298413146,
          -2.02556932531767,
          1.8484221710314124,
          0.8377512969036777,
          0.547112130103103,
          -1.1325342106438185,
          1.9001551638431782,
          -0.9615879829446725,
          -1.1325571998364925,
          1.0312178418973978,
          1.0314046836264876,
          -1.3543211728636233,
          -1.3260316515766504,
          -1.1326311310482169,
          -1.1325793846779748,
          1.0312576406795115,
          -0.4877673587262735,
          -1.2347735374690227,
          -1.132541959277799,
          1.0312220462028583,
          -1.1325337940345142,
          1.031222043401163,
          -1.1325299762093515,
          -0.9615885935320063,
          0.3163275247636305,
          0.9290052385407652,
          -1.3327240471625306,
          -1.1367227200506647,
          -1.1325298649799305,
          -1.1326340816886165,
          -1.1325366242691361,
          1.3121588947477287,
          0.3136128710873821,
          -1.1325298983724272,
          -1.6385458994914517,
          -1.1330905410817764,
          -1.1325453209032064,
          -1.132553509832947,
          1.0311786298759504,
          0.9120004217340344,
          -1.1588539170724224,
          1.2021587869698993,
          -1.3259885022706364,
          -1.1326335788470443,
          -1.1325297420217677,
          -1.1325241993686288,
          2.0198367597109015,
          -1.1325370463684197,
          -2.1968146749791826,
          0.7466857578963214,
          -1.132527846769919,
          0.8368294665010911,
          0.740569894129749,
          1.7783465716811577,
          -1.140508659526864,
          -1.325990325508866,
          -1.1326223284186363,
          1.7783319550271548,
          0.525333093220346,
          1.031043638161927,
          1.0311869438626644,
          1.0396356223048118,
          -1.1325355492129288,
          -1.13266118638575,
          -1.1325459643718567,
          0.9115332544623302,
          1.202166428224086,
          -1.3263336593125588,
          -1.3259970845050455,
          1.5598466079644062,
          1.2021610634171247,
          -1.3260001020193397,
          -1.3260279791645533,
          -1.325982511913047,
          -0.9615792843795713,
          1.030613556134957,
          1.0311789800785531,
          -1.1325303771967778,
          0.35603128127452466,
          -1.288599655872493,
          -1.1326427168391096,
          1.2021652465026178,
          -1.3259971682420582,
          1.7783371028856476,
          1.0306871971353175,
          -2.422365389794516,
          -2.3724368019641298,
          0.510972165090615,
          1.4306253292764495,
          -1.132564882349236,
          0.8377355850957084,
          0.9290220862027706,
          -1.1333749898259404,
          0.74058239784519,
          -1.1325803743763037,
          1.7783212545483116,
          -1.1325252022657517,
          0.7403359192365531,
          -1.13257245185973,
          1.031222744038619,
          1.7783238660407945,
          -1.1328738831005987,
          -2.133667946696637,
          0.9115079218290343,
          -1.5265874958182584,
          -1.132522773724528,
          1.0312141012808977,
          -1.1369765858767458,
          -2.2071503849994385,
          -1.1325239165731258,
          -1.3259909780629204,
          -1.185662680355548,
          1.2021668628830917,
          2.200946244018382,
          -0.9615894442865515,
          -2.2262919520870112,
          -1.3260092445031528,
          1.9011132873812637,
          -0.9615872076375943,
          0.7396378426914021,
          -1.1326358247019928,
          -1.132646435251739,
          0.7405455354810969,
          -2.0803881206095007,
          1.7783053384312528,
          -2.187249028265039,
          0.837198394433486,
          1.900338685977933,
          -0.9615843185430745,
          -1.3259885286370987,
          0.9863641505308856,
          -1.1325847639433253,
          -2.2326106972688,
          0.8377519801800575,
          1.1899870577636782,
          -1.1325522124162453,
          0.8377590413633029,
          -1.3322345372194022,
          1.5431840101521308,
          1.0312006462440508,
          0.7404585332403619,
          -0.9616152028054905,
          -2.2102845346613402,
          -1.1326207931781715,
          -2.1831743283923366,
          1.2019476178187518,
          0.6940028510259846,
          0.8377417864396186,
          0.32732771817109796,
          1.3121514525915452,
          -1.1325334027368439,
          -0.9615901522070209,
          1.2021617246889647,
          0.8376353318605387,
          0.8374651775512376,
          1.5402661361491523,
          1.2020931414664902,
          -1.132523915692588,
          1.3276750867390625,
          1.0303004778616511,
          1.0311980149733682,
          1.0311932621175786,
          1.4875657941089528,
          -0.9615936753541849,
          0.9113277732642445,
          -1.2815453099352847,
          1.2021420152785043,
          1.031182727111052,
          -2.3686464855126377,
          0.8377516754922428,
          -1.3259862567377414,
          1.2021648844070374,
          1.031210934236147,
          1.031222879512076,
          -1.1326057225355644,
          0.7406232693960678,
          -1.325985956284161,
          0.36797525420240057,
          -1.1325378733647664,
          1.9203822516153846,
          1.3121357695351696,
          1.031231943563588,
          1.201375992523759,
          -2.186988490099193,
          1.3121768412490098,
          1.487679152100162,
          1.9198125658627911,
          1.3119885216784648,
          1.9222906796400394,
          -2.080388983069434,
          -2.0255698331497722,
          2.0488104404317853,
          1.2021543647586646,
          -1.1382433757319603,
          -0.9616319491518049,
          1.8042951439262171,
          1.2021653086615434,
          1.3121427343923133,
          1.0312049667332215,
          1.031198766693387,
          -0.961693711954513,
          1.3121514525915452,
          1.2021335145002838,
          0.8377556456444383,
          1.0312090719140385,
          0.5837928417557815,
          1.0312093301178773,
          1.030849635633086,
          1.2021637742795652,
          -2.3686548033329813,
          1.0311415531159445,
          0.7314981246091394,
          1.0312158107286487,
          1.0312213591913792,
          1.3853935045587218,
          0.6371198768075484,
          -1.1325250477362059,
          -2.3686547090429744,
          -2.2262631340454675,
          1.030940401878916,
          0.8377522295709755,
          1.2021626497260118,
          1.0312141635596348,
          -1.0191852709718723,
          1.0312097425881377,
          -2.267562440562034,
          0.7405436670466896,
          0.28554504373949113,
          -1.1325247832257337,
          1.487675657634498,
          -0.962148507985028,
          -2.0255671473459604,
          1.030931716140636,
          -1.13255284215319,
          -2.2262647035926046,
          0.7405650576545436,
          -2.235266674446904,
          1.202112446303389,
          1.911580482744993,
          1.2021346426489243,
          -1.1348157315301737,
          1.3121254564480442,
          1.202114845137332,
          -0.6234768538774795,
          1.3120414299970273,
          1.2019125465899734,
          1.0312116115487555,
          1.0312061330519358,
          1.030644868786639,
          0.5038249514439593,
          1.202148252593782,
          -1.1325384339876885,
          0.7395041023424485,
          -1.3270482374253445,
          1.312143205690279,
          1.0311678048150072,
          1.8600349850350721,
          0.5470033077673694,
          -1.1325613994254922,
          1.3276543006689203,
          -2.2674995681517247,
          1.835766907189042,
          -2.2798630063547267,
          -2.1969062416998772,
          -2.2933807177955905,
          -2.369278848972914,
          1.5402895915948114,
          -0.9616273060512573,
          1.5402429225219654,
          1.920833559703955,
          -1.1325296667189737,
          1.778316381112356,
          -1.1325655732563533,
          -0.9616068127956491,
          -0.9615897947147826,
          1.004938260672583,
          -2.3686700804609586,
          1.7783229797271636,
          -2.3831337378122703,
          -1.201247913708524,
          -1.1704523816335342,
          1.3262034382871948,
          -0.9621798387185146,
          1.9208451907085229,
          -1.325989390151261,
          1.2021645443513558,
          0.7405698987416857,
          3.7901747248958664,
          -1.1385883709466538,
          1.312122832702567,
          -1.0914821309266065,
          -1.1325325035272582,
          -1.1325672456715372,
          -1.1325721269846734,
          -1.1325718199633152,
          1.031200060230531,
          1.0312211022337914,
          -2.3686917288954414,
          1.849669434759946,
          1.3475721444342272,
          1.2021529175745833,
          -2.0361931938434856,
          0.5251557230288489,
          -0.9618436115050706,
          1.0312135626285086,
          -1.6384261123925736,
          0.5845255340607612,
          -2.025566507267034,
          1.0306898106820421,
          0.8377322921451034,
          1.5397619299473517,
          1.8513249438035164,
          -2.2103493715965223,
          1.0312108101751691,
          1.6759401710889084,
          -1.1325528000822898,
          1.3352741549091687,
          1.0312184770112685,
          0.5445004477480868,
          -0.9617315046399512,
          -1.6384358751009684,
          -2.0805394339024996,
          -1.6384284066363972,
          1.2020942170724458,
          2.048645467721539,
          1.5311165419482178,
          1.7782589824019837,
          1.0311328766856647,
          -2.4122050348883777,
          -2.368648883014155,
          -2.086007851296062,
          1.2496342368419553,
          1.3853924642161088,
          -0.9618742594697826,
          -2.267909396356465,
          1.0037520038924752,
          1.0311380994495365,
          -1.134274034516782,
          1.2021505131754506,
          -1.2207210676766964,
          -0.9615898536008785,
          -1.6384215902652377,
          1.3853376730760423,
          -1.6386144723309526,
          -1.1325476495691305,
          1.030872103160737,
          1.0312207311563517,
          0.9115078371211083,
          -0.9615904824704082,
          -1.3259882855470428,
          -1.2146791602988998,
          1.3276747891709328,
          -0.20728350508299812,
          0.2816334715998192,
          -2.930989798527431,
          -2.256398559017024,
          1.0311557188931952,
          -2.368798589868452,
          -1.1354298029591823,
          -2.21029580155201,
          -1.2890164177777688,
          1.487283894344531,
          2.236946929937721,
          4.084440827016763,
          -1.132543268531512,
          -1.1389967733737452,
          -0.9618077891229742,
          0.9490688217757229,
          2.411325760651308,
          1.2021526106731735,
          1.4127751382929592,
          0.7405103124161724,
          1.3037745473065678,
          -2.0840646887456047,
          -2.3691975786405166,
          -1.1325346979823632,
          -2.2349945064220496,
          1.5402692475348405,
          1.0312208326795267,
          1.0312197740614684,
          -2.0255792680953326,
          0.7403625093871402,
          -2.187143734313709,
          1.3431792815361079,
          1.3121127145254485,
          1.0312078304707375,
          2.284854933496308,
          -0.9616282638871816,
          1.675971461140434,
          1.3121142354217084,
          -2.368648985604766,
          0.49966852225498953,
          1.0286668769728073,
          -0.6234579717468581,
          -2.2262716127797515,
          0.9502719936416258,
          -2.213227332853552,
          0.7405706871105762,
          -2.1869823612812263,
          -2.3689894891044943,
          -2.222702219179595,
          -2.4630697433745494,
          1.0282581350429967,
          0.7405513715958058,
          -2.257324546043383,
          1.926267334935049,
          -2.3690598124515856,
          1.0311800034053238,
          1.6096589733674724,
          0.34742266609757183,
          1.3850244911909277,
          0.5470745875506724,
          1.6929269298523437,
          -1.3734155012221638,
          -2.2197531403499586,
          -0.9615903274596724,
          0.790303894837777,
          1.385389053051014,
          1.6760456002877522,
          0.7308250495541202,
          0.8751537377277273,
          1.3853603471259472,
          -1.1325360979238037,
          1.0306462761330826,
          -2.268465057354024,
          -2.193872290144241,
          -0.7510534489781944,
          -2.300599653786788,
          0.9114924641384625,
          1.202146379620953,
          0.7404553480416699,
          1.3120386460527873,
          -1.3265926991197199,
          0.9953284563171094,
          0.9114622348685391,
          -0.9615926312916996,
          1.0211297650751296,
          2.7776168298922888,
          -1.3734600429131603,
          2.6387247073487967,
          -2.028733617319593,
          1.122135015226363,
          -2.1870229066523774,
          -1.3259893910337577,
          0.9276920044260075,
          0.9164577924566837,
          -2.3727741145633368,
          1.6760258206627257,
          -2.2804324328226095,
          -2.2803821929534513,
          -0.15251776221682084,
          -2.140404649345315,
          -1.1325829218566084,
          1.0312144342558367,
          -2.0257008652687722,
          1.6760411233988706,
          -2.025569936270178,
          1.385391982779776,
          0.9968647271915153,
          -1.526643372762282,
          0.9115075285445621,
          1.0311797012580666,
          1.4125779684959887,
          1.9236848156301622,
          1.2019282629841062,
          -1.3260043835603166,
          -0.3854193311325989,
          -1.3260551783664776,
          1.2021559240222288,
          2.0485609804690483,
          1.0154027910308332,
          -1.1891701036952635,
          1.202236045012401,
          -1.6396244532164181,
          1.0311078184132725,
          -2.2844086479741135,
          1.0311968898599035,
          0.5471050385110113,
          1.0312250868479502,
          1.2020028592160013,
          -1.1328774207076537,
          1.025439010393304,
          0.8428024275628269,
          1.2017306735219881,
          -1.3260000872298159,
          1.031230878270292,
          -1.152913276847105,
          1.0311073189142475,
          -1.2347788510930653,
          1.2021040779052492,
          1.0311596457134684,
          1.3121531630095131,
          -1.1325251744988423,
          -1.1326088604909126,
          0.5232273220615181,
          0.8377244177676801,
          2.048793661029578,
          0.7376634965143822,
          1.0311213668254695,
          0.5252999150461697,
          2.2212967598643187,
          1.7783275763795092,
          -2.2134560083412484,
          2.049144474049647,
          -2.0803884839248927,
          2.049173700554978,
          0.5468253008793383,
          3.7236444446625456,
          1.3121549418423022,
          1.4570862764185726,
          1.1711061622481567,
          0.9024541292690677,
          1.031082208482685,
          -2.369170404654819,
          -2.02556935014776,
          0.7405740553763845
         ],
         "z": [
          -0.5402358193632013,
          -0.5407354249508093,
          -0.6793959164952523,
          0.2231030973267869,
          0.38565128786306746,
          0.020755439166614393,
          -0.4976042208487675,
          0.44267849311409363,
          0.385624926937145,
          0.4582453815546754,
          -0.09536388777054365,
          -0.3379171718198364,
          -0.06472306640558172,
          0.020786455784345407,
          -0.6252603615692249,
          0.0634222007462318,
          0.020778864285782694,
          -0.5402452773788704,
          -0.5405000634216028,
          -0.023095831437145435,
          0.22302276637407753,
          0.02070906160330622,
          0.020776765935822082,
          -0.540286995597839,
          0.08390211834511717,
          0.10682650541287741,
          0.020771842353679678,
          -0.5402358941924592,
          0.020785852110115573,
          -0.5402363657518725,
          0.020787796746665893,
          0.06342498797452503,
          -0.41162263654997905,
          -0.4541722380238385,
          0.21290567867628402,
          0.014033939581640368,
          0.020780158840721808,
          0.020665972643269474,
          0.020779489549383738,
          -0.17261258478248057,
          -0.30366256918089024,
          0.020789495295076687,
          0.2568007048470623,
          0.02026122621842184,
          0.020755944072497146,
          0.02076567378041957,
          -0.5402866561384326,
          -0.22509849941456161,
          -0.027238033735111244,
          -0.49760780535897603,
          0.22310178232155023,
          0.020697939652359495,
          0.020780931910412293,
          0.020790641101392508,
          -0.8017955793122624,
          0.0207705887963097,
          0.46973572782788053,
          -0.2758935285049795,
          0.020787698039436142,
          -0.3388617316113397,
          -0.26704692506810035,
          -0.631342371473049,
          0.018092975303232953,
          0.22310442422590376,
          0.0206135487110632,
          -0.6313211916835849,
          -0.3041029620671928,
          -0.5403764222352169,
          -0.5402777760105878,
          -0.5524268387467575,
          0.020788395394596496,
          0.020752612317518463,
          0.02077475974879835,
          -0.2244215657977984,
          -0.497597951381071,
          0.22277719741084645,
          0.22308947455197475,
          -0.24202121489598655,
          -0.49759968911230146,
          0.22309861455902089,
          0.2231028619810944,
          0.2231128403811835,
          0.06342862113673445,
          -0.5408756869131809,
          -0.5402681388234182,
          0.020778998575491706,
          -0.2749542835948195,
          0.20886603791772895,
          0.020711180764040497,
          -0.49760146990489235,
          0.22309150974927786,
          -0.6313286510213412,
          -0.5404116510787365,
          0.30156116853713055,
          0.3951738650471197,
          -0.48626994045328453,
          -0.07031222588798448,
          0.020750881465903204,
          -0.3379381620919105,
          -0.45419248415976665,
          0.020426655412159614,
          -0.2670496521376265,
          0.020715051124481257,
          -0.6313171013598594,
          0.02079087863454493,
          -0.2671681194052943,
          0.02070964586561439,
          -0.5402364297496658,
          -0.6313189829820535,
          0.020347384930362693,
          0.5298816824481516,
          -0.22440388313008847,
          0.22339657140088615,
          0.020786652544897883,
          -0.5402429310060467,
          0.017731129474840155,
          0.4419075460317285,
          0.020790926226180964,
          0.22310536978823783,
          0.010276603591391603,
          -0.4975985802583989,
          -0.9043020900088272,
          0.06341195215929502,
          0.48493944116514653,
          0.22310067561764432,
          -0.7190952753410054,
          0.06342012607436273,
          -0.3239108935170594,
          0.020753684022762973,
          0.020731237664150172,
          -0.26709136174567566,
          0.38568977213245237,
          -0.6313301856785557,
          0.4767614944120345,
          -0.33804631738511903,
          -0.6252183706593569,
          0.06342069591663548,
          0.22310182052701832,
          -0.45072909368610004,
          0.020679924380002664,
          0.41041634063267335,
          -0.3379181618993617,
          -0.5052052030307504,
          0.020752612661111995,
          -0.3379174544386933,
          0.211600628650766,
          -0.5590286607276539,
          -0.5402443616615682,
          -0.26708044385665836,
          0.0634007635574315,
          0.4442020426397844,
          0.020771749212800047,
          0.4443486414409208,
          -0.4976461657764861,
          -0.29372765278397267,
          -0.33792051327795086,
          -0.3915553498586125,
          -0.1726208257316661,
          0.02078623635112728,
          0.06342058785444686,
          -0.49766247779233896,
          -0.3379400737222411,
          -0.33798105266524936,
          -0.5548862212722558,
          -0.4976239787405171,
          0.020790927832517417,
          -0.15853279136976778,
          -0.5408025262682227,
          -0.5402427684595101,
          -0.5402888337498779,
          -0.3581423539638077,
          0.06342569295683016,
          -0.2247487834398673,
          0.6753946960841732,
          -0.49761013755298683,
          -0.5402640559572193,
          0.399184499652792,
          -0.3379167691631058,
          0.22310924325229212,
          -0.49759856712641304,
          -0.5402392931405794,
          -0.5402366260530935,
          0.02071980613221398,
          -0.26710887573575554,
          0.2231079495893948,
          -0.19133605935492157,
          0.020783201987460313,
          -0.6913879133630586,
          -0.17264946757121286,
          -0.5402497600236105,
          -0.4978794525152547,
          0.4419097983200702,
          -0.17267663901188196,
          -0.3581187422584428,
          -0.6363426257399544,
          -0.17265203390969178,
          -0.6822684886852114,
          0.3856821761526564,
          0.45824611741234805,
          -0.10848309340358209,
          -0.49760900740280145,
          0.019566730319141547,
          0.0630293142015597,
          -0.6697508628488115,
          -0.4975999935957359,
          -0.17263673005434885,
          -0.5402473308422792,
          -0.5402416381595047,
          0.06337754639284807,
          -0.1726208257316661,
          -0.49760733215778713,
          -0.3379215707454256,
          -0.5402480094618524,
          -0.22624627417106324,
          -0.5402436274125794,
          -0.540314721602189,
          -0.49759886100860173,
          0.3991860887005626,
          -0.5402557609769256,
          -0.2848158122496829,
          -0.5402387493583218,
          -0.5402375771868762,
          -0.2037974042885778,
          -0.3376494359182729,
          0.020790572639964627,
          0.3991821471197266,
          0.48495075204079013,
          -0.5403029300992648,
          -0.33791757203296263,
          -0.4976013732019567,
          -0.5402430212490341,
          0.05177688797179817,
          -0.5402384542436336,
          0.4426599411302775,
          -0.26704584863054837,
          -0.3272236531909329,
          0.02078957513177676,
          -0.3581251170966447,
          0.06330219794308932,
          0.4582460305882045,
          -0.5407659634303563,
          0.02073830534924292,
          0.48494256272070396,
          -0.2670572736254872,
          0.3836262225659074,
          -0.49761485349840273,
          -0.7101826061491877,
          -0.4976565287769721,
          0.020307442841469528,
          -0.17266904419026116,
          -0.4976183294510985,
          0.006176117526144171,
          -0.17282287158207865,
          -0.4977056905830092,
          -0.5402404763561015,
          -0.5402395655505824,
          -0.5403503165548983,
          -0.07333015839489827,
          -0.4976096631504595,
          0.020778763124393387,
          -0.26738965941103593,
          0.22227923766040514,
          -0.17261838820865139,
          -0.5402567018606175,
          -0.6524040228698633,
          -0.06474381818556357,
          0.020777339658412337,
          -0.1585659293303354,
          0.4426449369578234,
          -0.7725027512712577,
          0.37054969529586995,
          0.4904312774172752,
          0.4105224785183456,
          0.39820784136672127,
          -0.5548441095676822,
          0.06340308156221909,
          -0.5548811214641552,
          -0.6878036765550858,
          0.020781510730830045,
          -0.6313271619534865,
          0.020780533898235237,
          0.06341143600290058,
          0.0634258723951401,
          -0.5497116616432552,
          0.39917683466660725,
          -0.6313261629942848,
          0.3050133182852965,
          -0.06987384809949963,
          0.19851252906186628,
          -0.1626879582111053,
          0.06325247290472184,
          -0.687820530085856,
          0.22310306887623602,
          -0.49760426434473426,
          -0.2670480978654602,
          8.181947285232958,
          0.019591015351320736,
          -0.17261892648514102,
          -0.03867875581426812,
          0.020784933380576995,
          0.020774396113192328,
          0.020766249410214852,
          0.020765804530852135,
          -0.5402494596591071,
          -0.5402380459461116,
          0.3991750159856642,
          -0.0938331272322912,
          -0.13796851771511473,
          -0.4976040566928276,
          0.45368352743861384,
          -0.30422285865828536,
          0.06209940697525825,
          -0.5402380918724339,
          0.25692106384352087,
          -0.07894540637703144,
          0.45824129814959724,
          -0.5632451558689973,
          -0.3379638301720217,
          -0.5552114920367939,
          -0.5142914806319843,
          0.4441758447085941,
          -0.5402391133740334,
          -0.47702441749027585,
          0.020738244387766027,
          -0.12020849424703785,
          -0.5402443139253706,
          -0.06948794627250135,
          0.06331625759559796,
          0.2569180878918959,
          0.38565876306754665,
          0.25691982229974414,
          -0.4976302935037095,
          -0.10860075937588312,
          -0.5700798335935306,
          -0.6314152130926003,
          -0.5403059704001283,
          0.3814558681415284,
          0.3991855955791814,
          0.38433656065017713,
          -0.281652436540032,
          -0.20380065300497238,
          0.06333286421435964,
          0.44238792023387613,
          -0.5479927546452548,
          -0.5402564639828125,
          0.018571276077246048,
          -0.4976224511555509,
          0.08750572051027497,
          0.06342510160771764,
          0.2569202186306764,
          -0.20381638350040213,
          0.25674406502995933,
          0.02076502577992448,
          -0.5405844593471959,
          -0.5402373180007086,
          -0.22440471162504746,
          0.06342296888839681,
          0.22310226161793145,
          0.1253612491074821,
          -0.158524274663275,
          0.09786560909812156,
          -0.3928953532437288,
          0.2628011532842982,
          0.3379608605391273,
          -0.5403599964029774,
          0.3990947978816091,
          0.015489813744576713,
          0.44415178188642634,
          0.2085034752195369,
          -0.3583046191757849,
          0.6043804132440838,
          20.630888456301527,
          0.02078150729685564,
          0.012661376099847344,
          0.06328410942131289,
          -0.4356651299956288,
          14.557569047737598,
          -0.4976017095107958,
          -0.6064304816907935,
          -0.2670631526210383,
          -0.1788654268717336,
          0.38485021767379457,
          0.39904131745972454,
          0.020787161946492452,
          0.335521924596171,
          -0.5548526801954737,
          -0.5402365138713421,
          -0.5402368823915796,
          0.45821317814121426,
          -0.2672066490025018,
          0.44186973495201676,
          -0.21024488516006937,
          -0.17262937779080822,
          -0.5402433568738986,
          0.030007915121102784,
          0.06340446948336814,
          -0.47706975732684204,
          -0.1726239716904101,
          0.39918013192918234,
          -0.10907719916296865,
          -0.5414051291442665,
          0.006174680130289759,
          0.48494755171685017,
          -0.4327431907725447,
          0.44443693366342835,
          -0.2670574152708041,
          0.44191128605152885,
          0.399120286854178,
          0.37708528231829896,
          0.36098714233384177,
          -0.5456432890530246,
          -0.26704654903749425,
          0.43904877604996906,
          -0.6809858619578186,
          0.39884169182199386,
          -0.5402544018301488,
          -0.35203514619292603,
          -0.27775134869115975,
          -0.20386673369106184,
          -0.0647521493501788,
          -0.13181293950833545,
          0.17875347497582228,
          0.3276914755628615,
          0.06342464675158246,
          -0.38229248565284923,
          -0.20379666140481995,
          -0.4769918384395385,
          -0.2689679838197622,
          -0.35214169954383767,
          -0.20383021383388472,
          0.02078813911790365,
          -0.5403523558247187,
          0.44247916093988987,
          0.41128913230063735,
          -0.04542650900496841,
          0.3146278069962561,
          -0.22441477800213624,
          -0.49761646156217526,
          -0.26711287667328737,
          -0.1726381023325269,
          0.22199964991585547,
          -0.36105493703329533,
          -0.22441378097753747,
          0.06342418009187295,
          -0.542733813494189,
          0.05159290954932291,
          0.17874389209787916,
          5.859690514299959,
          0.45562106187164764,
          -0.3332345150110875,
          0.4419001209989796,
          0.22310307015498945,
          -0.6236856115551337,
          -0.23155730821239143,
          0.39748901437020767,
          -0.4770096444506881,
          0.41155531733633993,
          0.4115585144454787,
          0.17040364553243587,
          0.5582333094462172,
          0.020762866605289438,
          -0.5402443647308437,
          0.45820597585799194,
          -0.4769985592905696,
          0.45823686289441184,
          -0.20379364868571556,
          -0.5616036775307528,
          0.22338241425454095,
          -0.22440302788247993,
          -0.540253964013444,
          -0.606563324002005,
          -0.681904813300437,
          -0.49765236485627024,
          0.22308389134617704,
          -0.07028854153622528,
          0.2230585651394765,
          -0.4976112668032095,
          -0.10895395497587244,
          -0.5506063771376679,
          0.009556368623284123,
          -0.4976988263840274,
          0.2548782113139739,
          -0.540260148139064,
          0.4107582497228836,
          -0.5402505770837266,
          -0.06472087608858092,
          -0.5402398245217104,
          -0.4978365551710906,
          0.020352510985382842,
          -0.5418436991823207,
          -0.3453961572626094,
          -0.49791777241861807,
          0.22309859312873975,
          -0.5402624849684059,
          0.0027741462630567273,
          -0.5404496720037909,
          0.1068142289448379,
          -0.49770546127161064,
          -0.5402971972816711,
          -0.17261284053685108,
          0.020788582062702232,
          0.020741475373148244,
          -0.27226432087887975,
          -0.337957176251435,
          -0.10849199547111668,
          -0.27234089979975523,
          -0.5403749038511211,
          -0.30410853437968566,
          12.618783726915021,
          -0.6313149610945028,
          0.4839466233024897,
          -0.10884820922790353,
          0.385683086725454,
          -0.10889055894963617,
          -0.06524679356129662,
          8.96815174100698,
          -0.1726150700769169,
          -1.1424252374708161,
          -0.1880597856904279,
          -0.04239744203511142,
          -0.5402706008098314,
          0.3986212348247507,
          0.4582454175339127,
          -0.26703851499141784
         ]
        }
       ],
       "layout": {
        "coloraxis": {
         "colorbar": {
          "title": {
           "text": "class"
          }
         },
         "colorscale": [
          [
           0,
           "#0d0887"
          ],
          [
           0.1111111111111111,
           "#46039f"
          ],
          [
           0.2222222222222222,
           "#7201a8"
          ],
          [
           0.3333333333333333,
           "#9c179e"
          ],
          [
           0.4444444444444444,
           "#bd3786"
          ],
          [
           0.5555555555555556,
           "#d8576b"
          ],
          [
           0.6666666666666666,
           "#ed7953"
          ],
          [
           0.7777777777777778,
           "#fb9f3a"
          ],
          [
           0.8888888888888888,
           "#fdca26"
          ],
          [
           1,
           "#f0f921"
          ]
         ]
        },
        "legend": {
         "tracegroupgap": 0,
         "x": 0,
         "y": 1
        },
        "margin": {
         "t": 60
        },
        "scene": {
         "domain": {
          "x": [
           0,
           1
          ],
          "y": [
           0,
           1
          ]
         },
         "xaxis": {
          "title": {
           "text": "PC 1"
          }
         },
         "yaxis": {
          "title": {
           "text": "PC 2"
          }
         },
         "zaxis": {
          "title": {
           "text": "PC 3"
          }
         }
        },
        "template": {
         "data": {
          "bar": [
           {
            "error_x": {
             "color": "#2a3f5f"
            },
            "error_y": {
             "color": "#2a3f5f"
            },
            "marker": {
             "line": {
              "color": "#E5ECF6",
              "width": 0.5
             }
            },
            "type": "bar"
           }
          ],
          "barpolar": [
           {
            "marker": {
             "line": {
              "color": "#E5ECF6",
              "width": 0.5
             }
            },
            "type": "barpolar"
           }
          ],
          "carpet": [
           {
            "aaxis": {
             "endlinecolor": "#2a3f5f",
             "gridcolor": "white",
             "linecolor": "white",
             "minorgridcolor": "white",
             "startlinecolor": "#2a3f5f"
            },
            "baxis": {
             "endlinecolor": "#2a3f5f",
             "gridcolor": "white",
             "linecolor": "white",
             "minorgridcolor": "white",
             "startlinecolor": "#2a3f5f"
            },
            "type": "carpet"
           }
          ],
          "choropleth": [
           {
            "colorbar": {
             "outlinewidth": 0,
             "ticks": ""
            },
            "type": "choropleth"
           }
          ],
          "contour": [
           {
            "colorbar": {
             "outlinewidth": 0,
             "ticks": ""
            },
            "colorscale": [
             [
              0,
              "#0d0887"
             ],
             [
              0.1111111111111111,
              "#46039f"
             ],
             [
              0.2222222222222222,
              "#7201a8"
             ],
             [
              0.3333333333333333,
              "#9c179e"
             ],
             [
              0.4444444444444444,
              "#bd3786"
             ],
             [
              0.5555555555555556,
              "#d8576b"
             ],
             [
              0.6666666666666666,
              "#ed7953"
             ],
             [
              0.7777777777777778,
              "#fb9f3a"
             ],
             [
              0.8888888888888888,
              "#fdca26"
             ],
             [
              1,
              "#f0f921"
             ]
            ],
            "type": "contour"
           }
          ],
          "contourcarpet": [
           {
            "colorbar": {
             "outlinewidth": 0,
             "ticks": ""
            },
            "type": "contourcarpet"
           }
          ],
          "heatmap": [
           {
            "colorbar": {
             "outlinewidth": 0,
             "ticks": ""
            },
            "colorscale": [
             [
              0,
              "#0d0887"
             ],
             [
              0.1111111111111111,
              "#46039f"
             ],
             [
              0.2222222222222222,
              "#7201a8"
             ],
             [
              0.3333333333333333,
              "#9c179e"
             ],
             [
              0.4444444444444444,
              "#bd3786"
             ],
             [
              0.5555555555555556,
              "#d8576b"
             ],
             [
              0.6666666666666666,
              "#ed7953"
             ],
             [
              0.7777777777777778,
              "#fb9f3a"
             ],
             [
              0.8888888888888888,
              "#fdca26"
             ],
             [
              1,
              "#f0f921"
             ]
            ],
            "type": "heatmap"
           }
          ],
          "heatmapgl": [
           {
            "colorbar": {
             "outlinewidth": 0,
             "ticks": ""
            },
            "colorscale": [
             [
              0,
              "#0d0887"
             ],
             [
              0.1111111111111111,
              "#46039f"
             ],
             [
              0.2222222222222222,
              "#7201a8"
             ],
             [
              0.3333333333333333,
              "#9c179e"
             ],
             [
              0.4444444444444444,
              "#bd3786"
             ],
             [
              0.5555555555555556,
              "#d8576b"
             ],
             [
              0.6666666666666666,
              "#ed7953"
             ],
             [
              0.7777777777777778,
              "#fb9f3a"
             ],
             [
              0.8888888888888888,
              "#fdca26"
             ],
             [
              1,
              "#f0f921"
             ]
            ],
            "type": "heatmapgl"
           }
          ],
          "histogram": [
           {
            "marker": {
             "colorbar": {
              "outlinewidth": 0,
              "ticks": ""
             }
            },
            "type": "histogram"
           }
          ],
          "histogram2d": [
           {
            "colorbar": {
             "outlinewidth": 0,
             "ticks": ""
            },
            "colorscale": [
             [
              0,
              "#0d0887"
             ],
             [
              0.1111111111111111,
              "#46039f"
             ],
             [
              0.2222222222222222,
              "#7201a8"
             ],
             [
              0.3333333333333333,
              "#9c179e"
             ],
             [
              0.4444444444444444,
              "#bd3786"
             ],
             [
              0.5555555555555556,
              "#d8576b"
             ],
             [
              0.6666666666666666,
              "#ed7953"
             ],
             [
              0.7777777777777778,
              "#fb9f3a"
             ],
             [
              0.8888888888888888,
              "#fdca26"
             ],
             [
              1,
              "#f0f921"
             ]
            ],
            "type": "histogram2d"
           }
          ],
          "histogram2dcontour": [
           {
            "colorbar": {
             "outlinewidth": 0,
             "ticks": ""
            },
            "colorscale": [
             [
              0,
              "#0d0887"
             ],
             [
              0.1111111111111111,
              "#46039f"
             ],
             [
              0.2222222222222222,
              "#7201a8"
             ],
             [
              0.3333333333333333,
              "#9c179e"
             ],
             [
              0.4444444444444444,
              "#bd3786"
             ],
             [
              0.5555555555555556,
              "#d8576b"
             ],
             [
              0.6666666666666666,
              "#ed7953"
             ],
             [
              0.7777777777777778,
              "#fb9f3a"
             ],
             [
              0.8888888888888888,
              "#fdca26"
             ],
             [
              1,
              "#f0f921"
             ]
            ],
            "type": "histogram2dcontour"
           }
          ],
          "mesh3d": [
           {
            "colorbar": {
             "outlinewidth": 0,
             "ticks": ""
            },
            "type": "mesh3d"
           }
          ],
          "parcoords": [
           {
            "line": {
             "colorbar": {
              "outlinewidth": 0,
              "ticks": ""
             }
            },
            "type": "parcoords"
           }
          ],
          "pie": [
           {
            "automargin": true,
            "type": "pie"
           }
          ],
          "scatter": [
           {
            "marker": {
             "colorbar": {
              "outlinewidth": 0,
              "ticks": ""
             }
            },
            "type": "scatter"
           }
          ],
          "scatter3d": [
           {
            "line": {
             "colorbar": {
              "outlinewidth": 0,
              "ticks": ""
             }
            },
            "marker": {
             "colorbar": {
              "outlinewidth": 0,
              "ticks": ""
             }
            },
            "type": "scatter3d"
           }
          ],
          "scattercarpet": [
           {
            "marker": {
             "colorbar": {
              "outlinewidth": 0,
              "ticks": ""
             }
            },
            "type": "scattercarpet"
           }
          ],
          "scattergeo": [
           {
            "marker": {
             "colorbar": {
              "outlinewidth": 0,
              "ticks": ""
             }
            },
            "type": "scattergeo"
           }
          ],
          "scattergl": [
           {
            "marker": {
             "colorbar": {
              "outlinewidth": 0,
              "ticks": ""
             }
            },
            "type": "scattergl"
           }
          ],
          "scattermapbox": [
           {
            "marker": {
             "colorbar": {
              "outlinewidth": 0,
              "ticks": ""
             }
            },
            "type": "scattermapbox"
           }
          ],
          "scatterpolar": [
           {
            "marker": {
             "colorbar": {
              "outlinewidth": 0,
              "ticks": ""
             }
            },
            "type": "scatterpolar"
           }
          ],
          "scatterpolargl": [
           {
            "marker": {
             "colorbar": {
              "outlinewidth": 0,
              "ticks": ""
             }
            },
            "type": "scatterpolargl"
           }
          ],
          "scatterternary": [
           {
            "marker": {
             "colorbar": {
              "outlinewidth": 0,
              "ticks": ""
             }
            },
            "type": "scatterternary"
           }
          ],
          "surface": [
           {
            "colorbar": {
             "outlinewidth": 0,
             "ticks": ""
            },
            "colorscale": [
             [
              0,
              "#0d0887"
             ],
             [
              0.1111111111111111,
              "#46039f"
             ],
             [
              0.2222222222222222,
              "#7201a8"
             ],
             [
              0.3333333333333333,
              "#9c179e"
             ],
             [
              0.4444444444444444,
              "#bd3786"
             ],
             [
              0.5555555555555556,
              "#d8576b"
             ],
             [
              0.6666666666666666,
              "#ed7953"
             ],
             [
              0.7777777777777778,
              "#fb9f3a"
             ],
             [
              0.8888888888888888,
              "#fdca26"
             ],
             [
              1,
              "#f0f921"
             ]
            ],
            "type": "surface"
           }
          ],
          "table": [
           {
            "cells": {
             "fill": {
              "color": "#EBF0F8"
             },
             "line": {
              "color": "white"
             }
            },
            "header": {
             "fill": {
              "color": "#C8D4E3"
             },
             "line": {
              "color": "white"
             }
            },
            "type": "table"
           }
          ]
         },
         "layout": {
          "annotationdefaults": {
           "arrowcolor": "#2a3f5f",
           "arrowhead": 0,
           "arrowwidth": 1
          },
          "coloraxis": {
           "colorbar": {
            "outlinewidth": 0,
            "ticks": ""
           }
          },
          "colorscale": {
           "diverging": [
            [
             0,
             "#8e0152"
            ],
            [
             0.1,
             "#c51b7d"
            ],
            [
             0.2,
             "#de77ae"
            ],
            [
             0.3,
             "#f1b6da"
            ],
            [
             0.4,
             "#fde0ef"
            ],
            [
             0.5,
             "#f7f7f7"
            ],
            [
             0.6,
             "#e6f5d0"
            ],
            [
             0.7,
             "#b8e186"
            ],
            [
             0.8,
             "#7fbc41"
            ],
            [
             0.9,
             "#4d9221"
            ],
            [
             1,
             "#276419"
            ]
           ],
           "sequential": [
            [
             0,
             "#0d0887"
            ],
            [
             0.1111111111111111,
             "#46039f"
            ],
            [
             0.2222222222222222,
             "#7201a8"
            ],
            [
             0.3333333333333333,
             "#9c179e"
            ],
            [
             0.4444444444444444,
             "#bd3786"
            ],
            [
             0.5555555555555556,
             "#d8576b"
            ],
            [
             0.6666666666666666,
             "#ed7953"
            ],
            [
             0.7777777777777778,
             "#fb9f3a"
            ],
            [
             0.8888888888888888,
             "#fdca26"
            ],
            [
             1,
             "#f0f921"
            ]
           ],
           "sequentialminus": [
            [
             0,
             "#0d0887"
            ],
            [
             0.1111111111111111,
             "#46039f"
            ],
            [
             0.2222222222222222,
             "#7201a8"
            ],
            [
             0.3333333333333333,
             "#9c179e"
            ],
            [
             0.4444444444444444,
             "#bd3786"
            ],
            [
             0.5555555555555556,
             "#d8576b"
            ],
            [
             0.6666666666666666,
             "#ed7953"
            ],
            [
             0.7777777777777778,
             "#fb9f3a"
            ],
            [
             0.8888888888888888,
             "#fdca26"
            ],
            [
             1,
             "#f0f921"
            ]
           ]
          },
          "colorway": [
           "#636efa",
           "#EF553B",
           "#00cc96",
           "#ab63fa",
           "#FFA15A",
           "#19d3f3",
           "#FF6692",
           "#B6E880",
           "#FF97FF",
           "#FECB52"
          ],
          "font": {
           "color": "#2a3f5f"
          },
          "geo": {
           "bgcolor": "white",
           "lakecolor": "white",
           "landcolor": "#E5ECF6",
           "showlakes": true,
           "showland": true,
           "subunitcolor": "white"
          },
          "hoverlabel": {
           "align": "left"
          },
          "hovermode": "closest",
          "mapbox": {
           "style": "light"
          },
          "paper_bgcolor": "white",
          "plot_bgcolor": "#E5ECF6",
          "polar": {
           "angularaxis": {
            "gridcolor": "white",
            "linecolor": "white",
            "ticks": ""
           },
           "bgcolor": "#E5ECF6",
           "radialaxis": {
            "gridcolor": "white",
            "linecolor": "white",
            "ticks": ""
           }
          },
          "scene": {
           "xaxis": {
            "backgroundcolor": "#E5ECF6",
            "gridcolor": "white",
            "gridwidth": 2,
            "linecolor": "white",
            "showbackground": true,
            "ticks": "",
            "zerolinecolor": "white"
           },
           "yaxis": {
            "backgroundcolor": "#E5ECF6",
            "gridcolor": "white",
            "gridwidth": 2,
            "linecolor": "white",
            "showbackground": true,
            "ticks": "",
            "zerolinecolor": "white"
           },
           "zaxis": {
            "backgroundcolor": "#E5ECF6",
            "gridcolor": "white",
            "gridwidth": 2,
            "linecolor": "white",
            "showbackground": true,
            "ticks": "",
            "zerolinecolor": "white"
           }
          },
          "shapedefaults": {
           "line": {
            "color": "#2a3f5f"
           }
          },
          "ternary": {
           "aaxis": {
            "gridcolor": "white",
            "linecolor": "white",
            "ticks": ""
           },
           "baxis": {
            "gridcolor": "white",
            "linecolor": "white",
            "ticks": ""
           },
           "bgcolor": "#E5ECF6",
           "caxis": {
            "gridcolor": "white",
            "linecolor": "white",
            "ticks": ""
           }
          },
          "title": {
           "x": 0.05
          },
          "xaxis": {
           "automargin": true,
           "gridcolor": "white",
           "linecolor": "white",
           "ticks": "",
           "title": {
            "standoff": 15
           },
           "zerolinecolor": "white",
           "zerolinewidth": 2
          },
          "yaxis": {
           "automargin": true,
           "gridcolor": "white",
           "linecolor": "white",
           "ticks": "",
           "title": {
            "standoff": 15
           },
           "zerolinecolor": "white",
           "zerolinewidth": 2
          }
         }
        },
        "width": 800
       }
      },
      "text/html": [
       "<div>\n",
       "        \n",
       "        \n",
       "            <div id=\"76edb45f-f7d4-410e-9c01-b3b362e0098a\" class=\"plotly-graph-div\" style=\"height:525px; width:800px;\"></div>\n",
       "            <script type=\"text/javascript\">\n",
       "                require([\"plotly\"], function(Plotly) {\n",
       "                    window.PLOTLYENV=window.PLOTLYENV || {};\n",
       "                    \n",
       "                if (document.getElementById(\"76edb45f-f7d4-410e-9c01-b3b362e0098a\")) {\n",
       "                    Plotly.newPlot(\n",
       "                        '76edb45f-f7d4-410e-9c01-b3b362e0098a',\n",
       "                        [{\"customdata\": [[\"Scrypt\"], [\"Scrypt\"], [\"X13\"], [\"SHA-256\"], [\"Ethash\"], [\"Scrypt\"], [\"X11\"], [\"CryptoNight-V7\"], [\"Ethash\"], [\"Equihash\"], [\"SHA-512\"], [\"SHA-256\"], [\"SHA-256\"], [\"Scrypt\"], [\"X15\"], [\"X11\"], [\"Scrypt\"], [\"Scrypt\"], [\"Scrypt\"], [\"Scrypt\"], [\"SHA-256\"], [\"Scrypt\"], [\"Scrypt\"], [\"Scrypt\"], [\"Quark\"], [\"Groestl\"], [\"Scrypt\"], [\"Scrypt\"], [\"Scrypt\"], [\"Scrypt\"], [\"Scrypt\"], [\"X11\"], [\"Scrypt\"], [\"Groestl\"], [\"SHA-256\"], [\"Scrypt\"], [\"Scrypt\"], [\"Scrypt\"], [\"Scrypt\"], [\"PoS\"], [\"Scrypt\"], [\"Scrypt\"], [\"NeoScrypt\"], [\"Scrypt\"], [\"Scrypt\"], [\"Scrypt\"], [\"Scrypt\"], [\"X11\"], [\"Scrypt\"], [\"X11\"], [\"SHA-256\"], [\"Scrypt\"], [\"Scrypt\"], [\"Scrypt\"], [\"SHA3\"], [\"Scrypt\"], [\"HybridScryptHash256\"], [\"Scrypt\"], [\"Scrypt\"], [\"SHA-256\"], [\"Scrypt\"], [\"X13\"], [\"Scrypt\"], [\"SHA-256\"], [\"Scrypt\"], [\"X13\"], [\"NeoScrypt\"], [\"Scrypt\"], [\"Scrypt\"], [\"Scrypt\"], [\"Scrypt\"], [\"Scrypt\"], [\"Scrypt\"], [\"X11\"], [\"X11\"], [\"SHA-256\"], [\"SHA-256\"], [\"PHI1612\"], [\"X11\"], [\"SHA-256\"], [\"SHA-256\"], [\"SHA-256\"], [\"X11\"], [\"Scrypt\"], [\"Scrypt\"], [\"Scrypt\"], [\"Scrypt\"], [\"Lyra2REv2\"], [\"Scrypt\"], [\"X11\"], [\"SHA-256\"], [\"X13\"], [\"Scrypt\"], [\"CryptoNight\"], [\"CryptoNight\"], [\"Shabal256\"], [\"Counterparty\"], [\"Scrypt\"], [\"SHA-256\"], [\"Groestl\"], [\"Scrypt\"], [\"Scrypt\"], [\"Scrypt\"], [\"X13\"], [\"Scrypt\"], [\"Scrypt\"], [\"Scrypt\"], [\"Scrypt\"], [\"X13\"], [\"Scrypt\"], [\"Stanford Folding\"], [\"X11\"], [\"QuBit\"], [\"Scrypt\"], [\"Scrypt\"], [\"Scrypt\"], [\"M7 POW\"], [\"Scrypt\"], [\"SHA-256\"], [\"Scrypt\"], [\"X11\"], [\"SHA3\"], [\"X11\"], [\"Lyra2RE\"], [\"SHA-256\"], [\"QUAIT\"], [\"X11\"], [\"X11\"], [\"Scrypt\"], [\"Scrypt\"], [\"Scrypt\"], [\"Ethash\"], [\"X13\"], [\"Blake2b\"], [\"SHA-256\"], [\"X15\"], [\"X11\"], [\"SHA-256\"], [\"BLAKE256\"], [\"Scrypt\"], [\"1GB AES Pattern Search\"], [\"SHA-256\"], [\"X11\"], [\"Scrypt\"], [\"SHA-256\"], [\"SHA-256\"], [\"NIST5\"], [\"Scrypt\"], [\"Scrypt\"], [\"X11\"], [\"Dagger\"], [\"Scrypt\"], [\"X11GOST\"], [\"X11\"], [\"Scrypt\"], [\"SHA-256\"], [\"Scrypt\"], [\"PoS\"], [\"Scrypt\"], [\"X11\"], [\"X11\"], [\"SHA-256\"], [\"SHA-256\"], [\"NIST5\"], [\"X11\"], [\"Scrypt\"], [\"POS 3.0\"], [\"Scrypt\"], [\"Scrypt\"], [\"Scrypt\"], [\"X13\"], [\"X11\"], [\"X11\"], [\"Equihash\"], [\"X11\"], [\"Scrypt\"], [\"CryptoNight\"], [\"SHA-256\"], [\"SHA-256\"], [\"X11\"], [\"Scrypt\"], [\"Scrypt\"], [\"Scrypt\"], [\"Scrypt\"], [\"SHA-256\"], [\"Scrypt\"], [\"Scrypt\"], [\"SHA-256D\"], [\"PoS\"], [\"Scrypt\"], [\"X11\"], [\"Lyra2Z\"], [\"PoS\"], [\"X13\"], [\"X14\"], [\"PoS\"], [\"SHA-256D\"], [\"Ethash\"], [\"Equihash\"], [\"DPoS\"], [\"X11\"], [\"Scrypt\"], [\"X11\"], [\"X13\"], [\"X11\"], [\"PoS\"], [\"Scrypt\"], [\"Scrypt\"], [\"X11\"], [\"PoS\"], [\"X11\"], [\"SHA-256\"], [\"Scrypt\"], [\"X11\"], [\"Scrypt\"], [\"Scrypt\"], [\"X11\"], [\"CryptoNight\"], [\"Scrypt\"], [\"Scrypt\"], [\"Scrypt\"], [\"Scrypt\"], [\"Quark\"], [\"QuBit\"], [\"Scrypt\"], [\"CryptoNight\"], [\"Lyra2RE\"], [\"Scrypt\"], [\"SHA-256\"], [\"X11\"], [\"Scrypt\"], [\"X11\"], [\"Scrypt\"], [\"CryptoNight-V7\"], [\"Scrypt\"], [\"Scrypt\"], [\"Scrypt\"], [\"X13\"], [\"X11\"], [\"Equihash\"], [\"Scrypt\"], [\"Scrypt\"], [\"Lyra2RE\"], [\"Scrypt\"], [\"Dagger-Hashimoto\"], [\"X11\"], [\"Blake2S\"], [\"X11\"], [\"Scrypt\"], [\"PoS\"], [\"X11\"], [\"NIST5\"], [\"PoS\"], [\"X11\"], [\"Scrypt\"], [\"Scrypt\"], [\"Scrypt\"], [\"SHA-256\"], [\"X11\"], [\"Scrypt\"], [\"Scrypt\"], [\"SHA-256\"], [\"PoS\"], [\"Scrypt\"], [\"X15\"], [\"SHA-256\"], [\"Scrypt\"], [\"POS 3.0\"], [\"CryptoNight-V7\"], [\"536\"], [\"Argon2d\"], [\"Blake2b\"], [\"Cloverhash\"], [\"CryptoNight\"], [\"NIST5\"], [\"X11\"], [\"NIST5\"], [\"Skein\"], [\"Scrypt\"], [\"X13\"], [\"Scrypt\"], [\"X11\"], [\"X11\"], [\"Scrypt\"], [\"CryptoNight\"], [\"X13\"], [\"Time Travel\"], [\"Scrypt\"], [\"Keccak\"], [\"SkunkHash v2 Raptor\"], [\"X11\"], [\"Skein\"], [\"SHA-256\"], [\"X11\"], [\"Scrypt\"], [\"VeChainThor Authority\"], [\"Scrypt\"], [\"PoS\"], [\"Scrypt\"], [\"Scrypt\"], [\"Scrypt\"], [\"Scrypt\"], [\"Scrypt\"], [\"Scrypt\"], [\"Scrypt\"], [\"CryptoNight\"], [\"SHA-512\"], [\"Ouroboros\"], [\"X11\"], [\"Equihash\"], [\"NeoScrypt\"], [\"X11\"], [\"Scrypt\"], [\"NeoScrypt\"], [\"Lyra2REv2\"], [\"Equihash\"], [\"Scrypt\"], [\"SHA-256\"], [\"NIST5\"], [\"PHI1612\"], [\"Dagger\"], [\"Scrypt\"], [\"Quark\"], [\"Scrypt\"], [\"POS 2.0\"], [\"Scrypt\"], [\"SHA-256\"], [\"X11\"], [\"NeoScrypt\"], [\"Ethash\"], [\"NeoScrypt\"], [\"X11\"], [\"DPoS\"], [\"NIST5\"], [\"X13\"], [\"Scrypt\"], [\"CryptoNight\"], [\"CryptoNight\"], [\"Ethash\"], [\"NIST5\"], [\"Quark\"], [\"X11\"], [\"CryptoNight-V7\"], [\"Scrypt\"], [\"Scrypt\"], [\"Scrypt\"], [\"X11\"], [\"BLAKE256\"], [\"X11\"], [\"NeoScrypt\"], [\"Quark\"], [\"NeoScrypt\"], [\"Scrypt\"], [\"Scrypt\"], [\"Scrypt\"], [\"X11\"], [\"X11\"], [\"SHA-256\"], [\"C11\"], [\"POS 3.0\"], [\"Ethash\"], [\"Scrypt\"], [\"CryptoNight\"], [\"SkunkHash\"], [\"Scrypt\"], [\"CryptoNight\"], [\"Scrypt\"], [\"Dagger\"], [\"Lyra2REv2\"], [\"X13\"], [\"Proof-of-BibleHash\"], [\"SHA-256 + Hive\"], [\"Scrypt\"], [\"Scrypt\"], [\"X11\"], [\"C11\"], [\"Proof-of-Authority\"], [\"X11\"], [\"XEVAN\"], [\"Scrypt\"], [\"VBFT\"], [\"Ethash\"], [\"CryptoNight\"], [\"Scrypt\"], [\"IMesh\"], [\"NIST5\"], [\"Scrypt\"], [\"Scrypt\"], [\"Equihash\"], [\"Scrypt\"], [\"Lyra2Z\"], [\"Green Protocol\"], [\"PoS\"], [\"Scrypt\"], [\"Semux BFT consensus\"], [\"X11\"], [\"Quark\"], [\"PoS\"], [\"CryptoNight\"], [\"X16R\"], [\"Scrypt\"], [\"NIST5\"], [\"Lyra2RE\"], [\"XEVAN\"], [\"Tribus\"], [\"Scrypt\"], [\"Lyra2Z\"], [\"CryptoNight\"], [\"CryptoNight Heavy\"], [\"CryptoNight\"], [\"Scrypt\"], [\"Scrypt\"], [\"Jump Consistent Hash\"], [\"SHA-256D\"], [\"CryptoNight\"], [\"Scrypt\"], [\"X15\"], [\"Scrypt\"], [\"Quark\"], [\"SHA-256\"], [\"DPoS\"], [\"X16R\"], [\"HMQ1725\"], [\"X11\"], [\"X16R\"], [\"Quark\"], [\"Quark\"], [\"Scrypt\"], [\"Lyra2REv2\"], [\"Quark\"], [\"Scrypt\"], [\"Scrypt\"], [\"CryptoNight-V7\"], [\"Cryptonight-GPU\"], [\"XEVAN\"], [\"CryptoNight Heavy\"], [\"X11\"], [\"X11\"], [\"Scrypt\"], [\"PoS\"], [\"SHA-256\"], [\"Keccak\"], [\"X11\"], [\"X11\"], [\"Scrypt\"], [\"SHA-512\"], [\"X16R\"], [\"ECC 256K1\"], [\"Equihash\"], [\"XEVAN\"], [\"Lyra2Z\"], [\"SHA-256\"], [\"XEVAN\"], [\"X11\"], [\"CryptoNight\"], [\"Quark\"], [\"Blake\"], [\"Blake\"], [\"Equihash\"], [\"Exosis\"], [\"Scrypt\"], [\"Scrypt\"], [\"Equihash\"], [\"Quark\"], [\"Equihash\"], [\"Quark\"], [\"Scrypt\"], [\"QuBit\"], [\"X11\"], [\"Scrypt\"], [\"XEVAN\"], [\"SHA-256D\"], [\"X11\"], [\"SHA-256\"], [\"X13\"], [\"SHA-256\"], [\"X11\"], [\"DPoS\"], [\"Scrypt\"], [\"Scrypt\"], [\"X11\"], [\"NeoScrypt\"], [\"Scrypt\"], [\"Blake\"], [\"Scrypt\"], [\"SHA-256\"], [\"Scrypt\"], [\"X11\"], [\"Scrypt\"], [\"Scrypt\"], [\"SHA-256\"], [\"X11\"], [\"SHA-256\"], [\"Scrypt\"], [\"Scrypt\"], [\"Scrypt\"], [\"Groestl\"], [\"X11\"], [\"Scrypt\"], [\"PoS\"], [\"Scrypt\"], [\"Scrypt\"], [\"X11\"], [\"SHA-256\"], [\"DPoS\"], [\"Scrypt\"], [\"Scrypt\"], [\"NeoScrypt\"], [\"SHA3-256\"], [\"X13\"], [\"Equihash+Scrypt\"], [\"DPoS\"], [\"Ethash\"], [\"DPoS\"], [\"SHA-256\"], [\"Leased POS\"], [\"PoS\"], [\"TRC10\"], [\"PoS\"], [\"SHA-256\"], [\"Scrypt\"], [\"CryptoNight\"], [\"Equihash\"], [\"Scrypt\"]], \"hovertemplate\": \"<b>%{hovertext}</b><br><br>PC 1=%{x}<br>PC 2=%{y}<br>PC 3=%{z}<br>Algorithm=%{customdata[0]}<br>class=%{marker.color}<extra></extra>\", \"hovertext\": [\"42 Coin\", \"404Coin\", \"EliteCoin\", \"Bitcoin\", \"Ethereum\", \"Litecoin\", \"Dash\", \"Monero\", \"Ethereum Classic\", \"ZCash\", \"Bitshares\", \"BitcoinDark\", \"PayCoin\", \"ProsperCoin\", \"KoboCoin\", \"Spreadcoin\", \"Argentum\", \"Aurora Coin\", \"BlueCoin\", \"MoonCoin\", \"ZetaCoin\", \"SexCoin\", \"Quatloo\", \"EnergyCoin\", \"QuarkCoin\", \"Riecoin\", \"Digitalcoin \", \"BitBar\", \"Catcoin\", \"CryptoBullion\", \"CannaCoin\", \"CryptCoin\", \"CasinoCoin\", \"Diamond\", \"DevCoin\", \"EarthCoin\", \"E-Gulden\", \"Einsteinium\", \"Emerald\", \"Exclusive Coin\", \"FlutterCoin\", \"Franko\", \"FeatherCoin\", \"GrandCoin\", \"GlobalCoin\", \"GoldCoin\", \"HoboNickels\", \"HyperStake\", \"Infinite Coin\", \"IOCoin\", \"IXcoin\", \"KrugerCoin\", \"LuckyCoin\", \"Litebar \", \"MaxCoin\", \"MegaCoin\", \"MediterraneanCoin\", \"MintCoin\", \"MinCoin\", \"MazaCoin\", \"Nautilus Coin\", \"NavCoin\", \"NobleCoin\", \"Namecoin\", \"NyanCoin\", \"OpalCoin\", \"Orbitcoin\", \"PotCoin\", \"PhoenixCoin\", \"Reddcoin\", \"RonPaulCoin\", \"StableCoin\", \"SmartCoin\", \"SuperCoin\", \"SyncCoin\", \"SysCoin\", \"TigerCoin\", \"TittieCoin\", \"TorCoin\", \"TerraCoin\", \"UnbreakableCoin\", \"Unobtanium\", \"UroCoin\", \"UnitaryStatus Dollar\", \"UltraCoin\", \"ViaCoin\", \"VeriCoin\", \"Vertcoin\", \"WorldCoin\", \"X11 Coin\", \"JouleCoin\", \"StealthCoin\", \"ZCC Coin\", \"ByteCoin\", \"DigitalNote \", \"BurstCoin\", \"StorjCoin\", \"MonaCoin\", \"Neutron\", \"FairCoin\", \"Gulden\", \"RubyCoin\", \"PesetaCoin\", \"Kore\", \"Wild Beast Coin\", \"Dnotes\", \"Flo\", \"8BIT Coin\", \"Sativa Coin\", \"ArtByte\", \"Folding Coin\", \"Ucoin\", \"CypherPunkCoin\", \"OmniCron\", \"Vtorrent\", \"GreenCoin\", \"Cryptonite\", \"MasterCoin\", \"SoonCoin\", \"1Credit\", \"IslaCoin\", \"Nexus\", \"MarsCoin \", \"Crypto\", \"Anarchists Prime\", \"Droidz\", \"BowsCoin\", \"Squall Coin\", \"Song Coin\", \"BitZeny\", \"Diggits\", \"Expanse\", \"Paycon\", \"Siacoin\", \"Emercoin\", \"EverGreenCoin\", \"MindCoin\", \"I0coin\", \"Decred\", \"Revolution VR\", \"HOdlcoin\", \"EDRCoin\", \"Hitcoin\", \"Gamecredits\", \"DubaiCoin\", \"CarpeDiemCoin\", \"PWR Coin\", \"BillaryCoin\", \"GPU Coin\", \"Adzcoin\", \"SoilCoin\", \"YoCoin\", \"SibCoin\", \"EuropeCoin\", \"ZeitCoin\", \"SwingCoin\", \"SafeExchangeCoin\", \"Nebuchadnezzar\", \"Francs\", \"BolivarCoin\", \"Ratecoin\", \"Revenu\", \"Clockcoin\", \"VIP Tokens\", \"BitSend\", \"Omni\", \"Let it Ride\", \"PutinCoin\", \"iBankCoin\", \"Frankywillcoin\", \"MudraCoin\", \"PizzaCoin\", \"Lutetium Coin\", \"Komodo\", \"GoldBlocks\", \"CarterCoin\", \"Karbo\", \"BitTokens\", \"ZayedCoin\", \"MustangCoin\", \"ZoneCoin\", \"RootCoin\", \"DopeCoin\", \"BitCurrency\", \"DollarCoin\", \"Swiscoin\", \"Shilling\", \"BuzzCoin\", \"Opair\", \"PesoBit\", \"Halloween Coin\", \"ZCoin\", \"CoffeeCoin\", \"RoyalCoin\", \"GanjaCoin V2\", \"TeamUP\", \"LanaCoin\", \"Elementrem\", \"ZClassic\", \"ARK\", \"InsaneCoin\", \"KiloCoin\", \"ArtexCoin\", \"EmberCoin\", \"XenixCoin\", \"FreeCoin\", \"PLNCoin\", \"AquariusCoin\", \"Kurrent\", \"Creatio\", \"Eternity\", \"Eurocoin\", \"BitcoinFast\", \"Stakenet\", \"BitConnect Coin\", \"MoneyCoin\", \"Enigma\", \"Cannabis Industry Coin\", \"Russiacoin\", \"PandaCoin\", \"GameUnits\", \"GAKHcoin\", \"Allsafe\", \"LiteCreed\", \"OsmiumCoin\", \"Bikercoins\", \"HexxCoin\", \"Klingon Empire Darsek\", \"Internet of People\", \"KushCoin\", \"Printerium\", \"PacCoin\", \"Impeach\", \"Citadel\", \"Zilbercoin\", \"FirstCoin\", \"BeaverCoin\", \"FindCoin\", \"VaultCoin\", \"Zero\", \"OpenChat\", \"Canada eCoin\", \"Zoin\", \"RenosCoin\", \"DubaiCoin\", \"VirtacoinPlus\", \"TajCoin\", \"Impact\", \"EB3coin\", \"Atmos\", \"HappyCoin\", \"Coinonat\", \"MacronCoin\", \"Condensate\", \"Independent Money System\", \"ArgusCoin\", \"LomoCoin\", \"ProCurrency\", \"GoldReserve\", \"BenjiRolls\", \"GrowthCoin\", \"ILCoin\", \"Phreak\", \"Degas Coin\", \"HTML5 Coin\", \"Ultimate Secure Cash\", \"EquiTrader\", \"QTUM\", \"Quantum Resistant Ledger\", \"Espers\", \"Dynamic\", \"Nano\", \"ChanCoin\", \"Dinastycoin\", \"Denarius\", \"DigitalPrice\", \"Virta Unique Coin\", \"Bitcoin Planet\", \"Unify\", \"BritCoin\", \"SocialCoin\", \"ArcticCoin\", \"DAS\", \"Linda\", \"LeviarCoin\", \"DeepOnion\", \"Bitcore\", \"gCn Coin\", \"SmartCash\", \"Signatum\", \"Onix\", \"Cream\", \"Bitcoin Cash\", \"Monoeci\", \"Draftcoin\", \"Vechain\", \"Sojourn Coin\", \"Stakecoin\", \"NewYorkCoin\", \"FrazCoin\", \"Kronecoin\", \"AdCoin\", \"Linx\", \"CoinonatX\", \"Ethereum Dark\", \"Sumokoin\", \"Obsidian\", \"Cardano\", \"Regalcoin\", \"BitcoinZ\", \"TrezarCoin\", \"Elements\", \"TerraNovaCoin\", \"VIVO Coin\", \"Rupee\", \"Bitcoin Gold\", \"WomenCoin\", \"Theresa May Coin\", \"NamoCoin\", \"LUXCoin\", \"Pirl\", \"Xios\", \"Bitcloud 2.0\", \"eBoost\", \"KekCoin\", \"BlackholeCoin\", \"Infinity Economics\", \"Pura\", \"Innova\", \"Ellaism\", \"GoByte\", \"Magnet\", \"Lamden Tau\", \"Electra\", \"Bitcoin Diamond\", \"Cash & Back Coin\", \"UltraNote\", \"BitCoal\", \"DaxxCoin\", \"Bulwark\", \"Kalkulus\", \"AC3\", \"Lethean\", \"GermanCoin\", \"LiteCoin Ultra\", \"PopularCoin\", \"PhantomX\", \"Photon\", \"Sucre\", \"SparksPay\", \"Digiwage\", \"GunCoin\", \"IrishCoin\", \"Trollcoin\", \"Litecoin Plus\", \"Monkey Project\", \"Pioneer Coin\", \"UnitedBitcoin\", \"Interzone\", \"TokenPay\", \"1717 Masonic Commemorative Token\", \"My Big Coin\", \"TurtleCoin\", \"MUNcoin\", \"Unified Society USDEX\", \"Niobio Cash\", \"ShareChain\", \"Travelflex\", \"KREDS\", \"Tokyo Coin\", \"BiblePay\", \"LitecoinCash\", \"BitFlip\", \"LottoCoin\", \"Crypto Improvement Fund\", \"Stipend\", \"Poa Network\", \"Pushi\", \"Ellerium\", \"Velox\", \"Ontology\", \"Callisto Network\", \"BitTube\", \"Poseidon\", \"Aidos Kuneen\", \"Bitspace\", \"Briacoin\", \"Ignition\", \"Bitrolium\", \"MedicCoin\", \"Alpenschillling\", \"Bitcoin Green\", \"Deviant Coin\", \"Abjcoin\", \"Semux\", \"FuturoCoin\", \"Carebit\", \"Zealium\", \"Monero Classic\", \"Proton\", \"iDealCash\", \"Jumpcoin\", \"Infinex\", \"Bitcoin Incognito\", \"KEYCO\", \"HollyWoodCoin\", \"GINcoin\", \"PlatinCoin\", \"Loki\", \"Newton Coin\", \"Swisscoin\", \"Xt3ch\", \"MassGrid\", \"TheVig\", \"PluraCoin\", \"EmaratCoin\", \"Dekado\", \"Lynx\", \"Poseidon Quark\", \"BitcoinWSpectrum\", \"Muse\", \"Motion\", \"PlusOneCoin\", \"Axe\", \"Trivechain\", \"Dystem\", \"Giant\", \"Peony Coin\", \"Absolute Coin\", \"Vitae\", \"HexCoin\", \"TPCash\", \"Webchain\", \"Ryo\", \"Urals Coin\", \"Qwertycoin\", \"ARENON\", \"EUNO\", \"MMOCoin\", \"Ketan\", \"Project Pai\", \"XDNA\", \"PAXEX\", \"Azart\", \"ThunderStake\", \"Kcash\", \"Xchange\", \"Acute Angle Cloud\", \"CrypticCoin\", \"Bettex coin\", \"Actinium\", \"Bitcoin SV\", \"BitMoney\", \"Junson Ming Chan Coin\", \"FREDEnergy\", \"HerbCoin\", \"Universal Molecule\", \"Lithium\", \"PirateCash\", \"Exosis\", \"Block-Logic\", \"Oduwa\", \"Beam\", \"Galilel\", \"Bithereum\", \"Crypto Sports\", \"Credit\", \"SLICE\", \"Dash Platinum\", \"Nasdacoin\", \"Beetle Coin\", \"Titan Coin\", \"Award\", \"BLAST\", \"Bitcoin Rhodium\", \"GlobalToken\", \"Insane Coin\", \"ALAX\", \"LiteDoge\", \"SolarCoin\", \"TruckCoin\", \"UFO Coin\", \"OrangeCoin\", \"BlakeCoin\", \"BitstarCoin\", \"NeosCoin\", \"HyperCoin\", \"PinkCoin\", \"Crypto Escudo\", \"AudioCoin\", \"IncaKoin\", \"Piggy Coin\", \"Crown Coin\", \"Genstake\", \"SmileyCoin\", \"XiaoMiCoin\", \"Groestlcoin\", \"CapriCoin\", \" ClubCoin\", \"Radium\", \"Bata\", \"Pakcoin\", \"Creditbit \", \"OKCash\", \"Lisk\", \"HiCoin\", \"WhiteCoin\", \"FriendshipCoin\", \"Fiii\", \"Triangles Coin\", \"Vollar\", \"EOS\", \"Reality Clash\", \"Oxycoin\", \"TigerCash\", \"Waves\", \"Particl\", \"BitTorrent\", \"Nxt\", \"ZEPHYR\", \"Gapcoin\", \"Beldex\", \"Horizen\", \"BitcoinPlus\"], \"legendgroup\": \"\", \"marker\": {\"color\": [3, 3, 3, 0, 0, 0, 3, 0, 0, 0, 3, 3, 3, 0, 3, 0, 0, 3, 3, 0, 0, 0, 0, 3, 0, 0, 0, 3, 0, 3, 0, 0, 3, 3, 0, 0, 0, 0, 0, 3, 3, 0, 0, 0, 0, 0, 3, 3, 0, 3, 0, 0, 0, 0, 3, 0, 0, 3, 0, 3, 3, 3, 0, 0, 0, 3, 3, 3, 3, 3, 0, 0, 0, 3, 3, 0, 0, 3, 3, 0, 0, 0, 0, 3, 3, 0, 3, 0, 0, 3, 0, 3, 3, 0, 0, 3, 3, 0, 3, 3, 0, 3, 0, 3, 0, 3, 0, 3, 3, 0, 0, 3, 0, 0, 3, 0, 0, 0, 0, 0, 3, 3, 0, 0, 0, 3, 0, 3, 0, 0, 3, 0, 3, 0, 3, 3, 0, 0, 3, 0, 0, 3, 3, 0, 3, 0, 3, 3, 3, 0, 0, 0, 0, 3, 3, 3, 3, 3, 0, 0, 3, 3, 3, 3, 3, 0, 3, 3, 3, 3, 3, 0, 3, 0, 3, 3, 0, 3, 0, 3, 3, 3, 0, 3, 0, 3, 0, 3, 3, 3, 3, 0, 3, 3, 3, 3, 3, 0, 0, 3, 3, 0, 0, 3, 3, 3, 3, 3, 0, 3, 3, 3, 3, 3, 3, 3, 3, 0, 3, 3, 3, 3, 3, 3, 0, 0, 0, 3, 3, 3, 3, 0, 3, 0, 3, 3, 0, 3, 0, 0, 3, 0, 0, 3, 0, 3, 3, 3, 0, 3, 3, 0, 3, 3, 3, 3, 3, 3, 3, 0, 3, 0, 3, 3, 3, 3, 0, 3, 0, 3, 0, 0, 0, 0, 3, 0, 3, 3, 0, 3, 0, 0, 0, 3, 0, 3, 0, 0, 0, 3, 0, 3, 0, 3, 3, 1, 0, 3, 0, 0, 0, 0, 0, 3, 3, 0, 3, 3, 3, 0, 3, 0, 3, 0, 3, 0, 3, 3, 3, 3, 0, 3, 3, 0, 3, 3, 3, 0, 0, 0, 0, 3, 3, 3, 3, 3, 0, 0, 0, 3, 3, 0, 0, 3, 3, 0, 3, 0, 0, 0, 3, 0, 0, 3, 3, 3, 0, 0, 0, 3, 0, 3, 0, 0, 3, 0, 0, 0, 0, 3, 3, 1, 0, 0, 0, 3, 1, 3, 3, 3, 3, 0, 0, 0, 0, 3, 3, 3, 0, 3, 0, 3, 3, 3, 3, 0, 3, 3, 0, 3, 3, 0, 0, 3, 0, 3, 0, 0, 0, 0, 3, 3, 0, 3, 0, 3, 3, 3, 3, 3, 3, 0, 0, 0, 3, 3, 3, 3, 3, 3, 0, 3, 0, 0, 0, 0, 3, 3, 3, 3, 0, 3, 3, 0, 3, 3, 0, 3, 0, 3, 0, 0, 3, 3, 0, 3, 0, 0, 0, 0, 0, 3, 0, 3, 0, 3, 3, 0, 3, 3, 3, 3, 3, 0, 0, 0, 3, 3, 3, 0, 3, 0, 3, 0, 3, 3, 3, 3, 0, 3, 3, 3, 0, 3, 0, 3, 0, 3, 3, 3, 0, 0, 3, 3, 3, 3, 3, 3, 1, 3, 0, 3, 0, 3, 3, 1, 3, 2, 3, 3, 3, 0, 0, 3], \"coloraxis\": \"coloraxis\", \"symbol\": \"circle\"}, \"mode\": \"markers\", \"name\": \"\", \"scene\": \"scene\", \"showlegend\": false, \"type\": \"scatter3d\", \"x\": [-0.33596617719550304, -0.3194399868199995, 2.288745259762522, -0.1375005252605947, -0.14466202868601594, -0.1645852784251821, -0.38724742953588726, -0.14361453475725527, -0.14311691580059233, -0.1477889070982265, -0.2408313691800414, -0.30772159839855506, -0.27350171961882297, -0.1657221570927415, -0.23478428610666244, -0.2172093301270107, -0.16534185299491988, -0.3356285408203378, -0.3282664739742179, 2.5336546541165137, -0.13460925512469962, -0.16261970701845482, -0.1651475113293681, -0.33447497323822195, -0.2294917430178921, -0.1901500461200436, -0.16519582890214224, -0.33596214694911375, -0.16570456686749854, -0.33594655638380605, -0.1657903125752572, -0.217297945999041, 0.6589732129263295, -0.3612966394576929, 0.2372595612099484, 0.08090855220997574, -0.16553867293655541, -0.1611799245496812, -0.16547847112550704, -0.37205247610922676, -0.2915860674852815, -0.16584685132909727, -0.1610526322133583, -0.1452391959553046, -0.16465179016276665, -0.1649269912763946, -0.3340408690325337, -0.3330152510601182, 1.568783461168508, -0.3871429819069545, -0.13746220784151597, -0.1622385724853717, -0.16556489907246802, -0.1659168156712463, -0.4261293021355535, -0.16518211596130486, -0.14717724034632412, -0.04378161650577846, -0.165799054268552, -0.2713288915598684, -0.30149943877191904, -0.27384574085586383, -0.03181614369880079, -0.13753918925027528, -0.15951469773498608, -0.27446289038589355, -0.33590427052675337, -0.3303152212014361, -0.3343810227642614, 0.019263127258104664, -0.1657786746306916, -0.1638887140996617, -0.1652696120393905, -0.35274015267693587, -0.3875115085714511, -0.12479638811206238, -0.13700733327575598, -0.3280886584707408, -0.3874238775749832, -0.13729220443241716, -0.13727536978851798, -0.13786119851450188, -0.2174704106163382, -0.3114013881731905, -0.33465443703312175, -0.1654974644994058, -0.2980474457444153, -0.17630678688496149, -0.16262440001518552, -0.3873886375964111, -0.1370740802945927, -0.2742455356856261, -0.3271427231936532, 3.834315405437112, 0.4610488672532773, 0.019409348093650386, -0.375247829117582, -0.16437433016012046, -0.3069397728355335, -0.36072290112838923, -0.14909983709911537, -0.3014798411727564, -0.16310360203299357, -0.27453767715739813, -0.1659190085031491, -0.29617788861318634, -0.1629697282919302, -0.33594839154052736, -0.2744902492368875, -0.14930598075126933, -0.12713894500189976, -0.3531814016925071, -0.17753865082642956, -0.16579311582454725, -0.3356849547322701, -0.03977227665782563, -0.12039384815684122, -0.16592782671446693, -0.13756674161810245, 0.48083919160473026, -0.38749318766303475, -0.4483161054088948, -0.21686260107409935, -0.14112920630623907, -0.13730874923979727, -0.41199545695447576, -0.21714517711868506, -0.355490499482951, -0.16406705263131954, -0.16326588650720072, -0.2998944850415633, -0.145720853583846, -0.2740158197563658, 0.3816071653482447, -0.3003399127459167, -0.23720552813979306, -0.2171802813436881, -0.13746332109558115, -0.08182076301559206, -0.1619186874893684, -0.15172719872102772, -0.3076927488618267, -0.06761278547465038, -0.1645029179963509, -0.3077559128555174, 0.2776041120061612, -0.23482097221875758, -0.3355618682358514, -0.29976472682362537, -0.21634788269691485, -0.1478466772824028, -0.16474843372420978, -0.1435534262937489, -0.3846858261692913, 0.8421762485295244, -0.30755763363179484, -0.065812453759609, -0.3717383470786341, -0.1657194630779192, -0.21714383289374342, -0.3853538053912293, -0.3063115937932477, -0.3039991181739055, -0.35519288468322535, -0.3862388164325041, -0.1659278847317636, -0.3724957596929231, -0.31205320208094806, -0.33559965867597574, -0.33405141573490205, -0.2390229899973216, -0.217292588458192, -0.34077461109077967, -0.2731080495336538, -0.386971426057168, -0.3348104056922659, 0.30722193563903377, -0.3077370312173313, -0.13772128534421363, -0.38748247042130957, -0.33578725709587665, -0.3359426715323786, -0.16311778576580072, -0.299754148109856, -0.1376802513420147, -0.2604241386449512, -0.16559404632043329, 0.038839260714150066, -0.3707039658042024, -0.3355599659466794, -0.37375901702856335, -0.14515592994618928, -0.37003802703823585, -0.2404417444310756, -0.4163168878388787, -0.3697892946419405, -0.27311539721488376, -0.14546511084226066, -0.14781034896466563, 3.7092964441245164, -0.38707835632082394, -0.09325912553778463, -0.20398518177311653, 0.8484691063487364, -0.38743774781679186, -0.37116391839919394, -0.33548815232296164, -0.33564122728808854, -0.21513857220171329, -0.3717383470786341, -0.387016171729585, -0.30760081976743925, -0.33548887609082667, -0.3588816591165514, -0.33563506271174787, -0.33125965872209373, -0.3874665071778309, 0.30721633259769815, -0.3348523118400421, 0.33650528452932416, -0.33583270185784275, -0.33590268852315025, -0.3700100241589016, -0.346721762135798, -0.16590977299276694, 0.30734598461941043, -0.14166520706813904, -0.33216068250625264, -0.3077136367092926, -0.3873771957270793, -0.33568232517746144, 0.49204116178608825, -0.33580824808531495, -0.14238946263450122, -0.3013871720911671, -0.298691157761772, -0.16587831787717303, -0.24021149948679169, -0.21008665188735884, -0.14782261888285714, -0.3168185553516965, -0.16402682346927175, -0.1413858821022587, -0.3011303851476713, -0.14321063907940682, -0.38664901182598455, -0.4184792261505734, -0.3853976526925254, -0.13704223449440198, -0.3699992586503487, -0.38654772741160986, -0.18634842863111709, -0.3644450267466214, -0.3825221605870584, -0.3357519950056432, -0.3357511997282277, -0.3289299256880532, 0.2547479260575137, -0.387022249116883, -0.16544427876396575, -0.28417257703807675, -0.10432219476624276, -0.3717723734685636, -0.33496919436462014, 0.8878458501411416, -0.27220298705852597, -0.1652678277741267, -0.3712841181822212, -0.14224825902526794, 0.5824693824874247, -0.14335511595760872, -0.015452216856347305, -0.1349872319035842, 0.3430433228489727, -0.35671595808318607, -0.21635622671341004, -0.35523048708480387, -0.4011848033239839, -0.16558444090563826, -0.2741779261515682, -0.16534980357875198, -0.21674766199116444, -0.21732038681560645, 0.1251448108313687, 0.3076080810268492, -0.27424811072650546, -0.1416632108050739, 3.2159076065202976, -0.10489762907886567, -0.3795621062105025, -0.20826773729411993, -0.4006937149393847, -0.13749969625096536, -0.3872923847611474, -0.3014607293400361, 4.363783132971874, -0.09211677592942795, -0.3716397701358645, 1.566933486152396, -0.16568149633306528, -0.16513765741321315, -0.16484107443833768, -0.16482811127409003, -0.3353901875269809, -0.3358857579845811, 0.3077901624537629, -0.29841943912293356, 0.6275392151906513, -0.3872337129952457, 0.06275868756444397, -0.3309446146530617, -0.17207902983268267, -0.3358417468483645, -0.16570301414798444, -0.3129274332320994, -0.14766992236851062, 0.4269928812329275, -0.30607344195374375, -0.34160798908115353, -0.3975510043240685, -0.14661597584211208, -0.3357924952423418, -0.4026216723671302, -0.16402504713684252, -0.3522860423895494, -0.33566394157848595, -0.10140634594731184, -0.21290130661059026, -0.16554969973065628, -0.14384385603505567, -0.16564907747047583, -0.3860363132231259, 3.7141125526592442, 0.19819368921992314, -0.27094624537491824, -0.3331450816956728, 1.138269404634839, 0.30719925178021257, -0.06935307945574176, -0.3223245043046449, -0.3698968612776521, -0.21264520769122885, -0.1314496014380497, 0.07505825790446373, -0.3348096274498584, -0.08275279289024332, -0.3866126248496213, 1.0852593786289857, -0.21729459717812272, -0.16570058560331352, -0.3690685002606321, -0.15879543296798582, -0.16493861823184083, -0.32247732754594366, -0.3359077092911411, -0.3531535605415609, -0.2172206128290495, -0.13747925963896052, -0.19124052363165292, -0.3727753743305661, -0.2818054621899182, -0.2963888827755618, 7.981168626031987, -0.1471473614937195, -0.33148944012169007, 0.3110419081540154, 0.025536538234613573, -0.14612315159622993, -0.16198305287656575, -0.23207483010011962, -0.2365748625552882, -0.3358809298070697, -0.16550766576782075, 0.13905878268988894, -0.21140955916789492, -0.3613008007886138, -0.4283900752007894, -0.38730950653285184, -0.3160240221679837, -0.3006276604803293, -0.3340221326868718, -0.09727019990167127, 0.3150570286093417, -0.16574273367296885, -0.1261277964168385, -0.3563182234145142, -0.335934840462704, -0.33591670237055365, -0.14666924634231593, -0.29505518987961943, -0.14295772953213196, -0.38177864222678815, -0.37123755450598017, -0.33563554590531175, 3.898637739520077, -0.21639666880024794, -0.40130053275544403, -0.3714246804381317, 0.307380284704844, -0.3329865889795514, -0.2829430900885804, -0.18640737631643364, -0.14151171868737336, -0.28415409881830195, -0.1441538745180926, -0.3011574352553419, -0.14523960996473867, 0.3112759872287031, 0.5784536689263198, 2.100995884296578, -0.1406604269900383, -0.3014074628042453, -0.1458142982017838, -0.3378912786197791, 0.32087384131730246, -0.3351139132715132, -0.20239774901047933, 2.2101727899363217, -0.3656403854418163, -0.2723295662435811, 1.0091051351676625, -0.19723309032690134, -0.13640916293403055, -0.21727690334884178, -0.36648550949866043, -0.37000947097669024, -0.4042919145966361, -0.18312695287494962, -0.3470132646531744, -0.36873950289242236, -0.16576711765285307, -0.3288705042092295, -0.13133133763421853, -0.13927066329670953, -0.1447693984499142, 3.080354613598796, -0.3527344416031349, -0.38678715324817153, -0.29867557594737043, -0.3705319380208223, -0.09765538303646709, -0.3346006864752762, -0.3525969951673252, -0.2172485056830108, -0.19657877488461328, -0.20058344613598972, -0.19666554158743818, -0.357159656278432, -0.04327787031361565, -0.2818602280495762, -0.14464232861059356, -0.1374997335120596, 0.5067681870515162, -0.14481456942142684, 0.3864847151554041, -0.40359233276151185, -0.12301530340708304, -0.12340405721133556, -0.28299410005277453, -0.14373525006231155, -0.16466850495685903, -0.3356394780278345, -0.14574602895512775, -0.4040447043849346, -0.14750410738150793, -0.37012548812912077, 0.5634206569336059, -0.17675613500771958, -0.3532074324041389, -0.33512667063976637, -0.31052519867508127, -0.29298449846970376, -0.38437199495509317, -0.13678179135192853, -0.10459111245819491, -0.13565902483693826, -0.38701252054364177, 3.7262541614968536, 0.09571612524231007, 0.5243956095032364, -0.38457215535422756, -0.09147718652824587, -0.3345172781161106, -0.07427906265261376, -0.3353354123126809, -0.27353409271497986, -0.3358494726171115, -0.3787089489794399, -0.14945534684633652, -0.2502651883920959, -0.08917279813890906, -0.37449241006207257, -0.1372915799839108, -0.33513367935269295, 0.5440518832733094, -0.3282548243543282, -0.18971462773436298, -0.3836092316446755, -0.3335857162915893, -0.3720117241150615, -0.16584331328958007, -0.16381579656604528, -0.37561851598710694, -0.3062488281050182, 3.709685034752284, -0.11026793973702477, -0.3308034603760345, -0.3355332300523403, -0.5654141611625982, -0.27464399706766945, -0.12520262731205278, 3.7194729147004417, -0.1454979987020214, 3.720706926535549, -0.25458732701018805, -0.3837656432148696, -0.3719481120951467, 33.790212278532714, -0.3707703181242776, 2.462909293704949, -0.3340277037079872, 0.32877845970587394, -0.14778995548304086, -0.3018006621194932], \"y\": [1.0312223227694755, 1.0312178693280856, 1.60527292895326, -1.3259894097856517, -2.0803504631792338, -1.1325541630519267, 1.202156313217946, -2.2674537965496544, -2.0804701298413146, -2.02556932531767, 1.8484221710314124, 0.8377512969036777, 0.547112130103103, -1.1325342106438185, 1.9001551638431782, -0.9615879829446725, -1.1325571998364925, 1.0312178418973978, 1.0314046836264876, -1.3543211728636233, -1.3260316515766504, -1.1326311310482169, -1.1325793846779748, 1.0312576406795115, -0.4877673587262735, -1.2347735374690227, -1.132541959277799, 1.0312220462028583, -1.1325337940345142, 1.031222043401163, -1.1325299762093515, -0.9615885935320063, 0.3163275247636305, 0.9290052385407652, -1.3327240471625306, -1.1367227200506647, -1.1325298649799305, -1.1326340816886165, -1.1325366242691361, 1.3121588947477287, 0.3136128710873821, -1.1325298983724272, -1.6385458994914517, -1.1330905410817764, -1.1325453209032064, -1.132553509832947, 1.0311786298759504, 0.9120004217340344, -1.1588539170724224, 1.2021587869698993, -1.3259885022706364, -1.1326335788470443, -1.1325297420217677, -1.1325241993686288, 2.0198367597109015, -1.1325370463684197, -2.1968146749791826, 0.7466857578963214, -1.132527846769919, 0.8368294665010911, 0.740569894129749, 1.7783465716811577, -1.140508659526864, -1.325990325508866, -1.1326223284186363, 1.7783319550271548, 0.525333093220346, 1.031043638161927, 1.0311869438626644, 1.0396356223048118, -1.1325355492129288, -1.13266118638575, -1.1325459643718567, 0.9115332544623302, 1.202166428224086, -1.3263336593125588, -1.3259970845050455, 1.5598466079644062, 1.2021610634171247, -1.3260001020193397, -1.3260279791645533, -1.325982511913047, -0.9615792843795713, 1.030613556134957, 1.0311789800785531, -1.1325303771967778, 0.35603128127452466, -1.288599655872493, -1.1326427168391096, 1.2021652465026178, -1.3259971682420582, 1.7783371028856476, 1.0306871971353175, -2.422365389794516, -2.3724368019641298, 0.510972165090615, 1.4306253292764495, -1.132564882349236, 0.8377355850957084, 0.9290220862027706, -1.1333749898259404, 0.74058239784519, -1.1325803743763037, 1.7783212545483116, -1.1325252022657517, 0.7403359192365531, -1.13257245185973, 1.031222744038619, 1.7783238660407945, -1.1328738831005987, -2.133667946696637, 0.9115079218290343, -1.5265874958182584, -1.132522773724528, 1.0312141012808977, -1.1369765858767458, -2.2071503849994385, -1.1325239165731258, -1.3259909780629204, -1.185662680355548, 1.2021668628830917, 2.200946244018382, -0.9615894442865515, -2.2262919520870112, -1.3260092445031528, 1.9011132873812637, -0.9615872076375943, 0.7396378426914021, -1.1326358247019928, -1.132646435251739, 0.7405455354810969, -2.0803881206095007, 1.7783053384312528, -2.187249028265039, 0.837198394433486, 1.900338685977933, -0.9615843185430745, -1.3259885286370987, 0.9863641505308856, -1.1325847639433253, -2.2326106972688, 0.8377519801800575, 1.1899870577636782, -1.1325522124162453, 0.8377590413633029, -1.3322345372194022, 1.5431840101521308, 1.0312006462440508, 0.7404585332403619, -0.9616152028054905, -2.2102845346613402, -1.1326207931781715, -2.1831743283923366, 1.2019476178187518, 0.6940028510259846, 0.8377417864396186, 0.32732771817109796, 1.3121514525915452, -1.1325334027368439, -0.9615901522070209, 1.2021617246889647, 0.8376353318605387, 0.8374651775512376, 1.5402661361491523, 1.2020931414664902, -1.132523915692588, 1.3276750867390625, 1.0303004778616511, 1.0311980149733682, 1.0311932621175786, 1.4875657941089528, -0.9615936753541849, 0.9113277732642445, -1.2815453099352847, 1.2021420152785043, 1.031182727111052, -2.3686464855126377, 0.8377516754922428, -1.3259862567377414, 1.2021648844070374, 1.031210934236147, 1.031222879512076, -1.1326057225355644, 0.7406232693960678, -1.325985956284161, 0.36797525420240057, -1.1325378733647664, 1.9203822516153846, 1.3121357695351696, 1.031231943563588, 1.201375992523759, -2.186988490099193, 1.3121768412490098, 1.487679152100162, 1.9198125658627911, 1.3119885216784648, 1.9222906796400394, -2.080388983069434, -2.0255698331497722, 2.0488104404317853, 1.2021543647586646, -1.1382433757319603, -0.9616319491518049, 1.8042951439262171, 1.2021653086615434, 1.3121427343923133, 1.0312049667332215, 1.031198766693387, -0.961693711954513, 1.3121514525915452, 1.2021335145002838, 0.8377556456444383, 1.0312090719140385, 0.5837928417557815, 1.0312093301178773, 1.030849635633086, 1.2021637742795652, -2.3686548033329813, 1.0311415531159445, 0.7314981246091394, 1.0312158107286487, 1.0312213591913792, 1.3853935045587218, 0.6371198768075484, -1.1325250477362059, -2.3686547090429744, -2.2262631340454675, 1.030940401878916, 0.8377522295709755, 1.2021626497260118, 1.0312141635596348, -1.0191852709718723, 1.0312097425881377, -2.267562440562034, 0.7405436670466896, 0.28554504373949113, -1.1325247832257337, 1.487675657634498, -0.962148507985028, -2.0255671473459604, 1.030931716140636, -1.13255284215319, -2.2262647035926046, 0.7405650576545436, -2.235266674446904, 1.202112446303389, 1.911580482744993, 1.2021346426489243, -1.1348157315301737, 1.3121254564480442, 1.202114845137332, -0.6234768538774795, 1.3120414299970273, 1.2019125465899734, 1.0312116115487555, 1.0312061330519358, 1.030644868786639, 0.5038249514439593, 1.202148252593782, -1.1325384339876885, 0.7395041023424485, -1.3270482374253445, 1.312143205690279, 1.0311678048150072, 1.8600349850350721, 0.5470033077673694, -1.1325613994254922, 1.3276543006689203, -2.2674995681517247, 1.835766907189042, -2.2798630063547267, -2.1969062416998772, -2.2933807177955905, -2.369278848972914, 1.5402895915948114, -0.9616273060512573, 1.5402429225219654, 1.920833559703955, -1.1325296667189737, 1.778316381112356, -1.1325655732563533, -0.9616068127956491, -0.9615897947147826, 1.004938260672583, -2.3686700804609586, 1.7783229797271636, -2.3831337378122703, -1.201247913708524, -1.1704523816335342, 1.3262034382871948, -0.9621798387185146, 1.9208451907085229, -1.325989390151261, 1.2021645443513558, 0.7405698987416857, 3.7901747248958664, -1.1385883709466538, 1.312122832702567, -1.0914821309266065, -1.1325325035272582, -1.1325672456715372, -1.1325721269846734, -1.1325718199633152, 1.031200060230531, 1.0312211022337914, -2.3686917288954414, 1.849669434759946, 1.3475721444342272, 1.2021529175745833, -2.0361931938434856, 0.5251557230288489, -0.9618436115050706, 1.0312135626285086, -1.6384261123925736, 0.5845255340607612, -2.025566507267034, 1.0306898106820421, 0.8377322921451034, 1.5397619299473517, 1.8513249438035164, -2.2103493715965223, 1.0312108101751691, 1.6759401710889084, -1.1325528000822898, 1.3352741549091687, 1.0312184770112685, 0.5445004477480868, -0.9617315046399512, -1.6384358751009684, -2.0805394339024996, -1.6384284066363972, 1.2020942170724458, 2.048645467721539, 1.5311165419482178, 1.7782589824019837, 1.0311328766856647, -2.4122050348883777, -2.368648883014155, -2.086007851296062, 1.2496342368419553, 1.3853924642161088, -0.9618742594697826, -2.267909396356465, 1.0037520038924752, 1.0311380994495365, -1.134274034516782, 1.2021505131754506, -1.2207210676766964, -0.9615898536008785, -1.6384215902652377, 1.3853376730760423, -1.6386144723309526, -1.1325476495691305, 1.030872103160737, 1.0312207311563517, 0.9115078371211083, -0.9615904824704082, -1.3259882855470428, -1.2146791602988998, 1.3276747891709328, -0.20728350508299812, 0.2816334715998192, -2.930989798527431, -2.256398559017024, 1.0311557188931952, -2.368798589868452, -1.1354298029591823, -2.21029580155201, -1.2890164177777688, 1.487283894344531, 2.236946929937721, 4.084440827016763, -1.132543268531512, -1.1389967733737452, -0.9618077891229742, 0.9490688217757229, 2.411325760651308, 1.2021526106731735, 1.4127751382929592, 0.7405103124161724, 1.3037745473065678, -2.0840646887456047, -2.3691975786405166, -1.1325346979823632, -2.2349945064220496, 1.5402692475348405, 1.0312208326795267, 1.0312197740614684, -2.0255792680953326, 0.7403625093871402, -2.187143734313709, 1.3431792815361079, 1.3121127145254485, 1.0312078304707375, 2.284854933496308, -0.9616282638871816, 1.675971461140434, 1.3121142354217084, -2.368648985604766, 0.49966852225498953, 1.0286668769728073, -0.6234579717468581, -2.2262716127797515, 0.9502719936416258, -2.213227332853552, 0.7405706871105762, -2.1869823612812263, -2.3689894891044943, -2.222702219179595, -2.4630697433745494, 1.0282581350429967, 0.7405513715958058, -2.257324546043383, 1.926267334935049, -2.3690598124515856, 1.0311800034053238, 1.6096589733674724, 0.34742266609757183, 1.3850244911909277, 0.5470745875506724, 1.6929269298523437, -1.3734155012221638, -2.2197531403499586, -0.9615903274596724, 0.790303894837777, 1.385389053051014, 1.6760456002877522, 0.7308250495541202, 0.8751537377277273, 1.3853603471259472, -1.1325360979238037, 1.0306462761330826, -2.268465057354024, -2.193872290144241, -0.7510534489781944, -2.300599653786788, 0.9114924641384625, 1.202146379620953, 0.7404553480416699, 1.3120386460527873, -1.3265926991197199, 0.9953284563171094, 0.9114622348685391, -0.9615926312916996, 1.0211297650751296, 2.7776168298922888, -1.3734600429131603, 2.6387247073487967, -2.028733617319593, 1.122135015226363, -2.1870229066523774, -1.3259893910337577, 0.9276920044260075, 0.9164577924566837, -2.3727741145633368, 1.6760258206627257, -2.2804324328226095, -2.2803821929534513, -0.15251776221682084, -2.140404649345315, -1.1325829218566084, 1.0312144342558367, -2.0257008652687722, 1.6760411233988706, -2.025569936270178, 1.385391982779776, 0.9968647271915153, -1.526643372762282, 0.9115075285445621, 1.0311797012580666, 1.4125779684959887, 1.9236848156301622, 1.2019282629841062, -1.3260043835603166, -0.3854193311325989, -1.3260551783664776, 1.2021559240222288, 2.0485609804690483, 1.0154027910308332, -1.1891701036952635, 1.202236045012401, -1.6396244532164181, 1.0311078184132725, -2.2844086479741135, 1.0311968898599035, 0.5471050385110113, 1.0312250868479502, 1.2020028592160013, -1.1328774207076537, 1.025439010393304, 0.8428024275628269, 1.2017306735219881, -1.3260000872298159, 1.031230878270292, -1.152913276847105, 1.0311073189142475, -1.2347788510930653, 1.2021040779052492, 1.0311596457134684, 1.3121531630095131, -1.1325251744988423, -1.1326088604909126, 0.5232273220615181, 0.8377244177676801, 2.048793661029578, 0.7376634965143822, 1.0311213668254695, 0.5252999150461697, 2.2212967598643187, 1.7783275763795092, -2.2134560083412484, 2.049144474049647, -2.0803884839248927, 2.049173700554978, 0.5468253008793383, 3.7236444446625456, 1.3121549418423022, 1.4570862764185726, 1.1711061622481567, 0.9024541292690677, 1.031082208482685, -2.369170404654819, -2.02556935014776, 0.7405740553763845], \"z\": [-0.5402358193632013, -0.5407354249508093, -0.6793959164952523, 0.2231030973267869, 0.38565128786306746, 0.020755439166614393, -0.4976042208487675, 0.44267849311409363, 0.385624926937145, 0.4582453815546754, -0.09536388777054365, -0.3379171718198364, -0.06472306640558172, 0.020786455784345407, -0.6252603615692249, 0.0634222007462318, 0.020778864285782694, -0.5402452773788704, -0.5405000634216028, -0.023095831437145435, 0.22302276637407753, 0.02070906160330622, 0.020776765935822082, -0.540286995597839, 0.08390211834511717, 0.10682650541287741, 0.020771842353679678, -0.5402358941924592, 0.020785852110115573, -0.5402363657518725, 0.020787796746665893, 0.06342498797452503, -0.41162263654997905, -0.4541722380238385, 0.21290567867628402, 0.014033939581640368, 0.020780158840721808, 0.020665972643269474, 0.020779489549383738, -0.17261258478248057, -0.30366256918089024, 0.020789495295076687, 0.2568007048470623, 0.02026122621842184, 0.020755944072497146, 0.02076567378041957, -0.5402866561384326, -0.22509849941456161, -0.027238033735111244, -0.49760780535897603, 0.22310178232155023, 0.020697939652359495, 0.020780931910412293, 0.020790641101392508, -0.8017955793122624, 0.0207705887963097, 0.46973572782788053, -0.2758935285049795, 0.020787698039436142, -0.3388617316113397, -0.26704692506810035, -0.631342371473049, 0.018092975303232953, 0.22310442422590376, 0.0206135487110632, -0.6313211916835849, -0.3041029620671928, -0.5403764222352169, -0.5402777760105878, -0.5524268387467575, 0.020788395394596496, 0.020752612317518463, 0.02077475974879835, -0.2244215657977984, -0.497597951381071, 0.22277719741084645, 0.22308947455197475, -0.24202121489598655, -0.49759968911230146, 0.22309861455902089, 0.2231028619810944, 0.2231128403811835, 0.06342862113673445, -0.5408756869131809, -0.5402681388234182, 0.020778998575491706, -0.2749542835948195, 0.20886603791772895, 0.020711180764040497, -0.49760146990489235, 0.22309150974927786, -0.6313286510213412, -0.5404116510787365, 0.30156116853713055, 0.3951738650471197, -0.48626994045328453, -0.07031222588798448, 0.020750881465903204, -0.3379381620919105, -0.45419248415976665, 0.020426655412159614, -0.2670496521376265, 0.020715051124481257, -0.6313171013598594, 0.02079087863454493, -0.2671681194052943, 0.02070964586561439, -0.5402364297496658, -0.6313189829820535, 0.020347384930362693, 0.5298816824481516, -0.22440388313008847, 0.22339657140088615, 0.020786652544897883, -0.5402429310060467, 0.017731129474840155, 0.4419075460317285, 0.020790926226180964, 0.22310536978823783, 0.010276603591391603, -0.4975985802583989, -0.9043020900088272, 0.06341195215929502, 0.48493944116514653, 0.22310067561764432, -0.7190952753410054, 0.06342012607436273, -0.3239108935170594, 0.020753684022762973, 0.020731237664150172, -0.26709136174567566, 0.38568977213245237, -0.6313301856785557, 0.4767614944120345, -0.33804631738511903, -0.6252183706593569, 0.06342069591663548, 0.22310182052701832, -0.45072909368610004, 0.020679924380002664, 0.41041634063267335, -0.3379181618993617, -0.5052052030307504, 0.020752612661111995, -0.3379174544386933, 0.211600628650766, -0.5590286607276539, -0.5402443616615682, -0.26708044385665836, 0.0634007635574315, 0.4442020426397844, 0.020771749212800047, 0.4443486414409208, -0.4976461657764861, -0.29372765278397267, -0.33792051327795086, -0.3915553498586125, -0.1726208257316661, 0.02078623635112728, 0.06342058785444686, -0.49766247779233896, -0.3379400737222411, -0.33798105266524936, -0.5548862212722558, -0.4976239787405171, 0.020790927832517417, -0.15853279136976778, -0.5408025262682227, -0.5402427684595101, -0.5402888337498779, -0.3581423539638077, 0.06342569295683016, -0.2247487834398673, 0.6753946960841732, -0.49761013755298683, -0.5402640559572193, 0.399184499652792, -0.3379167691631058, 0.22310924325229212, -0.49759856712641304, -0.5402392931405794, -0.5402366260530935, 0.02071980613221398, -0.26710887573575554, 0.2231079495893948, -0.19133605935492157, 0.020783201987460313, -0.6913879133630586, -0.17264946757121286, -0.5402497600236105, -0.4978794525152547, 0.4419097983200702, -0.17267663901188196, -0.3581187422584428, -0.6363426257399544, -0.17265203390969178, -0.6822684886852114, 0.3856821761526564, 0.45824611741234805, -0.10848309340358209, -0.49760900740280145, 0.019566730319141547, 0.0630293142015597, -0.6697508628488115, -0.4975999935957359, -0.17263673005434885, -0.5402473308422792, -0.5402416381595047, 0.06337754639284807, -0.1726208257316661, -0.49760733215778713, -0.3379215707454256, -0.5402480094618524, -0.22624627417106324, -0.5402436274125794, -0.540314721602189, -0.49759886100860173, 0.3991860887005626, -0.5402557609769256, -0.2848158122496829, -0.5402387493583218, -0.5402375771868762, -0.2037974042885778, -0.3376494359182729, 0.020790572639964627, 0.3991821471197266, 0.48495075204079013, -0.5403029300992648, -0.33791757203296263, -0.4976013732019567, -0.5402430212490341, 0.05177688797179817, -0.5402384542436336, 0.4426599411302775, -0.26704584863054837, -0.3272236531909329, 0.02078957513177676, -0.3581251170966447, 0.06330219794308932, 0.4582460305882045, -0.5407659634303563, 0.02073830534924292, 0.48494256272070396, -0.2670572736254872, 0.3836262225659074, -0.49761485349840273, -0.7101826061491877, -0.4976565287769721, 0.020307442841469528, -0.17266904419026116, -0.4976183294510985, 0.006176117526144171, -0.17282287158207865, -0.4977056905830092, -0.5402404763561015, -0.5402395655505824, -0.5403503165548983, -0.07333015839489827, -0.4976096631504595, 0.020778763124393387, -0.26738965941103593, 0.22227923766040514, -0.17261838820865139, -0.5402567018606175, -0.6524040228698633, -0.06474381818556357, 0.020777339658412337, -0.1585659293303354, 0.4426449369578234, -0.7725027512712577, 0.37054969529586995, 0.4904312774172752, 0.4105224785183456, 0.39820784136672127, -0.5548441095676822, 0.06340308156221909, -0.5548811214641552, -0.6878036765550858, 0.020781510730830045, -0.6313271619534865, 0.020780533898235237, 0.06341143600290058, 0.0634258723951401, -0.5497116616432552, 0.39917683466660725, -0.6313261629942848, 0.3050133182852965, -0.06987384809949963, 0.19851252906186628, -0.1626879582111053, 0.06325247290472184, -0.687820530085856, 0.22310306887623602, -0.49760426434473426, -0.2670480978654602, 8.181947285232958, 0.019591015351320736, -0.17261892648514102, -0.03867875581426812, 0.020784933380576995, 0.020774396113192328, 0.020766249410214852, 0.020765804530852135, -0.5402494596591071, -0.5402380459461116, 0.3991750159856642, -0.0938331272322912, -0.13796851771511473, -0.4976040566928276, 0.45368352743861384, -0.30422285865828536, 0.06209940697525825, -0.5402380918724339, 0.25692106384352087, -0.07894540637703144, 0.45824129814959724, -0.5632451558689973, -0.3379638301720217, -0.5552114920367939, -0.5142914806319843, 0.4441758447085941, -0.5402391133740334, -0.47702441749027585, 0.020738244387766027, -0.12020849424703785, -0.5402443139253706, -0.06948794627250135, 0.06331625759559796, 0.2569180878918959, 0.38565876306754665, 0.25691982229974414, -0.4976302935037095, -0.10860075937588312, -0.5700798335935306, -0.6314152130926003, -0.5403059704001283, 0.3814558681415284, 0.3991855955791814, 0.38433656065017713, -0.281652436540032, -0.20380065300497238, 0.06333286421435964, 0.44238792023387613, -0.5479927546452548, -0.5402564639828125, 0.018571276077246048, -0.4976224511555509, 0.08750572051027497, 0.06342510160771764, 0.2569202186306764, -0.20381638350040213, 0.25674406502995933, 0.02076502577992448, -0.5405844593471959, -0.5402373180007086, -0.22440471162504746, 0.06342296888839681, 0.22310226161793145, 0.1253612491074821, -0.158524274663275, 0.09786560909812156, -0.3928953532437288, 0.2628011532842982, 0.3379608605391273, -0.5403599964029774, 0.3990947978816091, 0.015489813744576713, 0.44415178188642634, 0.2085034752195369, -0.3583046191757849, 0.6043804132440838, 20.630888456301527, 0.02078150729685564, 0.012661376099847344, 0.06328410942131289, -0.4356651299956288, 14.557569047737598, -0.4976017095107958, -0.6064304816907935, -0.2670631526210383, -0.1788654268717336, 0.38485021767379457, 0.39904131745972454, 0.020787161946492452, 0.335521924596171, -0.5548526801954737, -0.5402365138713421, -0.5402368823915796, 0.45821317814121426, -0.2672066490025018, 0.44186973495201676, -0.21024488516006937, -0.17262937779080822, -0.5402433568738986, 0.030007915121102784, 0.06340446948336814, -0.47706975732684204, -0.1726239716904101, 0.39918013192918234, -0.10907719916296865, -0.5414051291442665, 0.006174680130289759, 0.48494755171685017, -0.4327431907725447, 0.44443693366342835, -0.2670574152708041, 0.44191128605152885, 0.399120286854178, 0.37708528231829896, 0.36098714233384177, -0.5456432890530246, -0.26704654903749425, 0.43904877604996906, -0.6809858619578186, 0.39884169182199386, -0.5402544018301488, -0.35203514619292603, -0.27775134869115975, -0.20386673369106184, -0.0647521493501788, -0.13181293950833545, 0.17875347497582228, 0.3276914755628615, 0.06342464675158246, -0.38229248565284923, -0.20379666140481995, -0.4769918384395385, -0.2689679838197622, -0.35214169954383767, -0.20383021383388472, 0.02078813911790365, -0.5403523558247187, 0.44247916093988987, 0.41128913230063735, -0.04542650900496841, 0.3146278069962561, -0.22441477800213624, -0.49761646156217526, -0.26711287667328737, -0.1726381023325269, 0.22199964991585547, -0.36105493703329533, -0.22441378097753747, 0.06342418009187295, -0.542733813494189, 0.05159290954932291, 0.17874389209787916, 5.859690514299959, 0.45562106187164764, -0.3332345150110875, 0.4419001209989796, 0.22310307015498945, -0.6236856115551337, -0.23155730821239143, 0.39748901437020767, -0.4770096444506881, 0.41155531733633993, 0.4115585144454787, 0.17040364553243587, 0.5582333094462172, 0.020762866605289438, -0.5402443647308437, 0.45820597585799194, -0.4769985592905696, 0.45823686289441184, -0.20379364868571556, -0.5616036775307528, 0.22338241425454095, -0.22440302788247993, -0.540253964013444, -0.606563324002005, -0.681904813300437, -0.49765236485627024, 0.22308389134617704, -0.07028854153622528, 0.2230585651394765, -0.4976112668032095, -0.10895395497587244, -0.5506063771376679, 0.009556368623284123, -0.4976988263840274, 0.2548782113139739, -0.540260148139064, 0.4107582497228836, -0.5402505770837266, -0.06472087608858092, -0.5402398245217104, -0.4978365551710906, 0.020352510985382842, -0.5418436991823207, -0.3453961572626094, -0.49791777241861807, 0.22309859312873975, -0.5402624849684059, 0.0027741462630567273, -0.5404496720037909, 0.1068142289448379, -0.49770546127161064, -0.5402971972816711, -0.17261284053685108, 0.020788582062702232, 0.020741475373148244, -0.27226432087887975, -0.337957176251435, -0.10849199547111668, -0.27234089979975523, -0.5403749038511211, -0.30410853437968566, 12.618783726915021, -0.6313149610945028, 0.4839466233024897, -0.10884820922790353, 0.385683086725454, -0.10889055894963617, -0.06524679356129662, 8.96815174100698, -0.1726150700769169, -1.1424252374708161, -0.1880597856904279, -0.04239744203511142, -0.5402706008098314, 0.3986212348247507, 0.4582454175339127, -0.26703851499141784]}],\n",
       "                        {\"coloraxis\": {\"colorbar\": {\"title\": {\"text\": \"class\"}}, \"colorscale\": [[0.0, \"#0d0887\"], [0.1111111111111111, \"#46039f\"], [0.2222222222222222, \"#7201a8\"], [0.3333333333333333, \"#9c179e\"], [0.4444444444444444, \"#bd3786\"], [0.5555555555555556, \"#d8576b\"], [0.6666666666666666, \"#ed7953\"], [0.7777777777777778, \"#fb9f3a\"], [0.8888888888888888, \"#fdca26\"], [1.0, \"#f0f921\"]]}, \"legend\": {\"tracegroupgap\": 0, \"x\": 0, \"y\": 1}, \"margin\": {\"t\": 60}, \"scene\": {\"domain\": {\"x\": [0.0, 1.0], \"y\": [0.0, 1.0]}, \"xaxis\": {\"title\": {\"text\": \"PC 1\"}}, \"yaxis\": {\"title\": {\"text\": \"PC 2\"}}, \"zaxis\": {\"title\": {\"text\": \"PC 3\"}}}, \"template\": {\"data\": {\"bar\": [{\"error_x\": {\"color\": \"#2a3f5f\"}, \"error_y\": {\"color\": \"#2a3f5f\"}, \"marker\": {\"line\": {\"color\": \"#E5ECF6\", \"width\": 0.5}}, \"type\": \"bar\"}], \"barpolar\": [{\"marker\": {\"line\": {\"color\": \"#E5ECF6\", \"width\": 0.5}}, \"type\": \"barpolar\"}], \"carpet\": [{\"aaxis\": {\"endlinecolor\": \"#2a3f5f\", \"gridcolor\": \"white\", \"linecolor\": \"white\", \"minorgridcolor\": \"white\", \"startlinecolor\": \"#2a3f5f\"}, \"baxis\": {\"endlinecolor\": \"#2a3f5f\", \"gridcolor\": \"white\", \"linecolor\": \"white\", \"minorgridcolor\": \"white\", \"startlinecolor\": \"#2a3f5f\"}, \"type\": \"carpet\"}], \"choropleth\": [{\"colorbar\": {\"outlinewidth\": 0, \"ticks\": \"\"}, \"type\": \"choropleth\"}], \"contour\": [{\"colorbar\": {\"outlinewidth\": 0, \"ticks\": \"\"}, \"colorscale\": [[0.0, \"#0d0887\"], [0.1111111111111111, \"#46039f\"], [0.2222222222222222, \"#7201a8\"], [0.3333333333333333, \"#9c179e\"], [0.4444444444444444, \"#bd3786\"], [0.5555555555555556, \"#d8576b\"], [0.6666666666666666, \"#ed7953\"], [0.7777777777777778, \"#fb9f3a\"], [0.8888888888888888, \"#fdca26\"], [1.0, \"#f0f921\"]], \"type\": \"contour\"}], \"contourcarpet\": [{\"colorbar\": {\"outlinewidth\": 0, \"ticks\": \"\"}, \"type\": \"contourcarpet\"}], \"heatmap\": [{\"colorbar\": {\"outlinewidth\": 0, \"ticks\": \"\"}, \"colorscale\": [[0.0, \"#0d0887\"], [0.1111111111111111, \"#46039f\"], [0.2222222222222222, \"#7201a8\"], [0.3333333333333333, \"#9c179e\"], [0.4444444444444444, \"#bd3786\"], [0.5555555555555556, \"#d8576b\"], [0.6666666666666666, \"#ed7953\"], [0.7777777777777778, \"#fb9f3a\"], [0.8888888888888888, \"#fdca26\"], [1.0, \"#f0f921\"]], \"type\": \"heatmap\"}], \"heatmapgl\": [{\"colorbar\": {\"outlinewidth\": 0, \"ticks\": \"\"}, \"colorscale\": [[0.0, \"#0d0887\"], [0.1111111111111111, \"#46039f\"], [0.2222222222222222, \"#7201a8\"], [0.3333333333333333, \"#9c179e\"], [0.4444444444444444, \"#bd3786\"], [0.5555555555555556, \"#d8576b\"], [0.6666666666666666, \"#ed7953\"], [0.7777777777777778, \"#fb9f3a\"], [0.8888888888888888, \"#fdca26\"], [1.0, \"#f0f921\"]], \"type\": \"heatmapgl\"}], \"histogram\": [{\"marker\": {\"colorbar\": {\"outlinewidth\": 0, \"ticks\": \"\"}}, \"type\": \"histogram\"}], \"histogram2d\": [{\"colorbar\": {\"outlinewidth\": 0, \"ticks\": \"\"}, \"colorscale\": [[0.0, \"#0d0887\"], [0.1111111111111111, \"#46039f\"], [0.2222222222222222, \"#7201a8\"], [0.3333333333333333, \"#9c179e\"], [0.4444444444444444, \"#bd3786\"], [0.5555555555555556, \"#d8576b\"], [0.6666666666666666, \"#ed7953\"], [0.7777777777777778, \"#fb9f3a\"], [0.8888888888888888, \"#fdca26\"], [1.0, \"#f0f921\"]], \"type\": \"histogram2d\"}], \"histogram2dcontour\": [{\"colorbar\": {\"outlinewidth\": 0, \"ticks\": \"\"}, \"colorscale\": [[0.0, \"#0d0887\"], [0.1111111111111111, \"#46039f\"], [0.2222222222222222, \"#7201a8\"], [0.3333333333333333, \"#9c179e\"], [0.4444444444444444, \"#bd3786\"], [0.5555555555555556, \"#d8576b\"], [0.6666666666666666, \"#ed7953\"], [0.7777777777777778, \"#fb9f3a\"], [0.8888888888888888, \"#fdca26\"], [1.0, \"#f0f921\"]], \"type\": \"histogram2dcontour\"}], \"mesh3d\": [{\"colorbar\": {\"outlinewidth\": 0, \"ticks\": \"\"}, \"type\": \"mesh3d\"}], \"parcoords\": [{\"line\": {\"colorbar\": {\"outlinewidth\": 0, \"ticks\": \"\"}}, \"type\": \"parcoords\"}], \"pie\": [{\"automargin\": true, \"type\": \"pie\"}], \"scatter\": [{\"marker\": {\"colorbar\": {\"outlinewidth\": 0, \"ticks\": \"\"}}, \"type\": \"scatter\"}], \"scatter3d\": [{\"line\": {\"colorbar\": {\"outlinewidth\": 0, \"ticks\": \"\"}}, \"marker\": {\"colorbar\": {\"outlinewidth\": 0, \"ticks\": \"\"}}, \"type\": \"scatter3d\"}], \"scattercarpet\": [{\"marker\": {\"colorbar\": {\"outlinewidth\": 0, \"ticks\": \"\"}}, \"type\": \"scattercarpet\"}], \"scattergeo\": [{\"marker\": {\"colorbar\": {\"outlinewidth\": 0, \"ticks\": \"\"}}, \"type\": \"scattergeo\"}], \"scattergl\": [{\"marker\": {\"colorbar\": {\"outlinewidth\": 0, \"ticks\": \"\"}}, \"type\": \"scattergl\"}], \"scattermapbox\": [{\"marker\": {\"colorbar\": {\"outlinewidth\": 0, \"ticks\": \"\"}}, \"type\": \"scattermapbox\"}], \"scatterpolar\": [{\"marker\": {\"colorbar\": {\"outlinewidth\": 0, \"ticks\": \"\"}}, \"type\": \"scatterpolar\"}], \"scatterpolargl\": [{\"marker\": {\"colorbar\": {\"outlinewidth\": 0, \"ticks\": \"\"}}, \"type\": \"scatterpolargl\"}], \"scatterternary\": [{\"marker\": {\"colorbar\": {\"outlinewidth\": 0, \"ticks\": \"\"}}, \"type\": \"scatterternary\"}], \"surface\": [{\"colorbar\": {\"outlinewidth\": 0, \"ticks\": \"\"}, \"colorscale\": [[0.0, \"#0d0887\"], [0.1111111111111111, \"#46039f\"], [0.2222222222222222, \"#7201a8\"], [0.3333333333333333, \"#9c179e\"], [0.4444444444444444, \"#bd3786\"], [0.5555555555555556, \"#d8576b\"], [0.6666666666666666, \"#ed7953\"], [0.7777777777777778, \"#fb9f3a\"], [0.8888888888888888, \"#fdca26\"], [1.0, \"#f0f921\"]], \"type\": \"surface\"}], \"table\": [{\"cells\": {\"fill\": {\"color\": \"#EBF0F8\"}, \"line\": {\"color\": \"white\"}}, \"header\": {\"fill\": {\"color\": \"#C8D4E3\"}, \"line\": {\"color\": \"white\"}}, \"type\": \"table\"}]}, \"layout\": {\"annotationdefaults\": {\"arrowcolor\": \"#2a3f5f\", \"arrowhead\": 0, \"arrowwidth\": 1}, \"coloraxis\": {\"colorbar\": {\"outlinewidth\": 0, \"ticks\": \"\"}}, \"colorscale\": {\"diverging\": [[0, \"#8e0152\"], [0.1, \"#c51b7d\"], [0.2, \"#de77ae\"], [0.3, \"#f1b6da\"], [0.4, \"#fde0ef\"], [0.5, \"#f7f7f7\"], [0.6, \"#e6f5d0\"], [0.7, \"#b8e186\"], [0.8, \"#7fbc41\"], [0.9, \"#4d9221\"], [1, \"#276419\"]], \"sequential\": [[0.0, \"#0d0887\"], [0.1111111111111111, \"#46039f\"], [0.2222222222222222, \"#7201a8\"], [0.3333333333333333, \"#9c179e\"], [0.4444444444444444, \"#bd3786\"], [0.5555555555555556, \"#d8576b\"], [0.6666666666666666, \"#ed7953\"], [0.7777777777777778, \"#fb9f3a\"], [0.8888888888888888, \"#fdca26\"], [1.0, \"#f0f921\"]], \"sequentialminus\": [[0.0, \"#0d0887\"], [0.1111111111111111, \"#46039f\"], [0.2222222222222222, \"#7201a8\"], [0.3333333333333333, \"#9c179e\"], [0.4444444444444444, \"#bd3786\"], [0.5555555555555556, \"#d8576b\"], [0.6666666666666666, \"#ed7953\"], [0.7777777777777778, \"#fb9f3a\"], [0.8888888888888888, \"#fdca26\"], [1.0, \"#f0f921\"]]}, \"colorway\": [\"#636efa\", \"#EF553B\", \"#00cc96\", \"#ab63fa\", \"#FFA15A\", \"#19d3f3\", \"#FF6692\", \"#B6E880\", \"#FF97FF\", \"#FECB52\"], \"font\": {\"color\": \"#2a3f5f\"}, \"geo\": {\"bgcolor\": \"white\", \"lakecolor\": \"white\", \"landcolor\": \"#E5ECF6\", \"showlakes\": true, \"showland\": true, \"subunitcolor\": \"white\"}, \"hoverlabel\": {\"align\": \"left\"}, \"hovermode\": \"closest\", \"mapbox\": {\"style\": \"light\"}, \"paper_bgcolor\": \"white\", \"plot_bgcolor\": \"#E5ECF6\", \"polar\": {\"angularaxis\": {\"gridcolor\": \"white\", \"linecolor\": \"white\", \"ticks\": \"\"}, \"bgcolor\": \"#E5ECF6\", \"radialaxis\": {\"gridcolor\": \"white\", \"linecolor\": \"white\", \"ticks\": \"\"}}, \"scene\": {\"xaxis\": {\"backgroundcolor\": \"#E5ECF6\", \"gridcolor\": \"white\", \"gridwidth\": 2, \"linecolor\": \"white\", \"showbackground\": true, \"ticks\": \"\", \"zerolinecolor\": \"white\"}, \"yaxis\": {\"backgroundcolor\": \"#E5ECF6\", \"gridcolor\": \"white\", \"gridwidth\": 2, \"linecolor\": \"white\", \"showbackground\": true, \"ticks\": \"\", \"zerolinecolor\": \"white\"}, \"zaxis\": {\"backgroundcolor\": \"#E5ECF6\", \"gridcolor\": \"white\", \"gridwidth\": 2, \"linecolor\": \"white\", \"showbackground\": true, \"ticks\": \"\", \"zerolinecolor\": \"white\"}}, \"shapedefaults\": {\"line\": {\"color\": \"#2a3f5f\"}}, \"ternary\": {\"aaxis\": {\"gridcolor\": \"white\", \"linecolor\": \"white\", \"ticks\": \"\"}, \"baxis\": {\"gridcolor\": \"white\", \"linecolor\": \"white\", \"ticks\": \"\"}, \"bgcolor\": \"#E5ECF6\", \"caxis\": {\"gridcolor\": \"white\", \"linecolor\": \"white\", \"ticks\": \"\"}}, \"title\": {\"x\": 0.05}, \"xaxis\": {\"automargin\": true, \"gridcolor\": \"white\", \"linecolor\": \"white\", \"ticks\": \"\", \"title\": {\"standoff\": 15}, \"zerolinecolor\": \"white\", \"zerolinewidth\": 2}, \"yaxis\": {\"automargin\": true, \"gridcolor\": \"white\", \"linecolor\": \"white\", \"ticks\": \"\", \"title\": {\"standoff\": 15}, \"zerolinecolor\": \"white\", \"zerolinewidth\": 2}}}, \"width\": 800},\n",
       "                        {\"responsive\": true}\n",
       "                    ).then(function(){\n",
       "                            \n",
       "var gd = document.getElementById('76edb45f-f7d4-410e-9c01-b3b362e0098a');\n",
       "var x = new MutationObserver(function (mutations, observer) {{\n",
       "        var display = window.getComputedStyle(gd).display;\n",
       "        if (!display || display === 'none') {{\n",
       "            console.log([gd, 'removed!']);\n",
       "            Plotly.purge(gd);\n",
       "            observer.disconnect();\n",
       "        }}\n",
       "}});\n",
       "\n",
       "// Listen for the removal of the full notebook cells\n",
       "var notebookContainer = gd.closest('#notebook-container');\n",
       "if (notebookContainer) {{\n",
       "    x.observe(notebookContainer, {childList: true});\n",
       "}}\n",
       "\n",
       "// Listen for the clearing of the current output cell\n",
       "var outputEl = gd.closest('.output');\n",
       "if (outputEl) {{\n",
       "    x.observe(outputEl, {childList: true});\n",
       "}}\n",
       "\n",
       "                        })\n",
       "                };\n",
       "                });\n",
       "            </script>\n",
       "        </div>"
      ]
     },
     "metadata": {},
     "output_type": "display_data"
    }
   ],
   "source": [
    "# Plotting the clusters with three features\n",
    "fig = px.scatter_3d(clustered_df, x=\"PC 1\", y=\"PC 2\", z=\"PC 3\", color=\"class\",hover_name=\"CoinName\",hover_data=[\"Algorithm\"],width=800)\n",
    "fig.update_layout(legend=dict(x=0,y=1))\n",
    "fig.show()"
   ]
  },
  {
   "cell_type": "code",
   "execution_count": 135,
   "metadata": {},
   "outputs": [
    {
     "data": {},
     "metadata": {},
     "output_type": "display_data"
    },
    {
     "data": {
      "application/vnd.holoviews_exec.v0+json": "",
      "text/html": [
       "<div id='1575'>\n",
       "\n",
       "\n",
       "\n",
       "\n",
       "\n",
       "  <div class=\"bk-root\" id=\"32f96d67-6486-428a-b805-bec92296e62c\" data-root-id=\"1575\"></div>\n",
       "</div>\n",
       "<script type=\"application/javascript\">(function(root) {\n",
       "  function embed_document(root) {\n",
       "  var docs_json = {\"2d761332-d652-494a-86d3-66cee9e306e6\":{\"roots\":{\"references\":[{\"attributes\":{\"editor\":{\"id\":\"1585\"},\"field\":\"Algorithm\",\"formatter\":{\"id\":\"1584\"},\"title\":\"Algorithm\"},\"id\":\"1586\",\"type\":\"TableColumn\"},{\"attributes\":{\"source\":{\"id\":\"1577\"}},\"id\":\"1610\",\"type\":\"CDSView\"},{\"attributes\":{},\"id\":\"1585\",\"type\":\"StringEditor\"},{\"attributes\":{},\"id\":\"1600\",\"type\":\"NumberEditor\"},{\"attributes\":{},\"id\":\"1584\",\"type\":\"StringFormatter\"},{\"attributes\":{\"format\":\"0,0.0[00000]\"},\"id\":\"1599\",\"type\":\"NumberFormatter\"},{\"attributes\":{},\"id\":\"1605\",\"type\":\"IntEditor\"},{\"attributes\":{},\"id\":\"1611\",\"type\":\"UnionRenderers\"},{\"attributes\":{\"children\":[{\"id\":\"1576\"},{\"id\":\"1609\"},{\"id\":\"1615\"}],\"margin\":[0,0,0,0],\"name\":\"Row02790\",\"tags\":[\"embedded\"]},\"id\":\"1575\",\"type\":\"Row\"},{\"attributes\":{},\"id\":\"1594\",\"type\":\"StringFormatter\"},{\"attributes\":{\"editor\":{\"id\":\"1590\"},\"field\":\"ProofType\",\"formatter\":{\"id\":\"1589\"},\"title\":\"ProofType\"},\"id\":\"1591\",\"type\":\"TableColumn\"},{\"attributes\":{\"data\":{\"Algorithm\":[\"Scrypt\",\"Scrypt\",\"X13\",\"SHA-256\",\"Ethash\",\"Scrypt\",\"X11\",\"CryptoNight-V7\",\"Ethash\",\"Equihash\",\"SHA-512\",\"SHA-256\",\"SHA-256\",\"Scrypt\",\"X15\",\"X11\",\"Scrypt\",\"Scrypt\",\"Scrypt\",\"Scrypt\",\"SHA-256\",\"Scrypt\",\"Scrypt\",\"Scrypt\",\"Quark\",\"Groestl\",\"Scrypt\",\"Scrypt\",\"Scrypt\",\"Scrypt\",\"Scrypt\",\"X11\",\"Scrypt\",\"Groestl\",\"SHA-256\",\"Scrypt\",\"Scrypt\",\"Scrypt\",\"Scrypt\",\"PoS\",\"Scrypt\",\"Scrypt\",\"NeoScrypt\",\"Scrypt\",\"Scrypt\",\"Scrypt\",\"Scrypt\",\"X11\",\"Scrypt\",\"X11\",\"SHA-256\",\"Scrypt\",\"Scrypt\",\"Scrypt\",\"SHA3\",\"Scrypt\",\"HybridScryptHash256\",\"Scrypt\",\"Scrypt\",\"SHA-256\",\"Scrypt\",\"X13\",\"Scrypt\",\"SHA-256\",\"Scrypt\",\"X13\",\"NeoScrypt\",\"Scrypt\",\"Scrypt\",\"Scrypt\",\"Scrypt\",\"Scrypt\",\"Scrypt\",\"X11\",\"X11\",\"SHA-256\",\"SHA-256\",\"PHI1612\",\"X11\",\"SHA-256\",\"SHA-256\",\"SHA-256\",\"X11\",\"Scrypt\",\"Scrypt\",\"Scrypt\",\"Scrypt\",\"Lyra2REv2\",\"Scrypt\",\"X11\",\"SHA-256\",\"X13\",\"Scrypt\",\"CryptoNight\",\"CryptoNight\",\"Shabal256\",\"Counterparty\",\"Scrypt\",\"SHA-256\",\"Groestl\",\"Scrypt\",\"Scrypt\",\"Scrypt\",\"X13\",\"Scrypt\",\"Scrypt\",\"Scrypt\",\"Scrypt\",\"X13\",\"Scrypt\",\"Stanford Folding\",\"X11\",\"QuBit\",\"Scrypt\",\"Scrypt\",\"Scrypt\",\"M7 POW\",\"Scrypt\",\"SHA-256\",\"Scrypt\",\"X11\",\"SHA3\",\"X11\",\"Lyra2RE\",\"SHA-256\",\"QUAIT\",\"X11\",\"X11\",\"Scrypt\",\"Scrypt\",\"Scrypt\",\"Ethash\",\"X13\",\"Blake2b\",\"SHA-256\",\"X15\",\"X11\",\"SHA-256\",\"BLAKE256\",\"Scrypt\",\"1GB AES Pattern Search\",\"SHA-256\",\"X11\",\"Scrypt\",\"SHA-256\",\"SHA-256\",\"NIST5\",\"Scrypt\",\"Scrypt\",\"X11\",\"Dagger\",\"Scrypt\",\"X11GOST\",\"X11\",\"Scrypt\",\"SHA-256\",\"Scrypt\",\"PoS\",\"Scrypt\",\"X11\",\"X11\",\"SHA-256\",\"SHA-256\",\"NIST5\",\"X11\",\"Scrypt\",\"POS 3.0\",\"Scrypt\",\"Scrypt\",\"Scrypt\",\"X13\",\"X11\",\"X11\",\"Equihash\",\"X11\",\"Scrypt\",\"CryptoNight\",\"SHA-256\",\"SHA-256\",\"X11\",\"Scrypt\",\"Scrypt\",\"Scrypt\",\"Scrypt\",\"SHA-256\",\"Scrypt\",\"Scrypt\",\"SHA-256D\",\"PoS\",\"Scrypt\",\"X11\",\"Lyra2Z\",\"PoS\",\"X13\",\"X14\",\"PoS\",\"SHA-256D\",\"Ethash\",\"Equihash\",\"DPoS\",\"X11\",\"Scrypt\",\"X11\",\"X13\",\"X11\",\"PoS\",\"Scrypt\",\"Scrypt\",\"X11\",\"PoS\",\"X11\",\"SHA-256\",\"Scrypt\",\"X11\",\"Scrypt\",\"Scrypt\",\"X11\",\"CryptoNight\",\"Scrypt\",\"Scrypt\",\"Scrypt\",\"Scrypt\",\"Quark\",\"QuBit\",\"Scrypt\",\"CryptoNight\",\"Lyra2RE\",\"Scrypt\",\"SHA-256\",\"X11\",\"Scrypt\",\"X11\",\"Scrypt\",\"CryptoNight-V7\",\"Scrypt\",\"Scrypt\",\"Scrypt\",\"X13\",\"X11\",\"Equihash\",\"Scrypt\",\"Scrypt\",\"Lyra2RE\",\"Scrypt\",\"Dagger-Hashimoto\",\"X11\",\"Blake2S\",\"X11\",\"Scrypt\",\"PoS\",\"X11\",\"NIST5\",\"PoS\",\"X11\",\"Scrypt\",\"Scrypt\",\"Scrypt\",\"SHA-256\",\"X11\",\"Scrypt\",\"Scrypt\",\"SHA-256\",\"PoS\",\"Scrypt\",\"X15\",\"SHA-256\",\"Scrypt\",\"POS 3.0\",\"CryptoNight-V7\",\"536\",\"Argon2d\",\"Blake2b\",\"Cloverhash\",\"CryptoNight\",\"NIST5\",\"X11\",\"NIST5\",\"Skein\",\"Scrypt\",\"X13\",\"Scrypt\",\"X11\",\"X11\",\"Scrypt\",\"CryptoNight\",\"X13\",\"Time Travel\",\"Scrypt\",\"Keccak\",\"SkunkHash v2 Raptor\",\"X11\",\"Skein\",\"SHA-256\",\"X11\",\"Scrypt\",\"VeChainThor Authority\",\"Scrypt\",\"PoS\",\"Scrypt\",\"Scrypt\",\"Scrypt\",\"Scrypt\",\"Scrypt\",\"Scrypt\",\"Scrypt\",\"CryptoNight\",\"SHA-512\",\"Ouroboros\",\"X11\",\"Equihash\",\"NeoScrypt\",\"X11\",\"Scrypt\",\"NeoScrypt\",\"Lyra2REv2\",\"Equihash\",\"Scrypt\",\"SHA-256\",\"NIST5\",\"PHI1612\",\"Dagger\",\"Scrypt\",\"Quark\",\"Scrypt\",\"POS 2.0\",\"Scrypt\",\"SHA-256\",\"X11\",\"NeoScrypt\",\"Ethash\",\"NeoScrypt\",\"X11\",\"DPoS\",\"NIST5\",\"X13\",\"Scrypt\",\"CryptoNight\",\"CryptoNight\",\"Ethash\",\"NIST5\",\"Quark\",\"X11\",\"CryptoNight-V7\",\"Scrypt\",\"Scrypt\",\"Scrypt\",\"X11\",\"BLAKE256\",\"X11\",\"NeoScrypt\",\"Quark\",\"NeoScrypt\",\"Scrypt\",\"Scrypt\",\"Scrypt\",\"X11\",\"X11\",\"SHA-256\",\"C11\",\"POS 3.0\",\"Ethash\",\"Scrypt\",\"CryptoNight\",\"SkunkHash\",\"Scrypt\",\"CryptoNight\",\"Scrypt\",\"Dagger\",\"Lyra2REv2\",\"X13\",\"Proof-of-BibleHash\",\"SHA-256 + Hive\",\"Scrypt\",\"Scrypt\",\"X11\",\"C11\",\"Proof-of-Authority\",\"X11\",\"XEVAN\",\"Scrypt\",\"VBFT\",\"Ethash\",\"CryptoNight\",\"Scrypt\",\"IMesh\",\"NIST5\",\"Scrypt\",\"Scrypt\",\"Equihash\",\"Scrypt\",\"Lyra2Z\",\"Green Protocol\",\"PoS\",\"Scrypt\",\"Semux BFT consensus\",\"X11\",\"Quark\",\"PoS\",\"CryptoNight\",\"X16R\",\"Scrypt\",\"NIST5\",\"Lyra2RE\",\"XEVAN\",\"Tribus\",\"Scrypt\",\"Lyra2Z\",\"CryptoNight\",\"CryptoNight Heavy\",\"CryptoNight\",\"Scrypt\",\"Scrypt\",\"Jump Consistent Hash\",\"SHA-256D\",\"CryptoNight\",\"Scrypt\",\"X15\",\"Scrypt\",\"Quark\",\"SHA-256\",\"DPoS\",\"X16R\",\"HMQ1725\",\"X11\",\"X16R\",\"Quark\",\"Quark\",\"Scrypt\",\"Lyra2REv2\",\"Quark\",\"Scrypt\",\"Scrypt\",\"CryptoNight-V7\",\"Cryptonight-GPU\",\"XEVAN\",\"CryptoNight Heavy\",\"X11\",\"X11\",\"Scrypt\",\"PoS\",\"SHA-256\",\"Keccak\",\"X11\",\"X11\",\"Scrypt\",\"SHA-512\",\"X16R\",\"ECC 256K1\",\"Equihash\",\"XEVAN\",\"Lyra2Z\",\"SHA-256\",\"XEVAN\",\"X11\",\"CryptoNight\",\"Quark\",\"Blake\",\"Blake\",\"Equihash\",\"Exosis\",\"Scrypt\",\"Scrypt\",\"Equihash\",\"Quark\",\"Equihash\",\"Quark\",\"Scrypt\",\"QuBit\",\"X11\",\"Scrypt\",\"XEVAN\",\"SHA-256D\",\"X11\",\"SHA-256\",\"X13\",\"SHA-256\",\"X11\",\"DPoS\",\"Scrypt\",\"Scrypt\",\"X11\",\"NeoScrypt\",\"Scrypt\",\"Blake\",\"Scrypt\",\"SHA-256\",\"Scrypt\",\"X11\",\"Scrypt\",\"Scrypt\",\"SHA-256\",\"X11\",\"SHA-256\",\"Scrypt\",\"Scrypt\",\"Scrypt\",\"Groestl\",\"X11\",\"Scrypt\",\"PoS\",\"Scrypt\",\"Scrypt\",\"X11\",\"SHA-256\",\"DPoS\",\"Scrypt\",\"Scrypt\",\"NeoScrypt\",\"SHA3-256\",\"X13\",\"Equihash+Scrypt\",\"DPoS\",\"Ethash\",\"DPoS\",\"SHA-256\",\"Leased POS\",\"PoS\",\"TRC10\",\"PoS\",\"SHA-256\",\"Scrypt\",\"CryptoNight\",\"Equihash\",\"Scrypt\"],\"CoinName\":[\"42 Coin\",\"404Coin\",\"EliteCoin\",\"Bitcoin\",\"Ethereum\",\"Litecoin\",\"Dash\",\"Monero\",\"Ethereum Classic\",\"ZCash\",\"Bitshares\",\"BitcoinDark\",\"PayCoin\",\"ProsperCoin\",\"KoboCoin\",\"Spreadcoin\",\"Argentum\",\"Aurora Coin\",\"BlueCoin\",\"MoonCoin\",\"ZetaCoin\",\"SexCoin\",\"Quatloo\",\"EnergyCoin\",\"QuarkCoin\",\"Riecoin\",\"Digitalcoin \",\"BitBar\",\"Catcoin\",\"CryptoBullion\",\"CannaCoin\",\"CryptCoin\",\"CasinoCoin\",\"Diamond\",\"DevCoin\",\"EarthCoin\",\"E-Gulden\",\"Einsteinium\",\"Emerald\",\"Exclusive Coin\",\"FlutterCoin\",\"Franko\",\"FeatherCoin\",\"GrandCoin\",\"GlobalCoin\",\"GoldCoin\",\"HoboNickels\",\"HyperStake\",\"Infinite Coin\",\"IOCoin\",\"IXcoin\",\"KrugerCoin\",\"LuckyCoin\",\"Litebar \",\"MaxCoin\",\"MegaCoin\",\"MediterraneanCoin\",\"MintCoin\",\"MinCoin\",\"MazaCoin\",\"Nautilus Coin\",\"NavCoin\",\"NobleCoin\",\"Namecoin\",\"NyanCoin\",\"OpalCoin\",\"Orbitcoin\",\"PotCoin\",\"PhoenixCoin\",\"Reddcoin\",\"RonPaulCoin\",\"StableCoin\",\"SmartCoin\",\"SuperCoin\",\"SyncCoin\",\"SysCoin\",\"TigerCoin\",\"TittieCoin\",\"TorCoin\",\"TerraCoin\",\"UnbreakableCoin\",\"Unobtanium\",\"UroCoin\",\"UnitaryStatus Dollar\",\"UltraCoin\",\"ViaCoin\",\"VeriCoin\",\"Vertcoin\",\"WorldCoin\",\"X11 Coin\",\"JouleCoin\",\"StealthCoin\",\"ZCC Coin\",\"ByteCoin\",\"DigitalNote \",\"BurstCoin\",\"StorjCoin\",\"MonaCoin\",\"Neutron\",\"FairCoin\",\"Gulden\",\"RubyCoin\",\"PesetaCoin\",\"Kore\",\"Wild Beast Coin\",\"Dnotes\",\"Flo\",\"8BIT Coin\",\"Sativa Coin\",\"ArtByte\",\"Folding Coin\",\"Ucoin\",\"CypherPunkCoin\",\"OmniCron\",\"Vtorrent\",\"GreenCoin\",\"Cryptonite\",\"MasterCoin\",\"SoonCoin\",\"1Credit\",\"IslaCoin\",\"Nexus\",\"MarsCoin \",\"Crypto\",\"Anarchists Prime\",\"Droidz\",\"BowsCoin\",\"Squall Coin\",\"Song Coin\",\"BitZeny\",\"Diggits\",\"Expanse\",\"Paycon\",\"Siacoin\",\"Emercoin\",\"EverGreenCoin\",\"MindCoin\",\"I0coin\",\"Decred\",\"Revolution VR\",\"HOdlcoin\",\"EDRCoin\",\"Hitcoin\",\"Gamecredits\",\"DubaiCoin\",\"CarpeDiemCoin\",\"PWR Coin\",\"BillaryCoin\",\"GPU Coin\",\"Adzcoin\",\"SoilCoin\",\"YoCoin\",\"SibCoin\",\"EuropeCoin\",\"ZeitCoin\",\"SwingCoin\",\"SafeExchangeCoin\",\"Nebuchadnezzar\",\"Francs\",\"BolivarCoin\",\"Ratecoin\",\"Revenu\",\"Clockcoin\",\"VIP Tokens\",\"BitSend\",\"Omni\",\"Let it Ride\",\"PutinCoin\",\"iBankCoin\",\"Frankywillcoin\",\"MudraCoin\",\"PizzaCoin\",\"Lutetium Coin\",\"Komodo\",\"GoldBlocks\",\"CarterCoin\",\"Karbo\",\"BitTokens\",\"ZayedCoin\",\"MustangCoin\",\"ZoneCoin\",\"RootCoin\",\"DopeCoin\",\"BitCurrency\",\"DollarCoin\",\"Swiscoin\",\"Shilling\",\"BuzzCoin\",\"Opair\",\"PesoBit\",\"Halloween Coin\",\"ZCoin\",\"CoffeeCoin\",\"RoyalCoin\",\"GanjaCoin V2\",\"TeamUP\",\"LanaCoin\",\"Elementrem\",\"ZClassic\",\"ARK\",\"InsaneCoin\",\"KiloCoin\",\"ArtexCoin\",\"EmberCoin\",\"XenixCoin\",\"FreeCoin\",\"PLNCoin\",\"AquariusCoin\",\"Kurrent\",\"Creatio\",\"Eternity\",\"Eurocoin\",\"BitcoinFast\",\"Stakenet\",\"BitConnect Coin\",\"MoneyCoin\",\"Enigma\",\"Cannabis Industry Coin\",\"Russiacoin\",\"PandaCoin\",\"GameUnits\",\"GAKHcoin\",\"Allsafe\",\"LiteCreed\",\"OsmiumCoin\",\"Bikercoins\",\"HexxCoin\",\"Klingon Empire Darsek\",\"Internet of People\",\"KushCoin\",\"Printerium\",\"PacCoin\",\"Impeach\",\"Citadel\",\"Zilbercoin\",\"FirstCoin\",\"BeaverCoin\",\"FindCoin\",\"VaultCoin\",\"Zero\",\"OpenChat\",\"Canada eCoin\",\"Zoin\",\"RenosCoin\",\"DubaiCoin\",\"VirtacoinPlus\",\"TajCoin\",\"Impact\",\"EB3coin\",\"Atmos\",\"HappyCoin\",\"Coinonat\",\"MacronCoin\",\"Condensate\",\"Independent Money System\",\"ArgusCoin\",\"LomoCoin\",\"ProCurrency\",\"GoldReserve\",\"BenjiRolls\",\"GrowthCoin\",\"ILCoin\",\"Phreak\",\"Degas Coin\",\"HTML5 Coin\",\"Ultimate Secure Cash\",\"EquiTrader\",\"QTUM\",\"Quantum Resistant Ledger\",\"Espers\",\"Dynamic\",\"Nano\",\"ChanCoin\",\"Dinastycoin\",\"Denarius\",\"DigitalPrice\",\"Virta Unique Coin\",\"Bitcoin Planet\",\"Unify\",\"BritCoin\",\"SocialCoin\",\"ArcticCoin\",\"DAS\",\"Linda\",\"LeviarCoin\",\"DeepOnion\",\"Bitcore\",\"gCn Coin\",\"SmartCash\",\"Signatum\",\"Onix\",\"Cream\",\"Bitcoin Cash\",\"Monoeci\",\"Draftcoin\",\"Vechain\",\"Sojourn Coin\",\"Stakecoin\",\"NewYorkCoin\",\"FrazCoin\",\"Kronecoin\",\"AdCoin\",\"Linx\",\"CoinonatX\",\"Ethereum Dark\",\"Sumokoin\",\"Obsidian\",\"Cardano\",\"Regalcoin\",\"BitcoinZ\",\"TrezarCoin\",\"Elements\",\"TerraNovaCoin\",\"VIVO Coin\",\"Rupee\",\"Bitcoin Gold\",\"WomenCoin\",\"Theresa May Coin\",\"NamoCoin\",\"LUXCoin\",\"Pirl\",\"Xios\",\"Bitcloud 2.0\",\"eBoost\",\"KekCoin\",\"BlackholeCoin\",\"Infinity Economics\",\"Pura\",\"Innova\",\"Ellaism\",\"GoByte\",\"Magnet\",\"Lamden Tau\",\"Electra\",\"Bitcoin Diamond\",\"Cash & Back Coin\",\"UltraNote\",\"BitCoal\",\"DaxxCoin\",\"Bulwark\",\"Kalkulus\",\"AC3\",\"Lethean\",\"GermanCoin\",\"LiteCoin Ultra\",\"PopularCoin\",\"PhantomX\",\"Photon\",\"Sucre\",\"SparksPay\",\"Digiwage\",\"GunCoin\",\"IrishCoin\",\"Trollcoin\",\"Litecoin Plus\",\"Monkey Project\",\"Pioneer Coin\",\"UnitedBitcoin\",\"Interzone\",\"TokenPay\",\"1717 Masonic Commemorative Token\",\"My Big Coin\",\"TurtleCoin\",\"MUNcoin\",\"Unified Society USDEX\",\"Niobio Cash\",\"ShareChain\",\"Travelflex\",\"KREDS\",\"Tokyo Coin\",\"BiblePay\",\"LitecoinCash\",\"BitFlip\",\"LottoCoin\",\"Crypto Improvement Fund\",\"Stipend\",\"Poa Network\",\"Pushi\",\"Ellerium\",\"Velox\",\"Ontology\",\"Callisto Network\",\"BitTube\",\"Poseidon\",\"Aidos Kuneen\",\"Bitspace\",\"Briacoin\",\"Ignition\",\"Bitrolium\",\"MedicCoin\",\"Alpenschillling\",\"Bitcoin Green\",\"Deviant Coin\",\"Abjcoin\",\"Semux\",\"FuturoCoin\",\"Carebit\",\"Zealium\",\"Monero Classic\",\"Proton\",\"iDealCash\",\"Jumpcoin\",\"Infinex\",\"Bitcoin Incognito\",\"KEYCO\",\"HollyWoodCoin\",\"GINcoin\",\"PlatinCoin\",\"Loki\",\"Newton Coin\",\"Swisscoin\",\"Xt3ch\",\"MassGrid\",\"TheVig\",\"PluraCoin\",\"EmaratCoin\",\"Dekado\",\"Lynx\",\"Poseidon Quark\",\"BitcoinWSpectrum\",\"Muse\",\"Motion\",\"PlusOneCoin\",\"Axe\",\"Trivechain\",\"Dystem\",\"Giant\",\"Peony Coin\",\"Absolute Coin\",\"Vitae\",\"HexCoin\",\"TPCash\",\"Webchain\",\"Ryo\",\"Urals Coin\",\"Qwertycoin\",\"ARENON\",\"EUNO\",\"MMOCoin\",\"Ketan\",\"Project Pai\",\"XDNA\",\"PAXEX\",\"Azart\",\"ThunderStake\",\"Kcash\",\"Xchange\",\"Acute Angle Cloud\",\"CrypticCoin\",\"Bettex coin\",\"Actinium\",\"Bitcoin SV\",\"BitMoney\",\"Junson Ming Chan Coin\",\"FREDEnergy\",\"HerbCoin\",\"Universal Molecule\",\"Lithium\",\"PirateCash\",\"Exosis\",\"Block-Logic\",\"Oduwa\",\"Beam\",\"Galilel\",\"Bithereum\",\"Crypto Sports\",\"Credit\",\"SLICE\",\"Dash Platinum\",\"Nasdacoin\",\"Beetle Coin\",\"Titan Coin\",\"Award\",\"BLAST\",\"Bitcoin Rhodium\",\"GlobalToken\",\"Insane Coin\",\"ALAX\",\"LiteDoge\",\"SolarCoin\",\"TruckCoin\",\"UFO Coin\",\"OrangeCoin\",\"BlakeCoin\",\"BitstarCoin\",\"NeosCoin\",\"HyperCoin\",\"PinkCoin\",\"Crypto Escudo\",\"AudioCoin\",\"IncaKoin\",\"Piggy Coin\",\"Crown Coin\",\"Genstake\",\"SmileyCoin\",\"XiaoMiCoin\",\"Groestlcoin\",\"CapriCoin\",\" ClubCoin\",\"Radium\",\"Bata\",\"Pakcoin\",\"Creditbit \",\"OKCash\",\"Lisk\",\"HiCoin\",\"WhiteCoin\",\"FriendshipCoin\",\"Fiii\",\"Triangles Coin\",\"Vollar\",\"EOS\",\"Reality Clash\",\"Oxycoin\",\"TigerCash\",\"Waves\",\"Particl\",\"BitTorrent\",\"Nxt\",\"ZEPHYR\",\"Gapcoin\",\"Beldex\",\"Horizen\",\"BitcoinPlus\"],\"ProofType\":[\"PoW/PoS\",\"PoW/PoS\",\"PoW/PoS\",\"PoW\",\"PoW\",\"PoW\",\"PoW/PoS\",\"PoW\",\"PoW\",\"PoW\",\"PoS\",\"PoW/PoS\",\"PoS\",\"PoW\",\"PoW/PoS\",\"PoW\",\"PoW\",\"PoW/PoS\",\"PoW/PoS\",\"PoW\",\"PoW\",\"PoW\",\"PoW\",\"PoW/PoS\",\"PoW\",\"PoW\",\"PoW\",\"PoW/PoS\",\"PoW\",\"PoW/PoS\",\"PoW\",\"PoW\",\"PoC\",\"PoW/PoS\",\"PoW\",\"PoW\",\"PoW\",\"PoW\",\"PoW\",\"PoS\",\"PoS/PoW/PoT\",\"PoW\",\"PoW\",\"PoW\",\"PoW\",\"PoW\",\"PoW/PoS\",\"PoS\",\"PoW\",\"PoW/PoS\",\"PoW\",\"PoW\",\"PoW\",\"PoW\",\"PoW/PoS\",\"PoW\",\"PoW\",\"PoS\",\"PoW\",\"PoW/PoS\",\"PoS\",\"PoW/PoS\",\"PoW\",\"PoW\",\"PoW\",\"PoW/PoS\",\"PoW/PoS\",\"PoW/PoS\",\"PoW/PoS\",\"PoW/PoS\",\"PoW\",\"PoW\",\"PoW\",\"PoS\",\"PoW/PoS\",\"PoW\",\"PoW\",\"PoS\",\"PoW/PoS\",\"PoW\",\"PoW\",\"PoW\",\"PoW\",\"PoW/PoS\",\"PoW/PoS\",\"PoW\",\"PoST\",\"PoW\",\"PoW\",\"PoW/PoS\",\"PoW\",\"PoW/PoS\",\"PoW/PoS\",\"PoW\",\"PoW\",\"PoC\",\"PoS\",\"PoW\",\"PoW/PoS\",\"PoW/PoS\",\"PoW\",\"PoS\",\"PoW\",\"PoW/PoS\",\"PoW\",\"PoS\",\"PoW\",\"PoW/PoS\",\"PoW/PoS\",\"PoW\",\"PoW\",\"PoS\",\"PoW\",\"PoW\",\"PoW/PoS\",\"PoW\",\"PoW\",\"PoW\",\"PoW\",\"PoW\",\"PoW/PoS\",\"PoW/nPoS\",\"PoW\",\"PoW\",\"PoW\",\"PoW/PoS\",\"PoW\",\"PoS/PoW\",\"PoW\",\"PoW\",\"PoS\",\"PoW\",\"PoW/PoS\",\"PoW\",\"PoW/PoS\",\"PoW/PoS\",\"PoW\",\"PoW\",\"PoW/PoS\",\"PoW\",\"PoW\",\"PoW/PoS\",\"PoW/PoS\",\"PoW\",\"PoW/PoS\",\"PoW\",\"PoW/PoS\",\"PoW/PoS\",\"PoS\",\"PoW\",\"PoW\",\"PoW\",\"PoW\",\"PoW/PoS\",\"PoS\",\"PoW/PoS\",\"PoC\",\"PoS\",\"PoW\",\"PoW\",\"PoW/PoS\",\"PoW/PoS\",\"PoW/PoS\",\"PoW/PoS\",\"PoW/PoS\",\"PoW\",\"PoS\",\"PoW/PoS\",\"PoW/PoS\",\"PoW/PoS\",\"PoS\",\"PoW\",\"PoS\",\"dPoW/PoW\",\"PoW/PoS\",\"PoW/PoS\",\"PoW\",\"PoW/PoS\",\"PoW\",\"PoW/PoS\",\"PoW/PoS\",\"PoW/PoS\",\"PoW\",\"PoS\",\"PoW\",\"PoW/PoW\",\"PoW\",\"PoW/PoS\",\"PoS\",\"PoW/PoS\",\"PoW/PoS\",\"PoW\",\"PoS\",\"PoS\",\"PoW/PoS\",\"PoS\",\"PoW/PoS\",\"PoW\",\"PoW\",\"DPoS\",\"PoW/PoS\",\"PoW\",\"PoW\",\"PoW/PoS\",\"PoW/PoS\",\"PoS\",\"PoW/PoS\",\"PoW/PoS\",\"PoW\",\"PoS\",\"PoW/PoS\",\"PoW/PoS\",\"PoW/PoS\",\"TPoS\",\"PoW/PoS\",\"PoW/PoS\",\"PoW/PoS\",\"PoW\",\"PoW/PoS\",\"PoS\",\"PoW/PoS\",\"PoW/PoS\",\"PoS\",\"PoW/PoS\",\"PoW\",\"PoW\",\"PoW\",\"PoW/PoS\",\"PoW/PoS\",\"PoW/PoS\",\"PoW/PoS\",\"PoW\",\"PoW/PoS\",\"PoW\",\"PoS\",\"PoW/PoS \",\"PoW\",\"PoS\",\"PoW\",\"PoW\",\"PoW/PoS\",\"PoW\",\"PoW\",\"PoS\",\"PoW\",\"PoW/PoS\",\"PoW/PoS\",\"PoW/PoS\",\"PoW\",\"PoS\",\"PoW/PoS\",\"PoW\",\"PoS\",\"PoW/PoS\",\"PoW/PoS\",\"PoW/PoS\",\"PoW/PoS\",\"PoS\",\"PoW/PoS\",\"PoW\",\"PoS\",\"PoW\",\"PoS\",\"PoW/PoS\",\"PoW/PoS\",\"PoS\",\"PoW\",\"PoS\",\"PoW\",\"PoW/PoS\",\"PoW\",\"PoW\",\"PoW\",\"PoW\",\"PoW/PoS\",\"PoW\",\"PoW/PoS\",\"PoW/PoS\",\"PoW\",\"PoW/PoS\",\"PoW\",\"PoW\",\"PoW\",\"PoW/PoS\",\"PoW\",\"PoW/PoS\",\"PoW\",\"PoW\",\"PoW\",\"PoS\",\"PoW\",\"PoW/PoS\",\"PoW\",\"PoW/PoS\",\"PoS\",\"Proof of Authority\",\"PoW\",\"PoS\",\"PoW\",\"PoW\",\"PoW\",\"PoW\",\"PoW\",\"PoW/PoS\",\"PoW/PoS\",\"PoW\",\"PoS\",\"PoS\",\"PoW/PoS\",\"PoW\",\"PoW/PoS\",\"PoW\",\"PoW/PoS\",\"PoW\",\"PoS\",\"PoW\",\"PoW/PoS\",\"PoW/PoS\",\"PoW/PoS\",\"PoW/PoS\",\"PoW\",\"PoW/PoS\",\"PoW/PoS\",\"PoW\",\"PoS\",\"PoW/PoS\",\"PoS\",\"PoW\",\"PoW\",\"PoW\",\"PoW\",\"PoW/PoS\",\"DPoS\",\"PoW/PoS\",\"PoW/PoS\",\"PoW/PoS\",\"PoW\",\"PoW\",\"PoW\",\"PoS\",\"PoS\",\"PoW\",\"PoW\",\"PoW/PoS\",\"PoW/PoS\",\"PoW\",\"PoW/PoS\",\"PoW\",\"PoW\",\"PoW\",\"PoS\",\"PoW\",\"PoW\",\"PoW/PoS\",\"PoW/PoS\",\"PoS\",\"PoW\",\"PoW\",\"PoW\",\"PoS\",\"PoS\",\"PoW and PoS\",\"PoW\",\"PoW\",\"PoW/PoS\",\"PoW\",\"PoW\",\"PoW\",\"PoW\",\"PoS\",\"POBh\",\"PoW + Hive\",\"PoW\",\"PoW\",\"PoW\",\"PoW/PoS\",\"PoA\",\"PoW/PoS\",\"PoW/PoS\",\"PoS\",\"PoS\",\"PoW\",\"PoW\",\"PoW\",\"PoW\",\"PoW/PoS\",\"PoW/PoS\",\"PoW/PoS\",\"PoW\",\"PoS\",\"PoW\",\"PoS\",\"PoS\",\"PoW/PoS\",\"DPoS\",\"PoW\",\"PoW/PoS\",\"PoS\",\"PoW\",\"PoS\",\"PoW/PoS\",\"PoW\",\"PoW\",\"PoS/PoW\",\"PoW\",\"PoS\",\"PoW\",\"PoW\",\"PoW\",\"PoW\",\"PoW/PoS\",\"PoS\",\"PoW\",\"PoW/PoS\",\"PoW\",\"PoW/PoS\",\"PoS\",\"HPoW\",\"PoS\",\"PoS\",\"PoS\",\"PoW\",\"PoW\",\"PoW\",\"PoW/PoS\",\"PoS\",\"PoW/PoS\",\"PoS\",\"PoW/PoS\",\"PoS\",\"PoW\",\"PoW/PoS\",\"PoW\",\"PoW\",\"PoW\",\"PoW\",\"PoS\",\"PoW/PoS\",\"PoS\",\"PoS\",\"PoW\",\"PoW/PoS\",\"PoS\",\"PoW\",\"PoW/PoS\",\"Zero-Knowledge Proof\",\"PoW\",\"DPOS\",\"PoW\",\"PoS\",\"PoW\",\"PoW\",\"Pos\",\"PoS\",\"PoW\",\"PoW/PoS\",\"PoW\",\"PoW\",\"PoS\",\"PoW\",\"PoW\",\"PoW/PoS\",\"PoW\",\"PoW/PoS\",\"PoW\",\"PoS\",\"PoW/PoS\",\"PoW\",\"PoS\",\"PoW/PoS\",\"PoW/PoS\",\"PoW/PoS\",\"PoW/PoS\",\"PoW\",\"PoW\",\"PoW\",\"PoW/PoS\",\"DPoS\",\"PoW/PoS\",\"PoW\",\"PoW/PoS\",\"PoW\",\"PoW/PoS\",\"PoW\",\"PoW/PoS\",\"PoS\",\"PoW/PoS\",\"PoW/PoS\",\"PoW\",\"PoW/PoS\",\"PoW/PoS\",\"PoW/PoS\",\"PoW\",\"PoW/PoS\",\"PoW\",\"PoW/PoS\",\"PoW\",\"PoW/PoS\",\"PoW/PoS\",\"PoS\",\"PoW\",\"PoW\",\"Proof of Trust\",\"PoW/PoS\",\"DPoS\",\"PoS\",\"PoW/PoS\",\"PoW/PoS\",\"DPoC\",\"PoW/PoS\",\"PoW\",\"DPoS\",\"PoW\",\"DPoS\",\"PoS\",\"LPoS\",\"PoS\",\"DPoS\",\"PoS/LPoS\",\"DPoS\",\"PoW/PoS\",\"PoW\",\"PoW\",\"PoS\"],\"TotalCoinSupply\":[\"42\",\"532000000\",\"314159265359\",\"21000000\",\"0\",\"84000000\",\"22000000\",\"0\",\"210000000\",\"21000000\",\"3600570502\",\"22000000\",\"12500000\",\"21000000\",\"350000000\",\"20000000\",\"64000000\",\"16768584\",\"0\",\"384000000000\",\"169795588\",\"250000000\",\"100000000\",\"0\",\"247000000\",\"84000000\",\"48166000\",\"500000\",\"21000000 \",\"1000000\",\"13140000\",\"18000000\",\"40000000000\",\"4380000\",\"21000000000\",\"13500000000\",\"21000000 \",\"299792458\",\"32000000\",\"0\",\"0\",\"11235813\",\"336000000\",\"1420609614\",\"70000000\",\"72245700\",\"120000000\",\"0\",\"90600000000\",\"22000000\",\"21000000\",\"265420800\",\"20000000\",\"1350000\",\"100000000\",\"42000000\",\"200000000\",\"0\",\"10000000\",\"2419200000\",\"16180000\",\"0\",\"15000000000\",\"21000000\",\"337000000\",\"0\",\"3770000\",\"420000000\",\"98000000\",\"0\",\"21000000\",\"250000000\",\"51200000\",\"0\",\"1000\",\"888000000\",\"47011968\",\"2300000000\",\"10000000\",\"42000000\",\"80000000\",\"250000\",\"0\",\"1600000000\",\"100000000\",\"23000000\",\"0\",\"84000000\",\"265420800\",\"5500000\",\"45000000\",\"0\",\"1000000000\",\"184467440735\",\"10000000000\",\"2158812800\",\"500000000\",\"105120000\",\"68000000\",\"0\",\"1680000000\",\"0\",\"166386000\",\"12000000\",\"2628000\",\"500000000\",\"160000000\",\"0\",\"10000000\",\"1000000000\",\"1000000000\",\"20000000\",\"0\",\"3371337\",\"20000000\",\"10000000000\",\"1840000000\",\"619478\",\"21000000\",\"92000000000\",\"0\",\"78000000\",\"33000000\",\"65789100\",\"53760000\",\"5060000\",\"21000000\",\"0\",\"210240000\",\"250000000\",\"100000000\",\"16906397\",\"50000000\",\"0\",\"1000000000\",\"26298000\",\"16000000\",\"21000000\",\"21000000\",\"210000000\",\"81962100\",\"22000000\",\"26550000000\",\"84000000\",\"10500000\",\"21626280000 \",\"0\",\"42000000\",\"221052632\",\"84000000\",\"30000000\",\"168351300\",\"24000000\",\"384000000\",\" 99000000000\",\"40000000\",\"2147483647\",\"20000000\",\"20000000\",\"25000000\",\"75000000\",\"222725000\",\"525000000\",\"90000000\",\"139000000\",\"616448\",\"33500000\",\"2000000000\",\"44333333\",\"100000000\",\"200000000\",\"25000000\",\"657000000\",\"200000000\",\"50000000\",\"90000000\",\"10000000\",\"21000000\",\"9736000\",\"3000000\",\"21000000\",\"0\",\"200000000\",\"0\",\"10638298\",\"3100000000\",\"30000000\",\"20000000000\",\"74000000\",\"0\",\"1500000000\",\"21400000\",\"39999898\",\"2500124\",\"100000000\",\"301000000\",\"7506000000\",\"26205539\",\"21000000\",\"125000000\",\"30000000\",\"10000000000\",\"500000000\",\"850000000\",\"3853326.77707314\",\"50000000\",\"38540000 \",\"42000000\",\"228000000\",\"20000000\",\"60000000\",\"20000000\",\"33000000\",\"76500000\",\"28000000\",\"650659833\",\"5000000\",\"21000000\",\"144000000\",\"32514916898\",\"13000000\",\"3315789\",\"15000000\",\"78835200\",\"2714286\",\"25000000\",\"9999999\",\"500000000\",\"21000000\",\"9354000\",\"20000000\",\"100000000000\",\"21933333\",\"185000000\",\"55000000\",\"110000000\",\"3360000\",\"14524851.4827\",\"1000000000\",\"17000000\",\"1000000000\",\"100000000 \",\"21000000\",\"34426423\",\"2232901\",\"100000000\",\"36900000\",\"110000000\",\"4000000000\",\"110290030\",\"100000000\",\"48252000\",\"400000000\",\"500000000\",\"21212121\",\"28600000\",\"1000000000\",\"75000000000\",\"40000000\",\"35520400\",\"2000000000\",\"2500000000\",\"30000000\",\"105000000\",\"90000000000\",\"200084200\",\"72000000\",\"100000000\",\"105000000\",\"50000000000\",\"0\",\"340282367\",\"30000000\",\"2000000000\",\"10000000\",\"100000000\",\"120000000\",\"100000000\",\"19276800\",\"30000000\",\" 75000000\",\"60000000\",\"18900000\",\"50000000000\",\"54000000\",\"18898187.6216583\",\"21000000\",\"200000000000\",\"5000000000\",\"137500000\",\"1100000000\",\"100000000\",\"21000000\",\"9507271\",\"17405891.19707116\",\"86712634466\",\"10500000000\",\"61599965\",\"0\",\"20000000\",\"84000000\",\"100000000\",\"100000000\",\"48252000\",\"4200000\",\"88888888\",\"91388946\",\"45000000000\",\"27000000\",\"21000000000\",\"400000000\",\"1800000000\",\"15733333\",\"27000000\",\"24000000\",\"21000000\",\"25000000000\",\"100000000\",\"1200000000\",\"60000000\",\"156306732.71\",\"21000000\",\"200000000\",\"100000000\",\"21000000\",\"14788275.991\",\"9000000000\",\"350000000\",\"45000000\",\"280000000\",\"31800000\",\"144000000\",\"500000000\",\"30000000000\",\"210000000\",\"210000000\",\"85000000000\",\"12500000\",\"10000000000\",\"27716121\",\"20000000\",\"550000000\",\"999481516\",\"50000000000\",\"150000000\",\"4999999999\",\"50000000\",\" 90000000000\",\"19800000\",\"21000000\",\"120000000\",\"500000000\",\"64000000\",\"900000000\",\"4000000\",\"21000000\",\"23000000\",\"20166000\",\"23000000\",\"25000000\",\"1618033\",\"30000000\",\"1000000000000\",\"16600000\",\"232000000\",\"336000000\",\"10000000000\",\"100000000\",\"1100000000\",\"800000000\",\"5200000000\",\"840000000\",\"40000000\",\"18406979840\",\"500000000\",\"19340594\",\"252460800\",\"25000000\",\"60000000\",\"124000000\",\"1000000000\",\"6500000000\",\"1000000000\",\"21000000\",\"25000000\",\"50000000\",\"3000000\",\"5000000\",\"70000000\",\"500000000\",\"300000000\",\"21000000\",\"88000000\",\"30000000\",\"100000000\",\"100000000\",\"200000000\",\"80000000\",\"18400000\",\"45000000\",\"5121951220\",\"21000000\",\"26280000\",\"21000000\",\"18000000\",\"26000000\",\"10500000\",\"600000518\",\"150000000\",\"184000000000\",\"10200000000\",\"44000000\",\"168000000\",\"100000000\",\"1000000000\",\"84000000\",\"90000000\",\"92000000000\",\"650000000 \",\"100262205\",\"18081806 \",\"22075700\",\"21000000\",\"21000000\",\"82546564\",\"21000000\",\"5151000\",\"16880000000\",\"52500000\",\"100000000\",\"22105263\",\"1000000000\",\"1750000000\",\"88188888\",\"210000000\",\"184470000000\",\"55000000\",\"50000000\",\"260000000\",\"210000000\",\"2100000000\",\"366000000\",\"100000000\",\"25000000\",\"18000000000\",\"1000000000\",\"100000000\",\"1000000000\",\"7600000000\",\"50000000\",\"84000000\",\"21000000\",\"70000000000\",\"0\",\"8080000000\",\"54000000\",\"105120001.44\",\"25228800\",\"105000000\",\"21000000\",\"120000000\",\"21000000\",\"262800000\",\"19035999\",\"30886000\",\"13370000\",\"74800000000\",\"100000000\",\"19700000\",\"84000000\",\"500000000\",\"5000000000\",\"420000000\",\"64000000\",\"2100000\",\"168000000\",\"30000000\",\"1000000000\",\"35000000000\",\"98100000000\",\"0\",\"4000000000\",\"200000000\",\"7000000000\",\"54256119\",\"21000000\",\"0\",\"500000000\",\"1000000000\",\"10500000000\",\"190000000\",\"1000000000\",\"42000000\",\"15000000\",\"50000000000\",\"400000000\",\"105000000\",\"208000000\",\"160000000\",\"9000000\",\"5000000\",\"182000000\",\"16504333\",\"105000000\",\"159918400\",\"10008835635\",\"300000000\",\"60168145\",\"5000000000\",\"120000\",\"2100000000\",\"0\",\"24487944\",\"0\",\"1000000000\",\"100000000\",\"8634140\",\"990000000000\",\"1000000000\",\"2000000000\",\"250000000\",\"1400222610\",\"21000000\",\"1000000\"],\"TotalCoinsMined\":{\"__ndarray__\":\"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\",\"dtype\":\"float64\",\"order\":\"little\",\"shape\":[524]},\"class\":{\"__ndarray__\":\"AwAAAAMAAAADAAAAAAAAAAAAAAAAAAAAAwAAAAAAAAAAAAAAAAAAAAMAAAADAAAAAwAAAAAAAAADAAAAAAAAAAAAAAADAAAAAwAAAAAAAAAAAAAAAAAAAAAAAAADAAAAAAAAAAAAAAAAAAAAAwAAAAAAAAADAAAAAAAAAAAAAAADAAAAAwAAAAAAAAAAAAAAAAAAAAAAAAAAAAAAAwAAAAMAAAAAAAAAAAAAAAAAAAAAAAAAAAAAAAMAAAADAAAAAAAAAAMAAAAAAAAAAAAAAAAAAAAAAAAAAwAAAAAAAAAAAAAAAwAAAAAAAAADAAAAAwAAAAMAAAAAAAAAAAAAAAAAAAADAAAAAwAAAAMAAAADAAAAAwAAAAAAAAAAAAAAAAAAAAMAAAADAAAAAAAAAAAAAAADAAAAAwAAAAAAAAAAAAAAAAAAAAAAAAADAAAAAwAAAAAAAAADAAAAAAAAAAAAAAADAAAAAAAAAAMAAAADAAAAAAAAAAAAAAADAAAAAwAAAAAAAAADAAAAAwAAAAAAAAADAAAAAAAAAAMAAAAAAAAAAwAAAAAAAAADAAAAAwAAAAAAAAAAAAAAAwAAAAAAAAAAAAAAAwAAAAAAAAAAAAAAAAAAAAAAAAAAAAAAAwAAAAMAAAAAAAAAAAAAAAAAAAADAAAAAAAAAAMAAAAAAAAAAAAAAAMAAAAAAAAAAwAAAAAAAAADAAAAAwAAAAAAAAAAAAAAAwAAAAAAAAAAAAAAAwAAAAMAAAAAAAAAAwAAAAAAAAADAAAAAwAAAAMAAAAAAAAAAAAAAAAAAAAAAAAAAwAAAAMAAAADAAAAAwAAAAMAAAAAAAAAAAAAAAMAAAADAAAAAwAAAAMAAAADAAAAAAAAAAMAAAADAAAAAwAAAAMAAAADAAAAAAAAAAMAAAAAAAAAAwAAAAMAAAAAAAAAAwAAAAAAAAADAAAAAwAAAAMAAAAAAAAAAwAAAAAAAAADAAAAAAAAAAMAAAADAAAAAwAAAAMAAAAAAAAAAwAAAAMAAAADAAAAAwAAAAMAAAAAAAAAAAAAAAMAAAADAAAAAAAAAAAAAAADAAAAAwAAAAMAAAADAAAAAwAAAAAAAAADAAAAAwAAAAMAAAADAAAAAwAAAAMAAAADAAAAAwAAAAAAAAADAAAAAwAAAAMAAAADAAAAAwAAAAMAAAAAAAAAAAAAAAAAAAADAAAAAwAAAAMAAAADAAAAAAAAAAMAAAAAAAAAAwAAAAMAAAAAAAAAAwAAAAAAAAAAAAAAAwAAAAAAAAAAAAAAAwAAAAAAAAADAAAAAwAAAAMAAAAAAAAAAwAAAAMAAAAAAAAAAwAAAAMAAAADAAAAAwAAAAMAAAADAAAAAwAAAAAAAAADAAAAAAAAAAMAAAADAAAAAwAAAAMAAAAAAAAAAwAAAAAAAAADAAAAAAAAAAAAAAAAAAAAAAAAAAMAAAAAAAAAAwAAAAMAAAAAAAAAAwAAAAAAAAAAAAAAAAAAAAMAAAAAAAAAAwAAAAAAAAAAAAAAAAAAAAMAAAAAAAAAAwAAAAAAAAADAAAAAwAAAAEAAAAAAAAAAwAAAAAAAAAAAAAAAAAAAAAAAAAAAAAAAwAAAAMAAAAAAAAAAwAAAAMAAAADAAAAAAAAAAMAAAAAAAAAAwAAAAAAAAADAAAAAAAAAAMAAAADAAAAAwAAAAMAAAAAAAAAAwAAAAMAAAAAAAAAAwAAAAMAAAADAAAAAAAAAAAAAAAAAAAAAAAAAAMAAAADAAAAAwAAAAMAAAADAAAAAAAAAAAAAAAAAAAAAwAAAAMAAAAAAAAAAAAAAAMAAAADAAAAAAAAAAMAAAAAAAAAAAAAAAAAAAADAAAAAAAAAAAAAAADAAAAAwAAAAMAAAAAAAAAAAAAAAAAAAADAAAAAAAAAAMAAAAAAAAAAAAAAAMAAAAAAAAAAAAAAAAAAAAAAAAAAwAAAAMAAAABAAAAAAAAAAAAAAAAAAAAAwAAAAEAAAADAAAAAwAAAAMAAAADAAAAAAAAAAAAAAAAAAAAAAAAAAMAAAADAAAAAwAAAAAAAAADAAAAAAAAAAMAAAADAAAAAwAAAAMAAAAAAAAAAwAAAAMAAAAAAAAAAwAAAAMAAAAAAAAAAAAAAAMAAAAAAAAAAwAAAAAAAAAAAAAAAAAAAAAAAAADAAAAAwAAAAAAAAADAAAAAAAAAAMAAAADAAAAAwAAAAMAAAADAAAAAwAAAAAAAAAAAAAAAAAAAAMAAAADAAAAAwAAAAMAAAADAAAAAwAAAAAAAAADAAAAAAAAAAAAAAAAAAAAAAAAAAMAAAADAAAAAwAAAAMAAAAAAAAAAwAAAAMAAAAAAAAAAwAAAAMAAAAAAAAAAwAAAAAAAAADAAAAAAAAAAAAAAADAAAAAwAAAAAAAAADAAAAAAAAAAAAAAAAAAAAAAAAAAAAAAADAAAAAAAAAAMAAAAAAAAAAwAAAAMAAAAAAAAAAwAAAAMAAAADAAAAAwAAAAMAAAAAAAAAAAAAAAAAAAADAAAAAwAAAAMAAAAAAAAAAwAAAAAAAAADAAAAAAAAAAMAAAADAAAAAwAAAAMAAAAAAAAAAwAAAAMAAAADAAAAAAAAAAMAAAAAAAAAAwAAAAAAAAADAAAAAwAAAAMAAAAAAAAAAAAAAAMAAAADAAAAAwAAAAMAAAADAAAAAwAAAAEAAAADAAAAAAAAAAMAAAAAAAAAAwAAAAMAAAABAAAAAwAAAAIAAAADAAAAAwAAAAMAAAAAAAAAAAAAAAMAAAA=\",\"dtype\":\"int32\",\"order\":\"little\",\"shape\":[524]}},\"selected\":{\"id\":\"1578\"},\"selection_policy\":{\"id\":\"1611\"}},\"id\":\"1577\",\"type\":\"ColumnDataSource\"},{\"attributes\":{},\"id\":\"1595\",\"type\":\"StringEditor\"},{\"attributes\":{},\"id\":\"1589\",\"type\":\"StringFormatter\"},{\"attributes\":{\"margin\":[5,5,5,5],\"name\":\"HSpacer02795\",\"sizing_mode\":\"stretch_width\"},\"id\":\"1615\",\"type\":\"Spacer\"},{\"attributes\":{\"editor\":{\"id\":\"1600\"},\"field\":\"TotalCoinsMined\",\"formatter\":{\"id\":\"1599\"},\"title\":\"TotalCoinsMined\"},\"id\":\"1601\",\"type\":\"TableColumn\"},{\"attributes\":{\"editor\":{\"id\":\"1580\"},\"field\":\"CoinName\",\"formatter\":{\"id\":\"1579\"},\"title\":\"CoinName\"},\"id\":\"1581\",\"type\":\"TableColumn\"},{\"attributes\":{\"editor\":{\"id\":\"1605\"},\"field\":\"class\",\"formatter\":{\"id\":\"1604\"},\"title\":\"class\"},\"id\":\"1606\",\"type\":\"TableColumn\"},{\"attributes\":{},\"id\":\"1579\",\"type\":\"StringFormatter\"},{\"attributes\":{\"margin\":[5,5,5,5],\"name\":\"HSpacer02794\",\"sizing_mode\":\"stretch_width\"},\"id\":\"1576\",\"type\":\"Spacer\"},{\"attributes\":{\"columns\":[{\"id\":\"1581\"},{\"id\":\"1586\"},{\"id\":\"1591\"},{\"id\":\"1596\"},{\"id\":\"1601\"},{\"id\":\"1606\"}],\"height\":300,\"reorderable\":false,\"source\":{\"id\":\"1577\"},\"view\":{\"id\":\"1610\"},\"width\":700},\"id\":\"1609\",\"type\":\"DataTable\"},{\"attributes\":{\"editor\":{\"id\":\"1595\"},\"field\":\"TotalCoinSupply\",\"formatter\":{\"id\":\"1594\"},\"title\":\"TotalCoinSupply\"},\"id\":\"1596\",\"type\":\"TableColumn\"},{\"attributes\":{},\"id\":\"1580\",\"type\":\"StringEditor\"},{\"attributes\":{},\"id\":\"1590\",\"type\":\"StringEditor\"},{\"attributes\":{},\"id\":\"1578\",\"type\":\"Selection\"},{\"attributes\":{},\"id\":\"1604\",\"type\":\"NumberFormatter\"}],\"root_ids\":[\"1575\"]},\"title\":\"Bokeh Application\",\"version\":\"2.2.1\"}};\n",
       "  var render_items = [{\"docid\":\"2d761332-d652-494a-86d3-66cee9e306e6\",\"root_ids\":[\"1575\"],\"roots\":{\"1575\":\"32f96d67-6486-428a-b805-bec92296e62c\"}}];\n",
       "  root.Bokeh.embed.embed_items_notebook(docs_json, render_items);\n",
       "  }\n",
       "if (root.Bokeh !== undefined) {\n",
       "    embed_document(root);\n",
       "  } else {\n",
       "    var attempts = 0;\n",
       "    var timer = setInterval(function(root) {\n",
       "      if (root.Bokeh !== undefined) {\n",
       "        clearInterval(timer);\n",
       "        embed_document(root);\n",
       "      } else if (document.readyState == \"complete\") {\n",
       "        attempts++;\n",
       "        if (attempts > 100) {\n",
       "          clearInterval(timer);\n",
       "          console.log(\"Bokeh: ERROR: Unable to run BokehJS code because BokehJS library is missing\");\n",
       "        }\n",
       "      }\n",
       "    }, 10, root)\n",
       "  }\n",
       "})(window);</script>"
      ],
      "text/plain": [
       ":Table   [CoinName,Algorithm,ProofType,TotalCoinSupply,TotalCoinsMined,class]"
      ]
     },
     "execution_count": 135,
     "metadata": {
      "application/vnd.holoviews_exec.v0+json": {
       "id": "1575"
      }
     },
     "output_type": "execute_result"
    }
   ],
   "source": [
    "clustered_df.hvplot.table(columns=['CoinName', 'Algorithm', 'ProofType','TotalCoinSupply','TotalCoinsMined','class'], sortable=True, selectable=True)"
   ]
  },
  {
   "cell_type": "code",
   "execution_count": 136,
   "metadata": {
    "scrolled": false
   },
   "outputs": [
    {
     "data": {},
     "metadata": {},
     "output_type": "display_data"
    },
    {
     "data": {
      "application/vnd.holoviews_exec.v0+json": "",
      "text/html": [
       "<div id='1627'>\n",
       "\n",
       "\n",
       "\n",
       "\n",
       "\n",
       "  <div class=\"bk-root\" id=\"01b7608e-9553-487c-aca2-356fc07f2cc0\" data-root-id=\"1627\"></div>\n",
       "</div>\n",
       "<script type=\"application/javascript\">(function(root) {\n",
       "  function embed_document(root) {\n",
       "  var docs_json = {\"003dc933-8c98-4143-913d-c81bf5c1222e\":{\"roots\":{\"references\":[{\"attributes\":{\"text\":\"\",\"text_color\":{\"value\":\"black\"},\"text_font_size\":{\"value\":\"12pt\"}},\"id\":\"1636\",\"type\":\"Title\"},{\"attributes\":{\"data_source\":{\"id\":\"1668\"},\"glyph\":{\"id\":\"1671\"},\"hover_glyph\":null,\"muted_glyph\":{\"id\":\"1673\"},\"nonselection_glyph\":{\"id\":\"1672\"},\"selection_glyph\":null,\"view\":{\"id\":\"1675\"}},\"id\":\"1674\",\"type\":\"GlyphRenderer\"},{\"attributes\":{\"fill_alpha\":{\"value\":0.2},\"fill_color\":{\"value\":\"#1f77b3\"},\"line_alpha\":{\"value\":0.2},\"line_color\":{\"value\":\"#1f77b3\"},\"size\":{\"units\":\"screen\",\"value\":5.477225575051661},\"x\":{\"field\":\"TotalCoinsMined\"},\"y\":{\"field\":\"TotalCoinSupply\"}},\"id\":\"1673\",\"type\":\"Scatter\"},{\"attributes\":{},\"id\":\"1681\",\"type\":\"UnionRenderers\"},{\"attributes\":{},\"id\":\"1645\",\"type\":\"BasicTicker\"},{\"attributes\":{\"fill_color\":{\"value\":\"#ff7e0e\"},\"line_color\":{\"value\":\"#ff7e0e\"},\"size\":{\"units\":\"screen\",\"value\":5.477225575051661},\"x\":{\"field\":\"TotalCoinsMined\"},\"y\":{\"field\":\"TotalCoinSupply\"}},\"id\":\"1689\",\"type\":\"Scatter\"},{\"attributes\":{\"margin\":[5,5,5,5],\"name\":\"HSpacer02991\",\"sizing_mode\":\"stretch_width\"},\"id\":\"1875\",\"type\":\"Spacer\"},{\"attributes\":{\"source\":{\"id\":\"1668\"}},\"id\":\"1675\",\"type\":\"CDSView\"},{\"attributes\":{\"source\":{\"id\":\"1686\"}},\"id\":\"1693\",\"type\":\"CDSView\"},{\"attributes\":{},\"id\":\"1652\",\"type\":\"PanTool\"},{\"attributes\":{},\"id\":\"1706\",\"type\":\"Selection\"},{\"attributes\":{\"label\":{\"value\":\"0\"},\"renderers\":[{\"id\":\"1674\"}]},\"id\":\"1685\",\"type\":\"LegendItem\"},{\"attributes\":{\"label\":{\"value\":\"1\"},\"renderers\":[{\"id\":\"1692\"}]},\"id\":\"1704\",\"type\":\"LegendItem\"},{\"attributes\":{\"label\":{\"value\":\"2\"},\"renderers\":[{\"id\":\"1711\"}]},\"id\":\"1725\",\"type\":\"LegendItem\"},{\"attributes\":{},\"id\":\"1653\",\"type\":\"WheelZoomTool\"},{\"attributes\":{\"factors\":[\"21000000\",\"0\",\"84000000\",\"210000000\",\"20000000\",\"64000000\",\"384000000000\",\"169795588\",\"250000000\",\"100000000\",\"247000000\",\"48166000\",\"21000000 \",\"13140000\",\"18000000\",\"21000000000\",\"13500000000\",\"299792458\",\"32000000\",\"11235813\",\"336000000\",\"1420609614\",\"70000000\",\"72245700\",\"90600000000\",\"265420800\",\"1350000\",\"42000000\",\"200000000\",\"10000000\",\"15000000000\",\"337000000\",\"51200000\",\"888000000\",\"47011968\",\"80000000\",\"250000\",\"23000000\",\"45000000\",\"184467440735\",\"10000000000\",\"105120000\",\"1680000000\",\"166386000\",\"2628000\",\"160000000\",\"1000000000\",\"3371337\",\"1840000000\",\"619478\",\"92000000000\",\"33000000\",\"65789100\",\"53760000\",\"210240000\",\"16906397\",\"16000000\",\"81962100\",\"21626280000 \",\"30000000\",\"168351300\",\"24000000\",\"25000000\",\"616448\",\"9736000\",\"10638298\",\"21400000\",\"26205539\",\"500000000\",\"228000000\",\"2714286\",\"9999999\",\"100000000000\",\"185000000\",\"3360000\",\"17000000\",\"100000000 \",\"2232901\",\"4000000000\",\"48252000\",\"35520400\",\"2500000000\",\"72000000\",\"105000000\",\"340282367\",\"2000000000\",\"19276800\",\" 75000000\",\"60000000\",\"18900000\",\"54000000\",\"200000000000\",\"5000000000\",\"1100000000\",\"10500000000\",\"88888888\",\"1800000000\",\"27000000\",\"156306732.71\",\"350000000\",\"280000000\",\"31800000\",\"85000000000\",\"12500000\",\"550000000\",\"999481516\",\"4999999999\",\" 90000000000\",\"19800000\",\"20166000\",\"1618033\",\"1000000000000\",\"16600000\",\"40000000\",\"18406979840\",\"6500000000\",\"300000000\",\"18400000\",\"26280000\",\"10500000\",\"600000518\",\"150000000\",\"184000000000\",\"168000000\",\"22075700\",\"22105263\",\"1750000000\",\"88188888\",\"184470000000\",\"2100000000\",\"7600000000\",\"8080000000\",\"105120001.44\",\"25228800\",\"120000000\",\"262800000\",\"30886000\",\"2100000\",\"98100000000\",\"7000000000\",\"50000000000\",\"5000000\",\"182000000\",\"24487944\",\"1400222610\",\"86712634466\",\"840000000\",\"252460800\",\"990000000000\",\"42\",\"532000000\",\"314159265359\",\"22000000\",\"3600570502\",\"16768584\",\"500000\",\"1000000\",\"40000000000\",\"4380000\",\"2419200000\",\"16180000\",\"3770000\",\"420000000\",\"98000000\",\"1000\",\"2300000000\",\"1600000000\",\"5500000\",\"2158812800\",\"68000000\",\"12000000\",\"78000000\",\"5060000\",\"50000000\",\"26298000\",\"26550000000\",\"221052632\",\"384000000\",\" 99000000000\",\"2147483647\",\"75000000\",\"222725000\",\"525000000\",\"90000000\",\"139000000\",\"33500000\",\"44333333\",\"657000000\",\"3000000\",\"3100000000\",\"20000000000\",\"74000000\",\"1500000000\",\"39999898\",\"2500124\",\"301000000\",\"7506000000\",\"125000000\",\"850000000\",\"3853326.77707314\",\"38540000 \",\"76500000\",\"28000000\",\"650659833\",\"144000000\",\"32514916898\",\"13000000\",\"3315789\",\"15000000\",\"78835200\",\"9354000\",\"21933333\",\"55000000\",\"110000000\",\"14524851.4827\",\"34426423\",\"36900000\",\"110290030\",\"400000000\",\"21212121\",\"28600000\",\"75000000000\",\"90000000000\",\"200084200\",\"18898187.6216583\",\"137500000\",\"9507271\",\"17405891.19707116\",\"61599965\",\"4200000\",\"91388946\",\"45000000000\",\"15733333\",\"25000000000\",\"1200000000\",\"14788275.991\",\"9000000000\",\"30000000000\",\"27716121\",\"900000000\",\"4000000\",\"232000000\",\"800000000\",\"5200000000\",\"19340594\",\"124000000\",\"88000000\",\"5121951220\",\"26000000\",\"10200000000\",\"44000000\",\"650000000 \",\"100262205\",\"18081806 \",\"82546564\",\"5151000\",\"16880000000\",\"52500000\",\"260000000\",\"366000000\",\"18000000000\",\"70000000000\",\"19035999\",\"13370000\",\"74800000000\",\"19700000\",\"35000000000\",\"54256119\",\"190000000\",\"208000000\",\"9000000\",\"16504333\",\"159918400\",\"10008835635\",\"60168145\",\"120000\",\"8634140\"],\"tags\":[[[\"TotalCoinSupply\",\"TotalCoinSupply\",null]]]},\"id\":\"1630\",\"type\":\"FactorRange\"},{\"attributes\":{\"overlay\":{\"id\":\"1656\"}},\"id\":\"1654\",\"type\":\"BoxZoomTool\"},{\"attributes\":{\"end\":1032670428767.6898,\"reset_end\":1032670428767.6898,\"reset_start\":-48599692876.008446,\"start\":-48599692876.008446,\"tags\":[[[\"TotalCoinsMined\",\"TotalCoinsMined\",null]]]},\"id\":\"1629\",\"type\":\"Range1d\"},{\"attributes\":{},\"id\":\"1665\",\"type\":\"BasicTickFormatter\"},{\"attributes\":{\"children\":[{\"id\":\"1628\"},{\"id\":\"1635\"},{\"id\":\"1875\"}],\"margin\":[0,0,0,0],\"name\":\"Row02986\",\"tags\":[\"embedded\"]},\"id\":\"1627\",\"type\":\"Row\"},{\"attributes\":{},\"id\":\"1649\",\"type\":\"CategoricalTicker\"},{\"attributes\":{\"fill_alpha\":{\"value\":0.1},\"fill_color\":{\"value\":\"#1f77b3\"},\"line_alpha\":{\"value\":0.1},\"line_color\":{\"value\":\"#1f77b3\"},\"size\":{\"units\":\"screen\",\"value\":5.477225575051661},\"x\":{\"field\":\"TotalCoinsMined\"},\"y\":{\"field\":\"TotalCoinSupply\"}},\"id\":\"1672\",\"type\":\"Scatter\"},{\"attributes\":{\"fill_alpha\":{\"value\":0.1},\"fill_color\":{\"value\":\"#2ba02b\"},\"line_alpha\":{\"value\":0.1},\"line_color\":{\"value\":\"#2ba02b\"},\"size\":{\"units\":\"screen\",\"value\":5.477225575051661},\"x\":{\"field\":\"TotalCoinsMined\"},\"y\":{\"field\":\"TotalCoinSupply\"}},\"id\":\"1709\",\"type\":\"Scatter\"},{\"attributes\":{},\"id\":\"1701\",\"type\":\"UnionRenderers\"},{\"attributes\":{\"active_drag\":\"auto\",\"active_inspect\":\"auto\",\"active_multi\":null,\"active_scroll\":\"auto\",\"active_tap\":\"auto\",\"tools\":[{\"id\":\"1631\"},{\"id\":\"1651\"},{\"id\":\"1652\"},{\"id\":\"1653\"},{\"id\":\"1654\"},{\"id\":\"1655\"}]},\"id\":\"1657\",\"type\":\"Toolbar\"},{\"attributes\":{\"data\":{\"CoinName\":[\"Vechain\",\"LitecoinCash\",\"Poa Network\",\"Fiii\",\"Waves\"],\"TotalCoinSupply\":[\"86712634466\",\"840000000\",\"252460800\",\"5000000000\",\"100000000\"],\"TotalCoinsMined\":{\"__ndarray__\":\"AACgM7jSKUKWsBp+eAbDQQAAAH40YKhB0nu/vNIL9sEAAAAAhNeXQQ==\",\"dtype\":\"float64\",\"order\":\"little\",\"shape\":[5]},\"class\":[1,1,1,1,1]},\"selected\":{\"id\":\"1687\"},\"selection_policy\":{\"id\":\"1701\"}},\"id\":\"1686\",\"type\":\"ColumnDataSource\"},{\"attributes\":{\"data\":{\"CoinName\":[\"42 Coin\",\"404Coin\",\"EliteCoin\",\"Dash\",\"Bitshares\",\"BitcoinDark\",\"PayCoin\",\"KoboCoin\",\"Aurora Coin\",\"BlueCoin\",\"EnergyCoin\",\"BitBar\",\"CryptoBullion\",\"CasinoCoin\",\"Diamond\",\"Exclusive Coin\",\"FlutterCoin\",\"HoboNickels\",\"HyperStake\",\"IOCoin\",\"MaxCoin\",\"MintCoin\",\"MazaCoin\",\"Nautilus Coin\",\"NavCoin\",\"OpalCoin\",\"Orbitcoin\",\"PotCoin\",\"PhoenixCoin\",\"Reddcoin\",\"SuperCoin\",\"SyncCoin\",\"TittieCoin\",\"TorCoin\",\"UnitaryStatus Dollar\",\"UltraCoin\",\"VeriCoin\",\"X11 Coin\",\"StealthCoin\",\"ZCC Coin\",\"BurstCoin\",\"StorjCoin\",\"Neutron\",\"FairCoin\",\"RubyCoin\",\"Kore\",\"Dnotes\",\"8BIT Coin\",\"Sativa Coin\",\"Ucoin\",\"Vtorrent\",\"IslaCoin\",\"Nexus\",\"Droidz\",\"Squall Coin\",\"Diggits\",\"Paycon\",\"Emercoin\",\"EverGreenCoin\",\"Decred\",\"EDRCoin\",\"Hitcoin\",\"DubaiCoin\",\"PWR Coin\",\"BillaryCoin\",\"GPU Coin\",\"EuropeCoin\",\"ZeitCoin\",\"SwingCoin\",\"SafeExchangeCoin\",\"Nebuchadnezzar\",\"Ratecoin\",\"Revenu\",\"Clockcoin\",\"VIP Tokens\",\"BitSend\",\"Let it Ride\",\"PutinCoin\",\"iBankCoin\",\"Frankywillcoin\",\"MudraCoin\",\"Lutetium Coin\",\"GoldBlocks\",\"CarterCoin\",\"BitTokens\",\"MustangCoin\",\"ZoneCoin\",\"RootCoin\",\"BitCurrency\",\"Swiscoin\",\"BuzzCoin\",\"Opair\",\"PesoBit\",\"Halloween Coin\",\"CoffeeCoin\",\"RoyalCoin\",\"GanjaCoin V2\",\"TeamUP\",\"LanaCoin\",\"ARK\",\"InsaneCoin\",\"EmberCoin\",\"XenixCoin\",\"FreeCoin\",\"PLNCoin\",\"AquariusCoin\",\"Creatio\",\"Eternity\",\"Eurocoin\",\"BitcoinFast\",\"Stakenet\",\"BitConnect Coin\",\"MoneyCoin\",\"Enigma\",\"Russiacoin\",\"PandaCoin\",\"GameUnits\",\"GAKHcoin\",\"Allsafe\",\"LiteCreed\",\"Klingon Empire Darsek\",\"Internet of People\",\"KushCoin\",\"Printerium\",\"Impeach\",\"Zilbercoin\",\"FirstCoin\",\"FindCoin\",\"OpenChat\",\"RenosCoin\",\"VirtacoinPlus\",\"TajCoin\",\"Impact\",\"Atmos\",\"HappyCoin\",\"MacronCoin\",\"Condensate\",\"Independent Money System\",\"ArgusCoin\",\"LomoCoin\",\"ProCurrency\",\"GoldReserve\",\"GrowthCoin\",\"Phreak\",\"Degas Coin\",\"HTML5 Coin\",\"Ultimate Secure Cash\",\"QTUM\",\"Espers\",\"Denarius\",\"Virta Unique Coin\",\"Bitcoin Planet\",\"BritCoin\",\"Linda\",\"DeepOnion\",\"Signatum\",\"Cream\",\"Monoeci\",\"Draftcoin\",\"Stakecoin\",\"CoinonatX\",\"Ethereum Dark\",\"Obsidian\",\"Cardano\",\"Regalcoin\",\"TrezarCoin\",\"TerraNovaCoin\",\"Rupee\",\"WomenCoin\",\"Theresa May Coin\",\"NamoCoin\",\"LUXCoin\",\"Xios\",\"Bitcloud 2.0\",\"KekCoin\",\"BlackholeCoin\",\"Infinity Economics\",\"Magnet\",\"Lamden Tau\",\"Electra\",\"Bitcoin Diamond\",\"Cash & Back Coin\",\"Bulwark\",\"Kalkulus\",\"GermanCoin\",\"LiteCoin Ultra\",\"PhantomX\",\"Digiwage\",\"Trollcoin\",\"Litecoin Plus\",\"Monkey Project\",\"TokenPay\",\"My Big Coin\",\"Unified Society USDEX\",\"Tokyo Coin\",\"BiblePay\",\"Stipend\",\"Pushi\",\"Ellerium\",\"Velox\",\"Ontology\",\"Bitspace\",\"Briacoin\",\"Ignition\",\"MedicCoin\",\"Bitcoin Green\",\"Deviant Coin\",\"Abjcoin\",\"Semux\",\"Carebit\",\"Zealium\",\"Proton\",\"iDealCash\",\"Bitcoin Incognito\",\"HollyWoodCoin\",\"Swisscoin\",\"Xt3ch\",\"TheVig\",\"EmaratCoin\",\"Dekado\",\"Lynx\",\"Poseidon Quark\",\"BitcoinWSpectrum\",\"Muse\",\"Trivechain\",\"Dystem\",\"Giant\",\"Peony Coin\",\"Absolute Coin\",\"Vitae\",\"TPCash\",\"ARENON\",\"EUNO\",\"MMOCoin\",\"Ketan\",\"XDNA\",\"PAXEX\",\"ThunderStake\",\"Kcash\",\"Acute Angle Cloud\",\"Bettex coin\",\"BitMoney\",\"Junson Ming Chan Coin\",\"HerbCoin\",\"Oduwa\",\"Galilel\",\"Crypto Sports\",\"Credit\",\"Dash Platinum\",\"Nasdacoin\",\"Beetle Coin\",\"Titan Coin\",\"Award\",\"Insane Coin\",\"ALAX\",\"LiteDoge\",\"TruckCoin\",\"OrangeCoin\",\"BitstarCoin\",\"NeosCoin\",\"HyperCoin\",\"PinkCoin\",\"AudioCoin\",\"IncaKoin\",\"Piggy Coin\",\"Genstake\",\"XiaoMiCoin\",\"CapriCoin\",\" ClubCoin\",\"Radium\",\"Creditbit \",\"OKCash\",\"Lisk\",\"HiCoin\",\"WhiteCoin\",\"FriendshipCoin\",\"Triangles Coin\",\"EOS\",\"Oxycoin\",\"TigerCash\",\"Particl\",\"Nxt\",\"ZEPHYR\",\"Gapcoin\",\"BitcoinPlus\"],\"TotalCoinSupply\":[\"42\",\"532000000\",\"314159265359\",\"22000000\",\"3600570502\",\"22000000\",\"12500000\",\"350000000\",\"16768584\",\"0\",\"0\",\"500000\",\"1000000\",\"40000000000\",\"4380000\",\"0\",\"0\",\"120000000\",\"0\",\"22000000\",\"100000000\",\"0\",\"2419200000\",\"16180000\",\"0\",\"0\",\"3770000\",\"420000000\",\"98000000\",\"0\",\"0\",\"1000\",\"2300000000\",\"10000000\",\"1600000000\",\"100000000\",\"0\",\"5500000\",\"0\",\"1000000000\",\"2158812800\",\"500000000\",\"68000000\",\"0\",\"0\",\"12000000\",\"500000000\",\"0\",\"10000000\",\"20000000\",\"20000000\",\"0\",\"78000000\",\"5060000\",\"0\",\"100000000\",\"50000000\",\"1000000000\",\"26298000\",\"21000000\",\"22000000\",\"26550000000\",\"10500000\",\"0\",\"42000000\",\"221052632\",\"384000000\",\" 99000000000\",\"40000000\",\"2147483647\",\"20000000\",\"75000000\",\"222725000\",\"525000000\",\"90000000\",\"139000000\",\"33500000\",\"2000000000\",\"44333333\",\"100000000\",\"200000000\",\"657000000\",\"50000000\",\"90000000\",\"21000000\",\"3000000\",\"21000000\",\"0\",\"0\",\"3100000000\",\"20000000000\",\"74000000\",\"0\",\"1500000000\",\"39999898\",\"2500124\",\"100000000\",\"301000000\",\"7506000000\",\"125000000\",\"30000000\",\"850000000\",\"3853326.77707314\",\"50000000\",\"38540000 \",\"42000000\",\"20000000\",\"60000000\",\"20000000\",\"33000000\",\"76500000\",\"28000000\",\"650659833\",\"5000000\",\"144000000\",\"32514916898\",\"13000000\",\"3315789\",\"15000000\",\"78835200\",\"500000000\",\"21000000\",\"9354000\",\"20000000\",\"21933333\",\"55000000\",\"110000000\",\"14524851.4827\",\"1000000000\",\"34426423\",\"100000000\",\"36900000\",\"110000000\",\"110290030\",\"100000000\",\"400000000\",\"500000000\",\"21212121\",\"28600000\",\"1000000000\",\"75000000000\",\"40000000\",\"2000000000\",\"30000000\",\"105000000\",\"90000000000\",\"200084200\",\"100000000\",\"50000000000\",\"10000000\",\"120000000\",\"100000000\",\"30000000\",\"50000000000\",\"18898187.6216583\",\"137500000\",\"100000000\",\"9507271\",\"17405891.19707116\",\"61599965\",\"48252000\",\"4200000\",\"91388946\",\"45000000000\",\"27000000\",\"400000000\",\"15733333\",\"24000000\",\"25000000000\",\"100000000\",\"1200000000\",\"60000000\",\"21000000\",\"200000000\",\"21000000\",\"14788275.991\",\"9000000000\",\"144000000\",\"500000000\",\"30000000000\",\"210000000\",\"210000000\",\"27716121\",\"20000000\",\"50000000000\",\"150000000\",\"50000000\",\"120000000\",\"900000000\",\"4000000\",\"21000000\",\"25000000\",\"30000000\",\"232000000\",\"800000000\",\"5200000000\",\"19340594\",\"25000000\",\"60000000\",\"124000000\",\"1000000000\",\"50000000\",\"3000000\",\"5000000\",\"500000000\",\"21000000\",\"88000000\",\"30000000\",\"100000000\",\"200000000\",\"80000000\",\"45000000\",\"5121951220\",\"21000000\",\"26000000\",\"10200000000\",\"44000000\",\"100000000\",\"84000000\",\"90000000\",\"92000000000\",\"650000000 \",\"100262205\",\"18081806 \",\"82546564\",\"21000000\",\"5151000\",\"16880000000\",\"52500000\",\"100000000\",\"1000000000\",\"55000000\",\"50000000\",\"260000000\",\"210000000\",\"366000000\",\"100000000\",\"18000000000\",\"1000000000\",\"1000000000\",\"50000000\",\"70000000000\",\"0\",\"54000000\",\"21000000\",\"19035999\",\"13370000\",\"74800000000\",\"19700000\",\"84000000\",\"500000000\",\"5000000000\",\"420000000\",\"30000000\",\"1000000000\",\"35000000000\",\"0\",\"200000000\",\"54256119\",\"21000000\",\"0\",\"500000000\",\"10500000000\",\"190000000\",\"1000000000\",\"15000000\",\"400000000\",\"208000000\",\"160000000\",\"9000000\",\"16504333\",\"105000000\",\"159918400\",\"10008835635\",\"300000000\",\"60168145\",\"120000\",\"0\",\"0\",\"1000000000\",\"8634140\",\"1000000000\",\"2000000000\",\"250000000\",\"1000000\"],\"TotalCoinsMined\":{\"__ndarray__\":\"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\",\"dtype\":\"float64\",\"order\":\"little\",\"shape\":[285]},\"class\":[3,3,3,3,3,3,3,3,3,3,3,3,3,3,3,3,3,3,3,3,3,3,3,3,3,3,3,3,3,3,3,3,3,3,3,3,3,3,3,3,3,3,3,3,3,3,3,3,3,3,3,3,3,3,3,3,3,3,3,3,3,3,3,3,3,3,3,3,3,3,3,3,3,3,3,3,3,3,3,3,3,3,3,3,3,3,3,3,3,3,3,3,3,3,3,3,3,3,3,3,3,3,3,3,3,3,3,3,3,3,3,3,3,3,3,3,3,3,3,3,3,3,3,3,3,3,3,3,3,3,3,3,3,3,3,3,3,3,3,3,3,3,3,3,3,3,3,3,3,3,3,3,3,3,3,3,3,3,3,3,3,3,3,3,3,3,3,3,3,3,3,3,3,3,3,3,3,3,3,3,3,3,3,3,3,3,3,3,3,3,3,3,3,3,3,3,3,3,3,3,3,3,3,3,3,3,3,3,3,3,3,3,3,3,3,3,3,3,3,3,3,3,3,3,3,3,3,3,3,3,3,3,3,3,3,3,3,3,3,3,3,3,3,3,3,3,3,3,3,3,3,3,3,3,3,3,3,3,3,3,3,3,3,3,3,3,3,3,3,3,3,3,3,3,3,3,3,3,3,3,3,3,3,3,3]},\"selected\":{\"id\":\"1727\"},\"selection_policy\":{\"id\":\"1745\"}},\"id\":\"1726\",\"type\":\"ColumnDataSource\"},{\"attributes\":{},\"id\":\"1669\",\"type\":\"Selection\"},{\"attributes\":{\"axis_label\":\"TotalCoinsMined\",\"bounds\":\"auto\",\"formatter\":{\"id\":\"1665\"},\"major_label_orientation\":\"horizontal\",\"ticker\":{\"id\":\"1645\"}},\"id\":\"1644\",\"type\":\"LinearAxis\"},{\"attributes\":{\"data\":{\"CoinName\":[\"BitTorrent\"],\"TotalCoinSupply\":[\"990000000000\"],\"TotalCoinsMined\":{\"__ndarray__\":\"xfR7nv3PbEI=\",\"dtype\":\"float64\",\"order\":\"little\",\"shape\":[1]},\"class\":[2]},\"selected\":{\"id\":\"1706\"},\"selection_policy\":{\"id\":\"1722\"}},\"id\":\"1705\",\"type\":\"ColumnDataSource\"},{\"attributes\":{\"callback\":null,\"renderers\":[{\"id\":\"1674\"},{\"id\":\"1692\"},{\"id\":\"1711\"},{\"id\":\"1732\"}],\"tags\":[\"hv_created\"],\"tooltips\":[[\"class\",\"@{class}\"],[\"TotalCoinsMined\",\"@{TotalCoinsMined}\"],[\"TotalCoinSupply\",\"@{TotalCoinSupply}\"],[\"CoinName\",\"@{CoinName}\"]]},\"id\":\"1631\",\"type\":\"HoverTool\"},{\"attributes\":{\"margin\":[5,5,5,5],\"name\":\"HSpacer02990\",\"sizing_mode\":\"stretch_width\"},\"id\":\"1628\",\"type\":\"Spacer\"},{\"attributes\":{\"fill_alpha\":{\"value\":0.2},\"fill_color\":{\"value\":\"#ff7e0e\"},\"line_alpha\":{\"value\":0.2},\"line_color\":{\"value\":\"#ff7e0e\"},\"size\":{\"units\":\"screen\",\"value\":5.477225575051661},\"x\":{\"field\":\"TotalCoinsMined\"},\"y\":{\"field\":\"TotalCoinSupply\"}},\"id\":\"1691\",\"type\":\"Scatter\"},{\"attributes\":{},\"id\":\"1687\",\"type\":\"Selection\"},{\"attributes\":{\"align\":null,\"below\":[{\"id\":\"1644\"}],\"center\":[{\"id\":\"1647\"},{\"id\":\"1650\"}],\"left\":[{\"id\":\"1648\"}],\"margin\":null,\"min_border_bottom\":10,\"min_border_left\":10,\"min_border_right\":10,\"min_border_top\":10,\"plot_height\":300,\"plot_width\":700,\"renderers\":[{\"id\":\"1674\"},{\"id\":\"1692\"},{\"id\":\"1711\"},{\"id\":\"1732\"}],\"right\":[{\"id\":\"1684\"}],\"sizing_mode\":\"fixed\",\"title\":{\"id\":\"1636\"},\"toolbar\":{\"id\":\"1657\"},\"x_range\":{\"id\":\"1629\"},\"x_scale\":{\"id\":\"1640\"},\"y_range\":{\"id\":\"1630\"},\"y_scale\":{\"id\":\"1642\"}},\"id\":\"1635\",\"subtype\":\"Figure\",\"type\":\"Plot\"},{\"attributes\":{\"axis\":{\"id\":\"1648\"},\"dimension\":1,\"grid_line_color\":null,\"ticker\":null},\"id\":\"1650\",\"type\":\"Grid\"},{\"attributes\":{},\"id\":\"1651\",\"type\":\"SaveTool\"},{\"attributes\":{\"axis_label\":\"TotalCoinSupply\",\"bounds\":\"auto\",\"formatter\":{\"id\":\"1667\"},\"major_label_orientation\":\"horizontal\",\"ticker\":{\"id\":\"1649\"}},\"id\":\"1648\",\"type\":\"CategoricalAxis\"},{\"attributes\":{\"fill_alpha\":{\"value\":0.2},\"fill_color\":{\"value\":\"#2ba02b\"},\"line_alpha\":{\"value\":0.2},\"line_color\":{\"value\":\"#2ba02b\"},\"size\":{\"units\":\"screen\",\"value\":5.477225575051661},\"x\":{\"field\":\"TotalCoinsMined\"},\"y\":{\"field\":\"TotalCoinSupply\"}},\"id\":\"1710\",\"type\":\"Scatter\"},{\"attributes\":{\"source\":{\"id\":\"1705\"}},\"id\":\"1712\",\"type\":\"CDSView\"},{\"attributes\":{\"bottom_units\":\"screen\",\"fill_alpha\":0.5,\"fill_color\":\"lightgrey\",\"left_units\":\"screen\",\"level\":\"overlay\",\"line_alpha\":1.0,\"line_color\":\"black\",\"line_dash\":[4,4],\"line_width\":2,\"right_units\":\"screen\",\"top_units\":\"screen\"},\"id\":\"1656\",\"type\":\"BoxAnnotation\"},{\"attributes\":{},\"id\":\"1667\",\"type\":\"CategoricalTickFormatter\"},{\"attributes\":{\"data\":{\"CoinName\":[\"Bitcoin\",\"Ethereum\",\"Litecoin\",\"Monero\",\"Ethereum Classic\",\"ZCash\",\"ProsperCoin\",\"Spreadcoin\",\"Argentum\",\"MoonCoin\",\"ZetaCoin\",\"SexCoin\",\"Quatloo\",\"QuarkCoin\",\"Riecoin\",\"Digitalcoin \",\"Catcoin\",\"CannaCoin\",\"CryptCoin\",\"DevCoin\",\"EarthCoin\",\"E-Gulden\",\"Einsteinium\",\"Emerald\",\"Franko\",\"FeatherCoin\",\"GrandCoin\",\"GlobalCoin\",\"GoldCoin\",\"Infinite Coin\",\"IXcoin\",\"KrugerCoin\",\"LuckyCoin\",\"Litebar \",\"MegaCoin\",\"MediterraneanCoin\",\"MinCoin\",\"NobleCoin\",\"Namecoin\",\"NyanCoin\",\"RonPaulCoin\",\"StableCoin\",\"SmartCoin\",\"SysCoin\",\"TigerCoin\",\"TerraCoin\",\"UnbreakableCoin\",\"Unobtanium\",\"UroCoin\",\"ViaCoin\",\"Vertcoin\",\"WorldCoin\",\"JouleCoin\",\"ByteCoin\",\"DigitalNote \",\"MonaCoin\",\"Gulden\",\"PesetaCoin\",\"Wild Beast Coin\",\"Flo\",\"ArtByte\",\"Folding Coin\",\"CypherPunkCoin\",\"OmniCron\",\"GreenCoin\",\"Cryptonite\",\"MasterCoin\",\"SoonCoin\",\"1Credit\",\"MarsCoin \",\"Crypto\",\"Anarchists Prime\",\"BowsCoin\",\"Song Coin\",\"BitZeny\",\"Expanse\",\"Siacoin\",\"MindCoin\",\"I0coin\",\"Revolution VR\",\"HOdlcoin\",\"Gamecredits\",\"CarpeDiemCoin\",\"Adzcoin\",\"SoilCoin\",\"YoCoin\",\"SibCoin\",\"Francs\",\"BolivarCoin\",\"Omni\",\"PizzaCoin\",\"Komodo\",\"Karbo\",\"ZayedCoin\",\"DopeCoin\",\"DollarCoin\",\"Shilling\",\"ZCoin\",\"Elementrem\",\"ZClassic\",\"KiloCoin\",\"ArtexCoin\",\"Kurrent\",\"Cannabis Industry Coin\",\"OsmiumCoin\",\"Bikercoins\",\"HexxCoin\",\"PacCoin\",\"Citadel\",\"BeaverCoin\",\"VaultCoin\",\"Zero\",\"Canada eCoin\",\"Zoin\",\"DubaiCoin\",\"EB3coin\",\"Coinonat\",\"BenjiRolls\",\"ILCoin\",\"EquiTrader\",\"Quantum Resistant Ledger\",\"Dynamic\",\"Nano\",\"ChanCoin\",\"Dinastycoin\",\"DigitalPrice\",\"Unify\",\"SocialCoin\",\"ArcticCoin\",\"DAS\",\"LeviarCoin\",\"Bitcore\",\"gCn Coin\",\"SmartCash\",\"Onix\",\"Bitcoin Cash\",\"Sojourn Coin\",\"NewYorkCoin\",\"FrazCoin\",\"Kronecoin\",\"AdCoin\",\"Linx\",\"Sumokoin\",\"BitcoinZ\",\"Elements\",\"VIVO Coin\",\"Bitcoin Gold\",\"Pirl\",\"eBoost\",\"Pura\",\"Innova\",\"Ellaism\",\"GoByte\",\"UltraNote\",\"BitCoal\",\"DaxxCoin\",\"AC3\",\"Lethean\",\"PopularCoin\",\"Photon\",\"Sucre\",\"SparksPay\",\"GunCoin\",\"IrishCoin\",\"Pioneer Coin\",\"UnitedBitcoin\",\"Interzone\",\"1717 Masonic Commemorative Token\",\"TurtleCoin\",\"MUNcoin\",\"Niobio Cash\",\"ShareChain\",\"Travelflex\",\"KREDS\",\"BitFlip\",\"LottoCoin\",\"Crypto Improvement Fund\",\"Callisto Network\",\"BitTube\",\"Poseidon\",\"Aidos Kuneen\",\"Bitrolium\",\"Alpenschillling\",\"FuturoCoin\",\"Monero Classic\",\"Jumpcoin\",\"Infinex\",\"KEYCO\",\"GINcoin\",\"PlatinCoin\",\"Loki\",\"Newton Coin\",\"MassGrid\",\"PluraCoin\",\"Motion\",\"PlusOneCoin\",\"Axe\",\"HexCoin\",\"Webchain\",\"Ryo\",\"Urals Coin\",\"Qwertycoin\",\"Project Pai\",\"Azart\",\"Xchange\",\"CrypticCoin\",\"Actinium\",\"Bitcoin SV\",\"FREDEnergy\",\"Universal Molecule\",\"Lithium\",\"PirateCash\",\"Exosis\",\"Block-Logic\",\"Beam\",\"Bithereum\",\"SLICE\",\"BLAST\",\"Bitcoin Rhodium\",\"GlobalToken\",\"SolarCoin\",\"UFO Coin\",\"BlakeCoin\",\"Crypto Escudo\",\"Crown Coin\",\"SmileyCoin\",\"Groestlcoin\",\"Bata\",\"Pakcoin\",\"Vollar\",\"Reality Clash\",\"Beldex\",\"Horizen\"],\"TotalCoinSupply\":[\"21000000\",\"0\",\"84000000\",\"0\",\"210000000\",\"21000000\",\"21000000\",\"20000000\",\"64000000\",\"384000000000\",\"169795588\",\"250000000\",\"100000000\",\"247000000\",\"84000000\",\"48166000\",\"21000000 \",\"13140000\",\"18000000\",\"21000000000\",\"13500000000\",\"21000000 \",\"299792458\",\"32000000\",\"11235813\",\"336000000\",\"1420609614\",\"70000000\",\"72245700\",\"90600000000\",\"21000000\",\"265420800\",\"20000000\",\"1350000\",\"42000000\",\"200000000\",\"10000000\",\"15000000000\",\"21000000\",\"337000000\",\"21000000\",\"250000000\",\"51200000\",\"888000000\",\"47011968\",\"42000000\",\"80000000\",\"250000\",\"0\",\"23000000\",\"84000000\",\"265420800\",\"45000000\",\"184467440735\",\"10000000000\",\"105120000\",\"1680000000\",\"166386000\",\"2628000\",\"160000000\",\"1000000000\",\"1000000000\",\"0\",\"3371337\",\"10000000000\",\"1840000000\",\"619478\",\"21000000\",\"92000000000\",\"33000000\",\"65789100\",\"53760000\",\"21000000\",\"210240000\",\"250000000\",\"16906397\",\"0\",\"16000000\",\"21000000\",\"210000000\",\"81962100\",\"84000000\",\"21626280000 \",\"84000000\",\"30000000\",\"168351300\",\"24000000\",\"20000000\",\"25000000\",\"616448\",\"25000000\",\"200000000\",\"10000000\",\"9736000\",\"200000000\",\"10638298\",\"30000000\",\"21400000\",\"26205539\",\"21000000\",\"10000000000\",\"500000000\",\"228000000\",\"21000000\",\"2714286\",\"25000000\",\"9999999\",\"100000000000\",\"185000000\",\"3360000\",\"1000000000\",\"17000000\",\"100000000 \",\"21000000\",\"2232901\",\"4000000000\",\"48252000\",\"35520400\",\"2500000000\",\"72000000\",\"105000000\",\"0\",\"340282367\",\"30000000\",\"2000000000\",\"100000000\",\"19276800\",\" 75000000\",\"60000000\",\"18900000\",\"54000000\",\"21000000\",\"200000000000\",\"5000000000\",\"1100000000\",\"21000000\",\"10500000000\",\"0\",\"20000000\",\"84000000\",\"100000000\",\"100000000\",\"88888888\",\"21000000000\",\"1800000000\",\"27000000\",\"21000000\",\"156306732.71\",\"100000000\",\"350000000\",\"45000000\",\"280000000\",\"31800000\",\"85000000000\",\"12500000\",\"10000000000\",\"550000000\",\"999481516\",\"4999999999\",\" 90000000000\",\"19800000\",\"21000000\",\"500000000\",\"64000000\",\"23000000\",\"20166000\",\"23000000\",\"1618033\",\"1000000000000\",\"16600000\",\"336000000\",\"10000000000\",\"100000000\",\"1100000000\",\"40000000\",\"18406979840\",\"500000000\",\"6500000000\",\"1000000000\",\"21000000\",\"25000000\",\"70000000\",\"300000000\",\"100000000\",\"18400000\",\"21000000\",\"26280000\",\"18000000\",\"10500000\",\"600000518\",\"150000000\",\"184000000000\",\"168000000\",\"1000000000\",\"22075700\",\"21000000\",\"21000000\",\"22105263\",\"1750000000\",\"88188888\",\"210000000\",\"184470000000\",\"2100000000\",\"25000000\",\"100000000\",\"7600000000\",\"84000000\",\"21000000\",\"8080000000\",\"105120001.44\",\"25228800\",\"105000000\",\"21000000\",\"120000000\",\"262800000\",\"30886000\",\"100000000\",\"64000000\",\"2100000\",\"168000000\",\"98100000000\",\"4000000000\",\"7000000000\",\"1000000000\",\"42000000\",\"50000000000\",\"105000000\",\"5000000\",\"182000000\",\"2100000000\",\"24487944\",\"1400222610\",\"21000000\"],\"TotalCoinsMined\":{\"__ndarray__\":\"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\",\"dtype\":\"float64\",\"order\":\"little\",\"shape\":[233]},\"class\":[0,0,0,0,0,0,0,0,0,0,0,0,0,0,0,0,0,0,0,0,0,0,0,0,0,0,0,0,0,0,0,0,0,0,0,0,0,0,0,0,0,0,0,0,0,0,0,0,0,0,0,0,0,0,0,0,0,0,0,0,0,0,0,0,0,0,0,0,0,0,0,0,0,0,0,0,0,0,0,0,0,0,0,0,0,0,0,0,0,0,0,0,0,0,0,0,0,0,0,0,0,0,0,0,0,0,0,0,0,0,0,0,0,0,0,0,0,0,0,0,0,0,0,0,0,0,0,0,0,0,0,0,0,0,0,0,0,0,0,0,0,0,0,0,0,0,0,0,0,0,0,0,0,0,0,0,0,0,0,0,0,0,0,0,0,0,0,0,0,0,0,0,0,0,0,0,0,0,0,0,0,0,0,0,0,0,0,0,0,0,0,0,0,0,0,0,0,0,0,0,0,0,0,0,0,0,0,0,0,0,0,0,0,0,0,0,0,0,0,0,0,0,0,0,0,0,0,0,0,0,0,0,0]},\"selected\":{\"id\":\"1669\"},\"selection_policy\":{\"id\":\"1681\"}},\"id\":\"1668\",\"type\":\"ColumnDataSource\"},{\"attributes\":{\"fill_color\":{\"value\":\"#1f77b3\"},\"line_color\":{\"value\":\"#1f77b3\"},\"size\":{\"units\":\"screen\",\"value\":5.477225575051661},\"x\":{\"field\":\"TotalCoinsMined\"},\"y\":{\"field\":\"TotalCoinSupply\"}},\"id\":\"1671\",\"type\":\"Scatter\"},{\"attributes\":{},\"id\":\"1745\",\"type\":\"UnionRenderers\"},{\"attributes\":{\"data_source\":{\"id\":\"1686\"},\"glyph\":{\"id\":\"1689\"},\"hover_glyph\":null,\"muted_glyph\":{\"id\":\"1691\"},\"nonselection_glyph\":{\"id\":\"1690\"},\"selection_glyph\":null,\"view\":{\"id\":\"1693\"}},\"id\":\"1692\",\"type\":\"GlyphRenderer\"},{\"attributes\":{\"axis\":{\"id\":\"1644\"},\"grid_line_color\":null,\"ticker\":null},\"id\":\"1647\",\"type\":\"Grid\"},{\"attributes\":{\"data_source\":{\"id\":\"1726\"},\"glyph\":{\"id\":\"1729\"},\"hover_glyph\":null,\"muted_glyph\":{\"id\":\"1731\"},\"nonselection_glyph\":{\"id\":\"1730\"},\"selection_glyph\":null,\"view\":{\"id\":\"1733\"}},\"id\":\"1732\",\"type\":\"GlyphRenderer\"},{\"attributes\":{\"click_policy\":\"mute\",\"items\":[{\"id\":\"1685\"},{\"id\":\"1704\"},{\"id\":\"1725\"},{\"id\":\"1748\"}],\"location\":[0,0],\"title\":\"class\"},\"id\":\"1684\",\"type\":\"Legend\"},{\"attributes\":{\"fill_color\":{\"value\":\"#2ba02b\"},\"line_color\":{\"value\":\"#2ba02b\"},\"size\":{\"units\":\"screen\",\"value\":5.477225575051661},\"x\":{\"field\":\"TotalCoinsMined\"},\"y\":{\"field\":\"TotalCoinSupply\"}},\"id\":\"1708\",\"type\":\"Scatter\"},{\"attributes\":{\"fill_alpha\":{\"value\":0.2},\"fill_color\":{\"value\":\"#d62628\"},\"line_alpha\":{\"value\":0.2},\"line_color\":{\"value\":\"#d62628\"},\"size\":{\"units\":\"screen\",\"value\":5.477225575051661},\"x\":{\"field\":\"TotalCoinsMined\"},\"y\":{\"field\":\"TotalCoinSupply\"}},\"id\":\"1731\",\"type\":\"Scatter\"},{\"attributes\":{\"label\":{\"value\":\"3\"},\"renderers\":[{\"id\":\"1732\"}]},\"id\":\"1748\",\"type\":\"LegendItem\"},{\"attributes\":{\"fill_alpha\":{\"value\":0.1},\"fill_color\":{\"value\":\"#d62628\"},\"line_alpha\":{\"value\":0.1},\"line_color\":{\"value\":\"#d62628\"},\"size\":{\"units\":\"screen\",\"value\":5.477225575051661},\"x\":{\"field\":\"TotalCoinsMined\"},\"y\":{\"field\":\"TotalCoinSupply\"}},\"id\":\"1730\",\"type\":\"Scatter\"},{\"attributes\":{},\"id\":\"1640\",\"type\":\"LinearScale\"},{\"attributes\":{},\"id\":\"1655\",\"type\":\"ResetTool\"},{\"attributes\":{\"fill_alpha\":{\"value\":0.1},\"fill_color\":{\"value\":\"#ff7e0e\"},\"line_alpha\":{\"value\":0.1},\"line_color\":{\"value\":\"#ff7e0e\"},\"size\":{\"units\":\"screen\",\"value\":5.477225575051661},\"x\":{\"field\":\"TotalCoinsMined\"},\"y\":{\"field\":\"TotalCoinSupply\"}},\"id\":\"1690\",\"type\":\"Scatter\"},{\"attributes\":{\"fill_color\":{\"value\":\"#d62628\"},\"line_color\":{\"value\":\"#d62628\"},\"size\":{\"units\":\"screen\",\"value\":5.477225575051661},\"x\":{\"field\":\"TotalCoinsMined\"},\"y\":{\"field\":\"TotalCoinSupply\"}},\"id\":\"1729\",\"type\":\"Scatter\"},{\"attributes\":{},\"id\":\"1642\",\"type\":\"CategoricalScale\"},{\"attributes\":{\"source\":{\"id\":\"1726\"}},\"id\":\"1733\",\"type\":\"CDSView\"},{\"attributes\":{},\"id\":\"1722\",\"type\":\"UnionRenderers\"},{\"attributes\":{},\"id\":\"1727\",\"type\":\"Selection\"},{\"attributes\":{\"data_source\":{\"id\":\"1705\"},\"glyph\":{\"id\":\"1708\"},\"hover_glyph\":null,\"muted_glyph\":{\"id\":\"1710\"},\"nonselection_glyph\":{\"id\":\"1709\"},\"selection_glyph\":null,\"view\":{\"id\":\"1712\"}},\"id\":\"1711\",\"type\":\"GlyphRenderer\"}],\"root_ids\":[\"1627\"]},\"title\":\"Bokeh Application\",\"version\":\"2.2.1\"}};\n",
       "  var render_items = [{\"docid\":\"003dc933-8c98-4143-913d-c81bf5c1222e\",\"root_ids\":[\"1627\"],\"roots\":{\"1627\":\"01b7608e-9553-487c-aca2-356fc07f2cc0\"}}];\n",
       "  root.Bokeh.embed.embed_items_notebook(docs_json, render_items);\n",
       "  }\n",
       "if (root.Bokeh !== undefined) {\n",
       "    embed_document(root);\n",
       "  } else {\n",
       "    var attempts = 0;\n",
       "    var timer = setInterval(function(root) {\n",
       "      if (root.Bokeh !== undefined) {\n",
       "        clearInterval(timer);\n",
       "        embed_document(root);\n",
       "      } else if (document.readyState == \"complete\") {\n",
       "        attempts++;\n",
       "        if (attempts > 100) {\n",
       "          clearInterval(timer);\n",
       "          console.log(\"Bokeh: ERROR: Unable to run BokehJS code because BokehJS library is missing\");\n",
       "        }\n",
       "      }\n",
       "    }, 10, root)\n",
       "  }\n",
       "})(window);</script>"
      ],
      "text/plain": [
       ":NdOverlay   [class]\n",
       "   :Scatter   [TotalCoinsMined]   (TotalCoinSupply,CoinName)"
      ]
     },
     "execution_count": 136,
     "metadata": {
      "application/vnd.holoviews_exec.v0+json": {
       "id": "1627"
      }
     },
     "output_type": "execute_result"
    }
   ],
   "source": [
    "clustered_df.hvplot.scatter(\n",
    "\tx=\"TotalCoinsMined\",\n",
    "\ty=\"TotalCoinSupply\",\n",
    "\thover_cols=[\"CoinName\"],\n",
    "\tby=\"class\",\n",
    ")"
   ]
  },
  {
   "cell_type": "code",
   "execution_count": null,
   "metadata": {},
   "outputs": [],
   "source": []
  },
  {
   "cell_type": "code",
   "execution_count": null,
   "metadata": {},
   "outputs": [],
   "source": []
  },
  {
   "cell_type": "code",
   "execution_count": null,
   "metadata": {},
   "outputs": [],
   "source": []
  }
 ],
 "metadata": {
  "kernelspec": {
   "display_name": "Python 3",
   "language": "python",
   "name": "python3"
  },
  "language_info": {
   "codemirror_mode": {
    "name": "ipython",
    "version": 3
   },
   "file_extension": ".py",
   "mimetype": "text/x-python",
   "name": "python",
   "nbconvert_exporter": "python",
   "pygments_lexer": "ipython3",
   "version": "3.7.9"
  }
 },
 "nbformat": 4,
 "nbformat_minor": 4
}
